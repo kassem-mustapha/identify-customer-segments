{
 "cells": [
  {
   "cell_type": "markdown",
   "metadata": {},
   "source": [
    "# Project: Identify Customer Segments\n",
    "\n",
    "In this project, you will apply unsupervised learning techniques to identify segments of the population that form the core customer base for a mail-order sales company in Germany. These segments can then be used to direct marketing campaigns towards audiences that will have the highest expected rate of returns. The data that you will use has been provided by our partners at Bertelsmann Arvato Analytics, and represents a real-life data science task.\n",
    "\n",
    "This notebook will help you complete this task by providing a framework within which you will perform your analysis steps. In each step of the project, you will see some text describing the subtask that you will perform, followed by one or more code cells for you to complete your work. **Feel free to add additional code and markdown cells as you go along so that you can explore everything in precise chunks.** The code cells provided in the base template will outline only the major tasks, and will usually not be enough to cover all of the minor tasks that comprise it.\n",
    "\n",
    "It should be noted that while there will be precise guidelines on how you should handle certain tasks in the project, there will also be places where an exact specification is not provided. **There will be times in the project where you will need to make and justify your own decisions on how to treat the data.** These are places where there may not be only one way to handle the data. In real-life tasks, there may be many valid ways to approach an analysis task. One of the most important things you can do is clearly document your approach so that other scientists can understand the decisions you've made.\n",
    "\n",
    "At the end of most sections, there will be a Markdown cell labeled **Discussion**. In these cells, you will report your findings for the completed section, as well as document the decisions that you made in your approach to each subtask. **Your project will be evaluated not just on the code used to complete the tasks outlined, but also your communication about your observations and conclusions at each stage.**"
   ]
  },
  {
   "cell_type": "code",
   "execution_count": 1,
   "metadata": {},
   "outputs": [],
   "source": [
    "# import libraries here; add more as necessary\n",
    "import numpy as np\n",
    "import pandas as pd\n",
    "import matplotlib.pyplot as plt\n",
    "import seaborn as sns\n",
    "\n",
    "# magic word for producing visualizations in notebook\n",
    "%matplotlib inline\n",
    "\n",
    "'''\n",
    "Import note: The classroom currently uses sklearn version 0.19.\n",
    "If you need to use an imputer, it is available in sklearn.preprocessing.Imputer,\n",
    "instead of sklearn.impute as in newer versions of sklearn.\n",
    "'''\n",
    "from sklearn.preprocessing import Imputer, StandardScaler\n",
    "from sklearn.decomposition import PCA\n",
    "from sklearn.cluster import KMeans"
   ]
  },
  {
   "cell_type": "markdown",
   "metadata": {},
   "source": [
    "### Step 0: Load the Data\n",
    "\n",
    "There are four files associated with this project (not including this one):\n",
    "\n",
    "- `Udacity_AZDIAS_Subset.csv`: Demographics data for the general population of Germany; 891211 persons (rows) x 85 features (columns).\n",
    "- `Udacity_CUSTOMERS_Subset.csv`: Demographics data for customers of a mail-order company; 191652 persons (rows) x 85 features (columns).\n",
    "- `Data_Dictionary.md`: Detailed information file about the features in the provided datasets.\n",
    "- `AZDIAS_Feature_Summary.csv`: Summary of feature attributes for demographics data; 85 features (rows) x 4 columns\n",
    "\n",
    "Each row of the demographics files represents a single person, but also includes information outside of individuals, including information about their household, building, and neighborhood. You will use this information to cluster the general population into groups with similar demographic properties. Then, you will see how the people in the customers dataset fit into those created clusters. The hope here is that certain clusters are over-represented in the customers data, as compared to the general population; those over-represented clusters will be assumed to be part of the core userbase. This information can then be used for further applications, such as targeting for a marketing campaign.\n",
    "\n",
    "To start off with, load in the demographics data for the general population into a pandas DataFrame, and do the same for the feature attributes summary. Note for all of the `.csv` data files in this project: they're semicolon (`;`) delimited, so you'll need an additional argument in your [`read_csv()`](https://pandas.pydata.org/pandas-docs/stable/generated/pandas.read_csv.html) call to read in the data properly. Also, considering the size of the main dataset, it may take some time for it to load completely.\n",
    "\n",
    "Once the dataset is loaded, it's recommended that you take a little bit of time just browsing the general structure of the dataset and feature summary file. You'll be getting deep into the innards of the cleaning in the first major step of the project, so gaining some general familiarity can help you get your bearings."
   ]
  },
  {
   "cell_type": "code",
   "execution_count": 2,
   "metadata": {},
   "outputs": [],
   "source": [
    "# Load in the general demographics data.\n",
    "azdias = pd.read_csv(\"Udacity_AZDIAS_Subset.csv\", delimiter=\";\")"
   ]
  },
  {
   "cell_type": "code",
   "execution_count": 3,
   "metadata": {},
   "outputs": [
    {
     "data": {
      "text/plain": [
       "(891221, 85)"
      ]
     },
     "execution_count": 3,
     "metadata": {},
     "output_type": "execute_result"
    }
   ],
   "source": [
    "azdias.shape"
   ]
  },
  {
   "cell_type": "code",
   "execution_count": 4,
   "metadata": {},
   "outputs": [
    {
     "data": {
      "text/html": [
       "<div>\n",
       "<style scoped>\n",
       "    .dataframe tbody tr th:only-of-type {\n",
       "        vertical-align: middle;\n",
       "    }\n",
       "\n",
       "    .dataframe tbody tr th {\n",
       "        vertical-align: top;\n",
       "    }\n",
       "\n",
       "    .dataframe thead th {\n",
       "        text-align: right;\n",
       "    }\n",
       "</style>\n",
       "<table border=\"1\" class=\"dataframe\">\n",
       "  <thead>\n",
       "    <tr style=\"text-align: right;\">\n",
       "      <th></th>\n",
       "      <th>AGER_TYP</th>\n",
       "      <th>ALTERSKATEGORIE_GROB</th>\n",
       "      <th>ANREDE_KZ</th>\n",
       "      <th>CJT_GESAMTTYP</th>\n",
       "      <th>FINANZ_MINIMALIST</th>\n",
       "      <th>FINANZ_SPARER</th>\n",
       "      <th>FINANZ_VORSORGER</th>\n",
       "      <th>FINANZ_ANLEGER</th>\n",
       "      <th>FINANZ_UNAUFFAELLIGER</th>\n",
       "      <th>FINANZ_HAUSBAUER</th>\n",
       "      <th>...</th>\n",
       "      <th>PLZ8_ANTG1</th>\n",
       "      <th>PLZ8_ANTG2</th>\n",
       "      <th>PLZ8_ANTG3</th>\n",
       "      <th>PLZ8_ANTG4</th>\n",
       "      <th>PLZ8_BAUMAX</th>\n",
       "      <th>PLZ8_HHZ</th>\n",
       "      <th>PLZ8_GBZ</th>\n",
       "      <th>ARBEIT</th>\n",
       "      <th>ORTSGR_KLS9</th>\n",
       "      <th>RELAT_AB</th>\n",
       "    </tr>\n",
       "  </thead>\n",
       "  <tbody>\n",
       "    <tr>\n",
       "      <th>0</th>\n",
       "      <td>-1</td>\n",
       "      <td>2</td>\n",
       "      <td>1</td>\n",
       "      <td>2.0</td>\n",
       "      <td>3</td>\n",
       "      <td>4</td>\n",
       "      <td>3</td>\n",
       "      <td>5</td>\n",
       "      <td>5</td>\n",
       "      <td>3</td>\n",
       "      <td>...</td>\n",
       "      <td>NaN</td>\n",
       "      <td>NaN</td>\n",
       "      <td>NaN</td>\n",
       "      <td>NaN</td>\n",
       "      <td>NaN</td>\n",
       "      <td>NaN</td>\n",
       "      <td>NaN</td>\n",
       "      <td>NaN</td>\n",
       "      <td>NaN</td>\n",
       "      <td>NaN</td>\n",
       "    </tr>\n",
       "    <tr>\n",
       "      <th>1</th>\n",
       "      <td>-1</td>\n",
       "      <td>1</td>\n",
       "      <td>2</td>\n",
       "      <td>5.0</td>\n",
       "      <td>1</td>\n",
       "      <td>5</td>\n",
       "      <td>2</td>\n",
       "      <td>5</td>\n",
       "      <td>4</td>\n",
       "      <td>5</td>\n",
       "      <td>...</td>\n",
       "      <td>2.0</td>\n",
       "      <td>3.0</td>\n",
       "      <td>2.0</td>\n",
       "      <td>1.0</td>\n",
       "      <td>1.0</td>\n",
       "      <td>5.0</td>\n",
       "      <td>4.0</td>\n",
       "      <td>3.0</td>\n",
       "      <td>5.0</td>\n",
       "      <td>4.0</td>\n",
       "    </tr>\n",
       "    <tr>\n",
       "      <th>2</th>\n",
       "      <td>-1</td>\n",
       "      <td>3</td>\n",
       "      <td>2</td>\n",
       "      <td>3.0</td>\n",
       "      <td>1</td>\n",
       "      <td>4</td>\n",
       "      <td>1</td>\n",
       "      <td>2</td>\n",
       "      <td>3</td>\n",
       "      <td>5</td>\n",
       "      <td>...</td>\n",
       "      <td>3.0</td>\n",
       "      <td>3.0</td>\n",
       "      <td>1.0</td>\n",
       "      <td>0.0</td>\n",
       "      <td>1.0</td>\n",
       "      <td>4.0</td>\n",
       "      <td>4.0</td>\n",
       "      <td>3.0</td>\n",
       "      <td>5.0</td>\n",
       "      <td>2.0</td>\n",
       "    </tr>\n",
       "    <tr>\n",
       "      <th>3</th>\n",
       "      <td>2</td>\n",
       "      <td>4</td>\n",
       "      <td>2</td>\n",
       "      <td>2.0</td>\n",
       "      <td>4</td>\n",
       "      <td>2</td>\n",
       "      <td>5</td>\n",
       "      <td>2</td>\n",
       "      <td>1</td>\n",
       "      <td>2</td>\n",
       "      <td>...</td>\n",
       "      <td>2.0</td>\n",
       "      <td>2.0</td>\n",
       "      <td>2.0</td>\n",
       "      <td>0.0</td>\n",
       "      <td>1.0</td>\n",
       "      <td>3.0</td>\n",
       "      <td>4.0</td>\n",
       "      <td>2.0</td>\n",
       "      <td>3.0</td>\n",
       "      <td>3.0</td>\n",
       "    </tr>\n",
       "    <tr>\n",
       "      <th>4</th>\n",
       "      <td>-1</td>\n",
       "      <td>3</td>\n",
       "      <td>1</td>\n",
       "      <td>5.0</td>\n",
       "      <td>4</td>\n",
       "      <td>3</td>\n",
       "      <td>4</td>\n",
       "      <td>1</td>\n",
       "      <td>3</td>\n",
       "      <td>2</td>\n",
       "      <td>...</td>\n",
       "      <td>2.0</td>\n",
       "      <td>4.0</td>\n",
       "      <td>2.0</td>\n",
       "      <td>1.0</td>\n",
       "      <td>2.0</td>\n",
       "      <td>3.0</td>\n",
       "      <td>3.0</td>\n",
       "      <td>4.0</td>\n",
       "      <td>6.0</td>\n",
       "      <td>5.0</td>\n",
       "    </tr>\n",
       "  </tbody>\n",
       "</table>\n",
       "<p>5 rows × 85 columns</p>\n",
       "</div>"
      ],
      "text/plain": [
       "   AGER_TYP  ALTERSKATEGORIE_GROB  ANREDE_KZ  CJT_GESAMTTYP  \\\n",
       "0        -1                     2          1            2.0   \n",
       "1        -1                     1          2            5.0   \n",
       "2        -1                     3          2            3.0   \n",
       "3         2                     4          2            2.0   \n",
       "4        -1                     3          1            5.0   \n",
       "\n",
       "   FINANZ_MINIMALIST  FINANZ_SPARER  FINANZ_VORSORGER  FINANZ_ANLEGER  \\\n",
       "0                  3              4                 3               5   \n",
       "1                  1              5                 2               5   \n",
       "2                  1              4                 1               2   \n",
       "3                  4              2                 5               2   \n",
       "4                  4              3                 4               1   \n",
       "\n",
       "   FINANZ_UNAUFFAELLIGER  FINANZ_HAUSBAUER    ...     PLZ8_ANTG1  PLZ8_ANTG2  \\\n",
       "0                      5                 3    ...            NaN         NaN   \n",
       "1                      4                 5    ...            2.0         3.0   \n",
       "2                      3                 5    ...            3.0         3.0   \n",
       "3                      1                 2    ...            2.0         2.0   \n",
       "4                      3                 2    ...            2.0         4.0   \n",
       "\n",
       "   PLZ8_ANTG3  PLZ8_ANTG4  PLZ8_BAUMAX  PLZ8_HHZ  PLZ8_GBZ  ARBEIT  \\\n",
       "0         NaN         NaN          NaN       NaN       NaN     NaN   \n",
       "1         2.0         1.0          1.0       5.0       4.0     3.0   \n",
       "2         1.0         0.0          1.0       4.0       4.0     3.0   \n",
       "3         2.0         0.0          1.0       3.0       4.0     2.0   \n",
       "4         2.0         1.0          2.0       3.0       3.0     4.0   \n",
       "\n",
       "   ORTSGR_KLS9  RELAT_AB  \n",
       "0          NaN       NaN  \n",
       "1          5.0       4.0  \n",
       "2          5.0       2.0  \n",
       "3          3.0       3.0  \n",
       "4          6.0       5.0  \n",
       "\n",
       "[5 rows x 85 columns]"
      ]
     },
     "execution_count": 4,
     "metadata": {},
     "output_type": "execute_result"
    }
   ],
   "source": [
    "azdias.head()"
   ]
  },
  {
   "cell_type": "code",
   "execution_count": 5,
   "metadata": {},
   "outputs": [
    {
     "data": {
      "text/html": [
       "<div>\n",
       "<style scoped>\n",
       "    .dataframe tbody tr th:only-of-type {\n",
       "        vertical-align: middle;\n",
       "    }\n",
       "\n",
       "    .dataframe tbody tr th {\n",
       "        vertical-align: top;\n",
       "    }\n",
       "\n",
       "    .dataframe thead th {\n",
       "        text-align: right;\n",
       "    }\n",
       "</style>\n",
       "<table border=\"1\" class=\"dataframe\">\n",
       "  <thead>\n",
       "    <tr style=\"text-align: right;\">\n",
       "      <th></th>\n",
       "      <th>AGER_TYP</th>\n",
       "      <th>ALTERSKATEGORIE_GROB</th>\n",
       "      <th>ANREDE_KZ</th>\n",
       "      <th>CJT_GESAMTTYP</th>\n",
       "      <th>FINANZ_MINIMALIST</th>\n",
       "      <th>FINANZ_SPARER</th>\n",
       "      <th>FINANZ_VORSORGER</th>\n",
       "      <th>FINANZ_ANLEGER</th>\n",
       "      <th>FINANZ_UNAUFFAELLIGER</th>\n",
       "      <th>FINANZ_HAUSBAUER</th>\n",
       "      <th>...</th>\n",
       "      <th>PLZ8_ANTG1</th>\n",
       "      <th>PLZ8_ANTG2</th>\n",
       "      <th>PLZ8_ANTG3</th>\n",
       "      <th>PLZ8_ANTG4</th>\n",
       "      <th>PLZ8_BAUMAX</th>\n",
       "      <th>PLZ8_HHZ</th>\n",
       "      <th>PLZ8_GBZ</th>\n",
       "      <th>ARBEIT</th>\n",
       "      <th>ORTSGR_KLS9</th>\n",
       "      <th>RELAT_AB</th>\n",
       "    </tr>\n",
       "  </thead>\n",
       "  <tbody>\n",
       "    <tr>\n",
       "      <th>count</th>\n",
       "      <td>891221.000000</td>\n",
       "      <td>891221.000000</td>\n",
       "      <td>891221.000000</td>\n",
       "      <td>886367.000000</td>\n",
       "      <td>891221.000000</td>\n",
       "      <td>891221.000000</td>\n",
       "      <td>891221.000000</td>\n",
       "      <td>891221.000000</td>\n",
       "      <td>891221.000000</td>\n",
       "      <td>891221.000000</td>\n",
       "      <td>...</td>\n",
       "      <td>774706.000000</td>\n",
       "      <td>774706.000000</td>\n",
       "      <td>774706.000000</td>\n",
       "      <td>774706.000000</td>\n",
       "      <td>774706.000000</td>\n",
       "      <td>774706.000000</td>\n",
       "      <td>774706.000000</td>\n",
       "      <td>794005.000000</td>\n",
       "      <td>794005.000000</td>\n",
       "      <td>794005.00000</td>\n",
       "    </tr>\n",
       "    <tr>\n",
       "      <th>mean</th>\n",
       "      <td>-0.358435</td>\n",
       "      <td>2.777398</td>\n",
       "      <td>1.522098</td>\n",
       "      <td>3.632838</td>\n",
       "      <td>3.074528</td>\n",
       "      <td>2.821039</td>\n",
       "      <td>3.401106</td>\n",
       "      <td>3.033328</td>\n",
       "      <td>2.874167</td>\n",
       "      <td>3.075121</td>\n",
       "      <td>...</td>\n",
       "      <td>2.253330</td>\n",
       "      <td>2.801858</td>\n",
       "      <td>1.595426</td>\n",
       "      <td>0.699166</td>\n",
       "      <td>1.943913</td>\n",
       "      <td>3.612821</td>\n",
       "      <td>3.381087</td>\n",
       "      <td>3.167854</td>\n",
       "      <td>5.293002</td>\n",
       "      <td>3.07222</td>\n",
       "    </tr>\n",
       "    <tr>\n",
       "      <th>std</th>\n",
       "      <td>1.198724</td>\n",
       "      <td>1.068775</td>\n",
       "      <td>0.499512</td>\n",
       "      <td>1.595021</td>\n",
       "      <td>1.321055</td>\n",
       "      <td>1.464749</td>\n",
       "      <td>1.322134</td>\n",
       "      <td>1.529603</td>\n",
       "      <td>1.486731</td>\n",
       "      <td>1.353248</td>\n",
       "      <td>...</td>\n",
       "      <td>0.972008</td>\n",
       "      <td>0.920309</td>\n",
       "      <td>0.986736</td>\n",
       "      <td>0.727137</td>\n",
       "      <td>1.459654</td>\n",
       "      <td>0.973967</td>\n",
       "      <td>1.111598</td>\n",
       "      <td>1.002376</td>\n",
       "      <td>2.303739</td>\n",
       "      <td>1.36298</td>\n",
       "    </tr>\n",
       "    <tr>\n",
       "      <th>min</th>\n",
       "      <td>-1.000000</td>\n",
       "      <td>1.000000</td>\n",
       "      <td>1.000000</td>\n",
       "      <td>1.000000</td>\n",
       "      <td>1.000000</td>\n",
       "      <td>1.000000</td>\n",
       "      <td>1.000000</td>\n",
       "      <td>1.000000</td>\n",
       "      <td>1.000000</td>\n",
       "      <td>1.000000</td>\n",
       "      <td>...</td>\n",
       "      <td>0.000000</td>\n",
       "      <td>0.000000</td>\n",
       "      <td>0.000000</td>\n",
       "      <td>0.000000</td>\n",
       "      <td>1.000000</td>\n",
       "      <td>1.000000</td>\n",
       "      <td>1.000000</td>\n",
       "      <td>1.000000</td>\n",
       "      <td>0.000000</td>\n",
       "      <td>1.00000</td>\n",
       "    </tr>\n",
       "    <tr>\n",
       "      <th>25%</th>\n",
       "      <td>-1.000000</td>\n",
       "      <td>2.000000</td>\n",
       "      <td>1.000000</td>\n",
       "      <td>2.000000</td>\n",
       "      <td>2.000000</td>\n",
       "      <td>1.000000</td>\n",
       "      <td>3.000000</td>\n",
       "      <td>2.000000</td>\n",
       "      <td>2.000000</td>\n",
       "      <td>2.000000</td>\n",
       "      <td>...</td>\n",
       "      <td>1.000000</td>\n",
       "      <td>2.000000</td>\n",
       "      <td>1.000000</td>\n",
       "      <td>0.000000</td>\n",
       "      <td>1.000000</td>\n",
       "      <td>3.000000</td>\n",
       "      <td>3.000000</td>\n",
       "      <td>3.000000</td>\n",
       "      <td>4.000000</td>\n",
       "      <td>2.00000</td>\n",
       "    </tr>\n",
       "    <tr>\n",
       "      <th>50%</th>\n",
       "      <td>-1.000000</td>\n",
       "      <td>3.000000</td>\n",
       "      <td>2.000000</td>\n",
       "      <td>4.000000</td>\n",
       "      <td>3.000000</td>\n",
       "      <td>3.000000</td>\n",
       "      <td>3.000000</td>\n",
       "      <td>3.000000</td>\n",
       "      <td>3.000000</td>\n",
       "      <td>3.000000</td>\n",
       "      <td>...</td>\n",
       "      <td>2.000000</td>\n",
       "      <td>3.000000</td>\n",
       "      <td>2.000000</td>\n",
       "      <td>1.000000</td>\n",
       "      <td>1.000000</td>\n",
       "      <td>4.000000</td>\n",
       "      <td>3.000000</td>\n",
       "      <td>3.000000</td>\n",
       "      <td>5.000000</td>\n",
       "      <td>3.00000</td>\n",
       "    </tr>\n",
       "    <tr>\n",
       "      <th>75%</th>\n",
       "      <td>-1.000000</td>\n",
       "      <td>4.000000</td>\n",
       "      <td>2.000000</td>\n",
       "      <td>5.000000</td>\n",
       "      <td>4.000000</td>\n",
       "      <td>4.000000</td>\n",
       "      <td>5.000000</td>\n",
       "      <td>5.000000</td>\n",
       "      <td>4.000000</td>\n",
       "      <td>4.000000</td>\n",
       "      <td>...</td>\n",
       "      <td>3.000000</td>\n",
       "      <td>3.000000</td>\n",
       "      <td>2.000000</td>\n",
       "      <td>1.000000</td>\n",
       "      <td>3.000000</td>\n",
       "      <td>4.000000</td>\n",
       "      <td>4.000000</td>\n",
       "      <td>4.000000</td>\n",
       "      <td>7.000000</td>\n",
       "      <td>4.00000</td>\n",
       "    </tr>\n",
       "    <tr>\n",
       "      <th>max</th>\n",
       "      <td>3.000000</td>\n",
       "      <td>9.000000</td>\n",
       "      <td>2.000000</td>\n",
       "      <td>6.000000</td>\n",
       "      <td>5.000000</td>\n",
       "      <td>5.000000</td>\n",
       "      <td>5.000000</td>\n",
       "      <td>5.000000</td>\n",
       "      <td>5.000000</td>\n",
       "      <td>5.000000</td>\n",
       "      <td>...</td>\n",
       "      <td>4.000000</td>\n",
       "      <td>4.000000</td>\n",
       "      <td>3.000000</td>\n",
       "      <td>2.000000</td>\n",
       "      <td>5.000000</td>\n",
       "      <td>5.000000</td>\n",
       "      <td>5.000000</td>\n",
       "      <td>9.000000</td>\n",
       "      <td>9.000000</td>\n",
       "      <td>9.00000</td>\n",
       "    </tr>\n",
       "  </tbody>\n",
       "</table>\n",
       "<p>8 rows × 81 columns</p>\n",
       "</div>"
      ],
      "text/plain": [
       "            AGER_TYP  ALTERSKATEGORIE_GROB      ANREDE_KZ  CJT_GESAMTTYP  \\\n",
       "count  891221.000000         891221.000000  891221.000000  886367.000000   \n",
       "mean       -0.358435              2.777398       1.522098       3.632838   \n",
       "std         1.198724              1.068775       0.499512       1.595021   \n",
       "min        -1.000000              1.000000       1.000000       1.000000   \n",
       "25%        -1.000000              2.000000       1.000000       2.000000   \n",
       "50%        -1.000000              3.000000       2.000000       4.000000   \n",
       "75%        -1.000000              4.000000       2.000000       5.000000   \n",
       "max         3.000000              9.000000       2.000000       6.000000   \n",
       "\n",
       "       FINANZ_MINIMALIST  FINANZ_SPARER  FINANZ_VORSORGER  FINANZ_ANLEGER  \\\n",
       "count      891221.000000  891221.000000     891221.000000   891221.000000   \n",
       "mean            3.074528       2.821039          3.401106        3.033328   \n",
       "std             1.321055       1.464749          1.322134        1.529603   \n",
       "min             1.000000       1.000000          1.000000        1.000000   \n",
       "25%             2.000000       1.000000          3.000000        2.000000   \n",
       "50%             3.000000       3.000000          3.000000        3.000000   \n",
       "75%             4.000000       4.000000          5.000000        5.000000   \n",
       "max             5.000000       5.000000          5.000000        5.000000   \n",
       "\n",
       "       FINANZ_UNAUFFAELLIGER  FINANZ_HAUSBAUER      ...          PLZ8_ANTG1  \\\n",
       "count          891221.000000     891221.000000      ...       774706.000000   \n",
       "mean                2.874167          3.075121      ...            2.253330   \n",
       "std                 1.486731          1.353248      ...            0.972008   \n",
       "min                 1.000000          1.000000      ...            0.000000   \n",
       "25%                 2.000000          2.000000      ...            1.000000   \n",
       "50%                 3.000000          3.000000      ...            2.000000   \n",
       "75%                 4.000000          4.000000      ...            3.000000   \n",
       "max                 5.000000          5.000000      ...            4.000000   \n",
       "\n",
       "          PLZ8_ANTG2     PLZ8_ANTG3     PLZ8_ANTG4    PLZ8_BAUMAX  \\\n",
       "count  774706.000000  774706.000000  774706.000000  774706.000000   \n",
       "mean        2.801858       1.595426       0.699166       1.943913   \n",
       "std         0.920309       0.986736       0.727137       1.459654   \n",
       "min         0.000000       0.000000       0.000000       1.000000   \n",
       "25%         2.000000       1.000000       0.000000       1.000000   \n",
       "50%         3.000000       2.000000       1.000000       1.000000   \n",
       "75%         3.000000       2.000000       1.000000       3.000000   \n",
       "max         4.000000       3.000000       2.000000       5.000000   \n",
       "\n",
       "            PLZ8_HHZ       PLZ8_GBZ         ARBEIT    ORTSGR_KLS9  \\\n",
       "count  774706.000000  774706.000000  794005.000000  794005.000000   \n",
       "mean        3.612821       3.381087       3.167854       5.293002   \n",
       "std         0.973967       1.111598       1.002376       2.303739   \n",
       "min         1.000000       1.000000       1.000000       0.000000   \n",
       "25%         3.000000       3.000000       3.000000       4.000000   \n",
       "50%         4.000000       3.000000       3.000000       5.000000   \n",
       "75%         4.000000       4.000000       4.000000       7.000000   \n",
       "max         5.000000       5.000000       9.000000       9.000000   \n",
       "\n",
       "           RELAT_AB  \n",
       "count  794005.00000  \n",
       "mean        3.07222  \n",
       "std         1.36298  \n",
       "min         1.00000  \n",
       "25%         2.00000  \n",
       "50%         3.00000  \n",
       "75%         4.00000  \n",
       "max         9.00000  \n",
       "\n",
       "[8 rows x 81 columns]"
      ]
     },
     "execution_count": 5,
     "metadata": {},
     "output_type": "execute_result"
    }
   ],
   "source": [
    "# Check the structure of the data after it's loaded (e.g. print the number of\n",
    "# rows and columns, print the first few rows).\n",
    "azdias.describe()"
   ]
  },
  {
   "cell_type": "code",
   "execution_count": 6,
   "metadata": {
    "scrolled": true
   },
   "outputs": [
    {
     "name": "stdout",
     "output_type": "stream",
     "text": [
      "<class 'pandas.core.frame.DataFrame'>\n",
      "RangeIndex: 891221 entries, 0 to 891220\n",
      "Data columns (total 85 columns):\n",
      "AGER_TYP                 891221 non-null int64\n",
      "ALTERSKATEGORIE_GROB     891221 non-null int64\n",
      "ANREDE_KZ                891221 non-null int64\n",
      "CJT_GESAMTTYP            886367 non-null float64\n",
      "FINANZ_MINIMALIST        891221 non-null int64\n",
      "FINANZ_SPARER            891221 non-null int64\n",
      "FINANZ_VORSORGER         891221 non-null int64\n",
      "FINANZ_ANLEGER           891221 non-null int64\n",
      "FINANZ_UNAUFFAELLIGER    891221 non-null int64\n",
      "FINANZ_HAUSBAUER         891221 non-null int64\n",
      "FINANZTYP                891221 non-null int64\n",
      "GEBURTSJAHR              891221 non-null int64\n",
      "GFK_URLAUBERTYP          886367 non-null float64\n",
      "GREEN_AVANTGARDE         891221 non-null int64\n",
      "HEALTH_TYP               891221 non-null int64\n",
      "LP_LEBENSPHASE_FEIN      886367 non-null float64\n",
      "LP_LEBENSPHASE_GROB      886367 non-null float64\n",
      "LP_FAMILIE_FEIN          886367 non-null float64\n",
      "LP_FAMILIE_GROB          886367 non-null float64\n",
      "LP_STATUS_FEIN           886367 non-null float64\n",
      "LP_STATUS_GROB           886367 non-null float64\n",
      "NATIONALITAET_KZ         891221 non-null int64\n",
      "PRAEGENDE_JUGENDJAHRE    891221 non-null int64\n",
      "RETOURTYP_BK_S           886367 non-null float64\n",
      "SEMIO_SOZ                891221 non-null int64\n",
      "SEMIO_FAM                891221 non-null int64\n",
      "SEMIO_REL                891221 non-null int64\n",
      "SEMIO_MAT                891221 non-null int64\n",
      "SEMIO_VERT               891221 non-null int64\n",
      "SEMIO_LUST               891221 non-null int64\n",
      "SEMIO_ERL                891221 non-null int64\n",
      "SEMIO_KULT               891221 non-null int64\n",
      "SEMIO_RAT                891221 non-null int64\n",
      "SEMIO_KRIT               891221 non-null int64\n",
      "SEMIO_DOM                891221 non-null int64\n",
      "SEMIO_KAEM               891221 non-null int64\n",
      "SEMIO_PFLICHT            891221 non-null int64\n",
      "SEMIO_TRADV              891221 non-null int64\n",
      "SHOPPER_TYP              891221 non-null int64\n",
      "SOHO_KZ                  817722 non-null float64\n",
      "TITEL_KZ                 817722 non-null float64\n",
      "VERS_TYP                 891221 non-null int64\n",
      "ZABEOTYP                 891221 non-null int64\n",
      "ALTER_HH                 817722 non-null float64\n",
      "ANZ_PERSONEN             817722 non-null float64\n",
      "ANZ_TITEL                817722 non-null float64\n",
      "HH_EINKOMMEN_SCORE       872873 non-null float64\n",
      "KK_KUNDENTYP             306609 non-null float64\n",
      "W_KEIT_KIND_HH           783619 non-null float64\n",
      "WOHNDAUER_2008           817722 non-null float64\n",
      "ANZ_HAUSHALTE_AKTIV      798073 non-null float64\n",
      "ANZ_HH_TITEL             794213 non-null float64\n",
      "GEBAEUDETYP              798073 non-null float64\n",
      "KONSUMNAEHE              817252 non-null float64\n",
      "MIN_GEBAEUDEJAHR         798073 non-null float64\n",
      "OST_WEST_KZ              798073 non-null object\n",
      "WOHNLAGE                 798073 non-null float64\n",
      "CAMEO_DEUG_2015          792242 non-null object\n",
      "CAMEO_DEU_2015           792242 non-null object\n",
      "CAMEO_INTL_2015          792242 non-null object\n",
      "KBA05_ANTG1              757897 non-null float64\n",
      "KBA05_ANTG2              757897 non-null float64\n",
      "KBA05_ANTG3              757897 non-null float64\n",
      "KBA05_ANTG4              757897 non-null float64\n",
      "KBA05_BAUMAX             757897 non-null float64\n",
      "KBA05_GBZ                757897 non-null float64\n",
      "BALLRAUM                 797481 non-null float64\n",
      "EWDICHTE                 797481 non-null float64\n",
      "INNENSTADT               797481 non-null float64\n",
      "GEBAEUDETYP_RASTER       798066 non-null float64\n",
      "KKK                      770025 non-null float64\n",
      "MOBI_REGIO               757897 non-null float64\n",
      "ONLINE_AFFINITAET        886367 non-null float64\n",
      "REGIOTYP                 770025 non-null float64\n",
      "KBA13_ANZAHL_PKW         785421 non-null float64\n",
      "PLZ8_ANTG1               774706 non-null float64\n",
      "PLZ8_ANTG2               774706 non-null float64\n",
      "PLZ8_ANTG3               774706 non-null float64\n",
      "PLZ8_ANTG4               774706 non-null float64\n",
      "PLZ8_BAUMAX              774706 non-null float64\n",
      "PLZ8_HHZ                 774706 non-null float64\n",
      "PLZ8_GBZ                 774706 non-null float64\n",
      "ARBEIT                   794005 non-null float64\n",
      "ORTSGR_KLS9              794005 non-null float64\n",
      "RELAT_AB                 794005 non-null float64\n",
      "dtypes: float64(49), int64(32), object(4)\n",
      "memory usage: 578.0+ MB\n"
     ]
    }
   ],
   "source": [
    "azdias.info()"
   ]
  },
  {
   "cell_type": "code",
   "execution_count": 7,
   "metadata": {},
   "outputs": [],
   "source": [
    "# Load in the feature summary file.\n",
    "feat_info = pd.read_csv(\"AZDIAS_Feature_Summary.csv\", delimiter=\";\")"
   ]
  },
  {
   "cell_type": "code",
   "execution_count": 8,
   "metadata": {},
   "outputs": [
    {
     "data": {
      "text/plain": [
       "(85, 4)"
      ]
     },
     "execution_count": 8,
     "metadata": {},
     "output_type": "execute_result"
    }
   ],
   "source": [
    "feat_info.shape"
   ]
  },
  {
   "cell_type": "code",
   "execution_count": 9,
   "metadata": {},
   "outputs": [
    {
     "data": {
      "text/html": [
       "<div>\n",
       "<style scoped>\n",
       "    .dataframe tbody tr th:only-of-type {\n",
       "        vertical-align: middle;\n",
       "    }\n",
       "\n",
       "    .dataframe tbody tr th {\n",
       "        vertical-align: top;\n",
       "    }\n",
       "\n",
       "    .dataframe thead th {\n",
       "        text-align: right;\n",
       "    }\n",
       "</style>\n",
       "<table border=\"1\" class=\"dataframe\">\n",
       "  <thead>\n",
       "    <tr style=\"text-align: right;\">\n",
       "      <th></th>\n",
       "      <th>attribute</th>\n",
       "      <th>information_level</th>\n",
       "      <th>type</th>\n",
       "      <th>missing_or_unknown</th>\n",
       "    </tr>\n",
       "  </thead>\n",
       "  <tbody>\n",
       "    <tr>\n",
       "      <th>0</th>\n",
       "      <td>AGER_TYP</td>\n",
       "      <td>person</td>\n",
       "      <td>categorical</td>\n",
       "      <td>[-1,0]</td>\n",
       "    </tr>\n",
       "    <tr>\n",
       "      <th>1</th>\n",
       "      <td>ALTERSKATEGORIE_GROB</td>\n",
       "      <td>person</td>\n",
       "      <td>ordinal</td>\n",
       "      <td>[-1,0,9]</td>\n",
       "    </tr>\n",
       "    <tr>\n",
       "      <th>2</th>\n",
       "      <td>ANREDE_KZ</td>\n",
       "      <td>person</td>\n",
       "      <td>categorical</td>\n",
       "      <td>[-1,0]</td>\n",
       "    </tr>\n",
       "    <tr>\n",
       "      <th>3</th>\n",
       "      <td>CJT_GESAMTTYP</td>\n",
       "      <td>person</td>\n",
       "      <td>categorical</td>\n",
       "      <td>[0]</td>\n",
       "    </tr>\n",
       "    <tr>\n",
       "      <th>4</th>\n",
       "      <td>FINANZ_MINIMALIST</td>\n",
       "      <td>person</td>\n",
       "      <td>ordinal</td>\n",
       "      <td>[-1]</td>\n",
       "    </tr>\n",
       "  </tbody>\n",
       "</table>\n",
       "</div>"
      ],
      "text/plain": [
       "              attribute information_level         type missing_or_unknown\n",
       "0              AGER_TYP            person  categorical             [-1,0]\n",
       "1  ALTERSKATEGORIE_GROB            person      ordinal           [-1,0,9]\n",
       "2             ANREDE_KZ            person  categorical             [-1,0]\n",
       "3         CJT_GESAMTTYP            person  categorical                [0]\n",
       "4     FINANZ_MINIMALIST            person      ordinal               [-1]"
      ]
     },
     "execution_count": 9,
     "metadata": {},
     "output_type": "execute_result"
    }
   ],
   "source": [
    "feat_info.head()"
   ]
  },
  {
   "cell_type": "code",
   "execution_count": 10,
   "metadata": {},
   "outputs": [
    {
     "data": {
      "text/html": [
       "<div>\n",
       "<style scoped>\n",
       "    .dataframe tbody tr th:only-of-type {\n",
       "        vertical-align: middle;\n",
       "    }\n",
       "\n",
       "    .dataframe tbody tr th {\n",
       "        vertical-align: top;\n",
       "    }\n",
       "\n",
       "    .dataframe thead th {\n",
       "        text-align: right;\n",
       "    }\n",
       "</style>\n",
       "<table border=\"1\" class=\"dataframe\">\n",
       "  <thead>\n",
       "    <tr style=\"text-align: right;\">\n",
       "      <th></th>\n",
       "      <th>attribute</th>\n",
       "      <th>information_level</th>\n",
       "      <th>type</th>\n",
       "      <th>missing_or_unknown</th>\n",
       "    </tr>\n",
       "  </thead>\n",
       "  <tbody>\n",
       "    <tr>\n",
       "      <th>count</th>\n",
       "      <td>85</td>\n",
       "      <td>85</td>\n",
       "      <td>85</td>\n",
       "      <td>85</td>\n",
       "    </tr>\n",
       "    <tr>\n",
       "      <th>unique</th>\n",
       "      <td>85</td>\n",
       "      <td>9</td>\n",
       "      <td>5</td>\n",
       "      <td>9</td>\n",
       "    </tr>\n",
       "    <tr>\n",
       "      <th>top</th>\n",
       "      <td>ALTER_HH</td>\n",
       "      <td>person</td>\n",
       "      <td>ordinal</td>\n",
       "      <td>[-1]</td>\n",
       "    </tr>\n",
       "    <tr>\n",
       "      <th>freq</th>\n",
       "      <td>1</td>\n",
       "      <td>43</td>\n",
       "      <td>49</td>\n",
       "      <td>26</td>\n",
       "    </tr>\n",
       "  </tbody>\n",
       "</table>\n",
       "</div>"
      ],
      "text/plain": [
       "       attribute information_level     type missing_or_unknown\n",
       "count         85                85       85                 85\n",
       "unique        85                 9        5                  9\n",
       "top     ALTER_HH            person  ordinal               [-1]\n",
       "freq           1                43       49                 26"
      ]
     },
     "execution_count": 10,
     "metadata": {},
     "output_type": "execute_result"
    }
   ],
   "source": [
    "feat_info.describe()"
   ]
  },
  {
   "cell_type": "code",
   "execution_count": 11,
   "metadata": {},
   "outputs": [
    {
     "name": "stdout",
     "output_type": "stream",
     "text": [
      "<class 'pandas.core.frame.DataFrame'>\n",
      "RangeIndex: 85 entries, 0 to 84\n",
      "Data columns (total 4 columns):\n",
      "attribute             85 non-null object\n",
      "information_level     85 non-null object\n",
      "type                  85 non-null object\n",
      "missing_or_unknown    85 non-null object\n",
      "dtypes: object(4)\n",
      "memory usage: 2.7+ KB\n"
     ]
    }
   ],
   "source": [
    "feat_info.info()"
   ]
  },
  {
   "cell_type": "markdown",
   "metadata": {},
   "source": [
    "> **Tip**: Add additional cells to keep everything in reasonably-sized chunks! Keyboard shortcut `esc --> a` (press escape to enter command mode, then press the 'A' key) adds a new cell before the active cell, and `esc --> b` adds a new cell after the active cell. If you need to convert an active cell to a markdown cell, use `esc --> m` and to convert to a code cell, use `esc --> y`. \n",
    "\n",
    "## Step 1: Preprocessing\n",
    "\n",
    "### Step 1.1: Assess Missing Data\n",
    "\n",
    "The feature summary file contains a summary of properties for each demographics data column. You will use this file to help you make cleaning decisions during this stage of the project. First of all, you should assess the demographics data in terms of missing data. Pay attention to the following points as you perform your analysis, and take notes on what you observe. Make sure that you fill in the **Discussion** cell with your findings and decisions at the end of each step that has one!\n",
    "\n",
    "#### Step 1.1.1: Convert Missing Value Codes to NaNs\n",
    "The fourth column of the feature attributes summary (loaded in above as `feat_info`) documents the codes from the data dictionary that indicate missing or unknown data. While the file encodes this as a list (e.g. `[-1,0]`), this will get read in as a string object. You'll need to do a little bit of parsing to make use of it to identify and clean the data. Convert data that matches a 'missing' or 'unknown' value code into a numpy NaN value. You might want to see how much data takes on a 'missing' or 'unknown' code, and how much data is naturally missing, as a point of interest.\n",
    "\n",
    "**As one more reminder, you are encouraged to add additional cells to break up your analysis into manageable chunks.**"
   ]
  },
  {
   "cell_type": "code",
   "execution_count": 12,
   "metadata": {
    "scrolled": true
   },
   "outputs": [
    {
     "data": {
      "text/plain": [
       "AGER_TYP                      0\n",
       "ALTERSKATEGORIE_GROB          0\n",
       "ANREDE_KZ                     0\n",
       "CJT_GESAMTTYP              4854\n",
       "FINANZ_MINIMALIST             0\n",
       "FINANZ_SPARER                 0\n",
       "FINANZ_VORSORGER              0\n",
       "FINANZ_ANLEGER                0\n",
       "FINANZ_UNAUFFAELLIGER         0\n",
       "FINANZ_HAUSBAUER              0\n",
       "FINANZTYP                     0\n",
       "GEBURTSJAHR                   0\n",
       "GFK_URLAUBERTYP            4854\n",
       "GREEN_AVANTGARDE              0\n",
       "HEALTH_TYP                    0\n",
       "LP_LEBENSPHASE_FEIN        4854\n",
       "LP_LEBENSPHASE_GROB        4854\n",
       "LP_FAMILIE_FEIN            4854\n",
       "LP_FAMILIE_GROB            4854\n",
       "LP_STATUS_FEIN             4854\n",
       "LP_STATUS_GROB             4854\n",
       "NATIONALITAET_KZ              0\n",
       "PRAEGENDE_JUGENDJAHRE         0\n",
       "RETOURTYP_BK_S             4854\n",
       "SEMIO_SOZ                     0\n",
       "SEMIO_FAM                     0\n",
       "SEMIO_REL                     0\n",
       "SEMIO_MAT                     0\n",
       "SEMIO_VERT                    0\n",
       "SEMIO_LUST                    0\n",
       "                          ...  \n",
       "OST_WEST_KZ               93148\n",
       "WOHNLAGE                  93148\n",
       "CAMEO_DEUG_2015           98979\n",
       "CAMEO_DEU_2015            98979\n",
       "CAMEO_INTL_2015           98979\n",
       "KBA05_ANTG1              133324\n",
       "KBA05_ANTG2              133324\n",
       "KBA05_ANTG3              133324\n",
       "KBA05_ANTG4              133324\n",
       "KBA05_BAUMAX             133324\n",
       "KBA05_GBZ                133324\n",
       "BALLRAUM                  93740\n",
       "EWDICHTE                  93740\n",
       "INNENSTADT                93740\n",
       "GEBAEUDETYP_RASTER        93155\n",
       "KKK                      121196\n",
       "MOBI_REGIO               133324\n",
       "ONLINE_AFFINITAET          4854\n",
       "REGIOTYP                 121196\n",
       "KBA13_ANZAHL_PKW         105800\n",
       "PLZ8_ANTG1               116515\n",
       "PLZ8_ANTG2               116515\n",
       "PLZ8_ANTG3               116515\n",
       "PLZ8_ANTG4               116515\n",
       "PLZ8_BAUMAX              116515\n",
       "PLZ8_HHZ                 116515\n",
       "PLZ8_GBZ                 116515\n",
       "ARBEIT                    97216\n",
       "ORTSGR_KLS9               97216\n",
       "RELAT_AB                  97216\n",
       "Length: 85, dtype: int64"
      ]
     },
     "execution_count": 12,
     "metadata": {},
     "output_type": "execute_result"
    }
   ],
   "source": [
    "azdias.isnull().sum()"
   ]
  },
  {
   "cell_type": "code",
   "execution_count": 13,
   "metadata": {},
   "outputs": [
    {
     "name": "stdout",
     "output_type": "stream",
     "text": [
      "Naturally missing data found in Azdias is 4896838\n"
     ]
    }
   ],
   "source": [
    "# Identify missing or unknown data values and convert them to NaNs.\n",
    "missing_data = azdias.isnull().sum().sum()\n",
    "print(\"Naturally missing data found in Azdias is {}\".format(missing_data))"
   ]
  },
  {
   "cell_type": "code",
   "execution_count": 14,
   "metadata": {},
   "outputs": [
    {
     "data": {
      "text/plain": [
       "['']"
      ]
     },
     "execution_count": 14,
     "metadata": {},
     "output_type": "execute_result"
    }
   ],
   "source": [
    "# Naturally missing data example\n",
    "feat_info.iloc[13]['missing_or_unknown'].strip('[]').split(\",\")"
   ]
  },
  {
   "cell_type": "code",
   "execution_count": 15,
   "metadata": {},
   "outputs": [],
   "source": [
    "for row in range(len(feat_info)):\n",
    "    content = feat_info.iloc[row]['missing_or_unknown'].strip('[]').split(\",\")\n",
    "    for idx, contents in enumerate(content):\n",
    "        if contents != \"\" and contents != \"X\" and contents != \"XX\":\n",
    "            content[idx] = int(contents)\n",
    "    if content != ['']:\n",
    "        azdias = azdias.replace({feat_info.iloc[row]['attribute']: content}, np.nan)"
   ]
  },
  {
   "cell_type": "code",
   "execution_count": 16,
   "metadata": {},
   "outputs": [
    {
     "data": {
      "text/html": [
       "<div>\n",
       "<style scoped>\n",
       "    .dataframe tbody tr th:only-of-type {\n",
       "        vertical-align: middle;\n",
       "    }\n",
       "\n",
       "    .dataframe tbody tr th {\n",
       "        vertical-align: top;\n",
       "    }\n",
       "\n",
       "    .dataframe thead th {\n",
       "        text-align: right;\n",
       "    }\n",
       "</style>\n",
       "<table border=\"1\" class=\"dataframe\">\n",
       "  <thead>\n",
       "    <tr style=\"text-align: right;\">\n",
       "      <th></th>\n",
       "      <th>AGER_TYP</th>\n",
       "      <th>ALTERSKATEGORIE_GROB</th>\n",
       "      <th>ANREDE_KZ</th>\n",
       "      <th>CJT_GESAMTTYP</th>\n",
       "      <th>FINANZ_MINIMALIST</th>\n",
       "      <th>FINANZ_SPARER</th>\n",
       "      <th>FINANZ_VORSORGER</th>\n",
       "      <th>FINANZ_ANLEGER</th>\n",
       "      <th>FINANZ_UNAUFFAELLIGER</th>\n",
       "      <th>FINANZ_HAUSBAUER</th>\n",
       "      <th>...</th>\n",
       "      <th>PLZ8_ANTG1</th>\n",
       "      <th>PLZ8_ANTG2</th>\n",
       "      <th>PLZ8_ANTG3</th>\n",
       "      <th>PLZ8_ANTG4</th>\n",
       "      <th>PLZ8_BAUMAX</th>\n",
       "      <th>PLZ8_HHZ</th>\n",
       "      <th>PLZ8_GBZ</th>\n",
       "      <th>ARBEIT</th>\n",
       "      <th>ORTSGR_KLS9</th>\n",
       "      <th>RELAT_AB</th>\n",
       "    </tr>\n",
       "  </thead>\n",
       "  <tbody>\n",
       "    <tr>\n",
       "      <th>0</th>\n",
       "      <td>NaN</td>\n",
       "      <td>2.0</td>\n",
       "      <td>1</td>\n",
       "      <td>2.0</td>\n",
       "      <td>3</td>\n",
       "      <td>4</td>\n",
       "      <td>3</td>\n",
       "      <td>5</td>\n",
       "      <td>5</td>\n",
       "      <td>3</td>\n",
       "      <td>...</td>\n",
       "      <td>NaN</td>\n",
       "      <td>NaN</td>\n",
       "      <td>NaN</td>\n",
       "      <td>NaN</td>\n",
       "      <td>NaN</td>\n",
       "      <td>NaN</td>\n",
       "      <td>NaN</td>\n",
       "      <td>NaN</td>\n",
       "      <td>NaN</td>\n",
       "      <td>NaN</td>\n",
       "    </tr>\n",
       "    <tr>\n",
       "      <th>1</th>\n",
       "      <td>NaN</td>\n",
       "      <td>1.0</td>\n",
       "      <td>2</td>\n",
       "      <td>5.0</td>\n",
       "      <td>1</td>\n",
       "      <td>5</td>\n",
       "      <td>2</td>\n",
       "      <td>5</td>\n",
       "      <td>4</td>\n",
       "      <td>5</td>\n",
       "      <td>...</td>\n",
       "      <td>2.0</td>\n",
       "      <td>3.0</td>\n",
       "      <td>2.0</td>\n",
       "      <td>1.0</td>\n",
       "      <td>1.0</td>\n",
       "      <td>5.0</td>\n",
       "      <td>4.0</td>\n",
       "      <td>3.0</td>\n",
       "      <td>5.0</td>\n",
       "      <td>4.0</td>\n",
       "    </tr>\n",
       "    <tr>\n",
       "      <th>2</th>\n",
       "      <td>NaN</td>\n",
       "      <td>3.0</td>\n",
       "      <td>2</td>\n",
       "      <td>3.0</td>\n",
       "      <td>1</td>\n",
       "      <td>4</td>\n",
       "      <td>1</td>\n",
       "      <td>2</td>\n",
       "      <td>3</td>\n",
       "      <td>5</td>\n",
       "      <td>...</td>\n",
       "      <td>3.0</td>\n",
       "      <td>3.0</td>\n",
       "      <td>1.0</td>\n",
       "      <td>0.0</td>\n",
       "      <td>1.0</td>\n",
       "      <td>4.0</td>\n",
       "      <td>4.0</td>\n",
       "      <td>3.0</td>\n",
       "      <td>5.0</td>\n",
       "      <td>2.0</td>\n",
       "    </tr>\n",
       "    <tr>\n",
       "      <th>3</th>\n",
       "      <td>2.0</td>\n",
       "      <td>4.0</td>\n",
       "      <td>2</td>\n",
       "      <td>2.0</td>\n",
       "      <td>4</td>\n",
       "      <td>2</td>\n",
       "      <td>5</td>\n",
       "      <td>2</td>\n",
       "      <td>1</td>\n",
       "      <td>2</td>\n",
       "      <td>...</td>\n",
       "      <td>2.0</td>\n",
       "      <td>2.0</td>\n",
       "      <td>2.0</td>\n",
       "      <td>0.0</td>\n",
       "      <td>1.0</td>\n",
       "      <td>3.0</td>\n",
       "      <td>4.0</td>\n",
       "      <td>2.0</td>\n",
       "      <td>3.0</td>\n",
       "      <td>3.0</td>\n",
       "    </tr>\n",
       "    <tr>\n",
       "      <th>4</th>\n",
       "      <td>NaN</td>\n",
       "      <td>3.0</td>\n",
       "      <td>1</td>\n",
       "      <td>5.0</td>\n",
       "      <td>4</td>\n",
       "      <td>3</td>\n",
       "      <td>4</td>\n",
       "      <td>1</td>\n",
       "      <td>3</td>\n",
       "      <td>2</td>\n",
       "      <td>...</td>\n",
       "      <td>2.0</td>\n",
       "      <td>4.0</td>\n",
       "      <td>2.0</td>\n",
       "      <td>1.0</td>\n",
       "      <td>2.0</td>\n",
       "      <td>3.0</td>\n",
       "      <td>3.0</td>\n",
       "      <td>4.0</td>\n",
       "      <td>6.0</td>\n",
       "      <td>5.0</td>\n",
       "    </tr>\n",
       "  </tbody>\n",
       "</table>\n",
       "<p>5 rows × 85 columns</p>\n",
       "</div>"
      ],
      "text/plain": [
       "   AGER_TYP  ALTERSKATEGORIE_GROB  ANREDE_KZ  CJT_GESAMTTYP  \\\n",
       "0       NaN                   2.0          1            2.0   \n",
       "1       NaN                   1.0          2            5.0   \n",
       "2       NaN                   3.0          2            3.0   \n",
       "3       2.0                   4.0          2            2.0   \n",
       "4       NaN                   3.0          1            5.0   \n",
       "\n",
       "   FINANZ_MINIMALIST  FINANZ_SPARER  FINANZ_VORSORGER  FINANZ_ANLEGER  \\\n",
       "0                  3              4                 3               5   \n",
       "1                  1              5                 2               5   \n",
       "2                  1              4                 1               2   \n",
       "3                  4              2                 5               2   \n",
       "4                  4              3                 4               1   \n",
       "\n",
       "   FINANZ_UNAUFFAELLIGER  FINANZ_HAUSBAUER    ...     PLZ8_ANTG1  PLZ8_ANTG2  \\\n",
       "0                      5                 3    ...            NaN         NaN   \n",
       "1                      4                 5    ...            2.0         3.0   \n",
       "2                      3                 5    ...            3.0         3.0   \n",
       "3                      1                 2    ...            2.0         2.0   \n",
       "4                      3                 2    ...            2.0         4.0   \n",
       "\n",
       "   PLZ8_ANTG3  PLZ8_ANTG4  PLZ8_BAUMAX  PLZ8_HHZ  PLZ8_GBZ  ARBEIT  \\\n",
       "0         NaN         NaN          NaN       NaN       NaN     NaN   \n",
       "1         2.0         1.0          1.0       5.0       4.0     3.0   \n",
       "2         1.0         0.0          1.0       4.0       4.0     3.0   \n",
       "3         2.0         0.0          1.0       3.0       4.0     2.0   \n",
       "4         2.0         1.0          2.0       3.0       3.0     4.0   \n",
       "\n",
       "   ORTSGR_KLS9  RELAT_AB  \n",
       "0          NaN       NaN  \n",
       "1          5.0       4.0  \n",
       "2          5.0       2.0  \n",
       "3          3.0       3.0  \n",
       "4          6.0       5.0  \n",
       "\n",
       "[5 rows x 85 columns]"
      ]
     },
     "execution_count": 16,
     "metadata": {},
     "output_type": "execute_result"
    }
   ],
   "source": [
    "azdias.head()"
   ]
  },
  {
   "cell_type": "code",
   "execution_count": 17,
   "metadata": {},
   "outputs": [
    {
     "name": "stdout",
     "output_type": "stream",
     "text": [
      "Transformed number of missing data found in Azdias is 8373929\n"
     ]
    }
   ],
   "source": [
    "missing_data = azdias.isnull().sum().sum()\n",
    "print(\"Transformed number of missing data found in Azdias is {}\".format(missing_data))"
   ]
  },
  {
   "cell_type": "markdown",
   "metadata": {},
   "source": [
    "#### Step 1.1.2: Assess Missing Data in Each Column\n",
    "\n",
    "How much missing data is present in each column? There are a few columns that are outliers in terms of the proportion of values that are missing. You will want to use matplotlib's [`hist()`](https://matplotlib.org/api/_as_gen/matplotlib.pyplot.hist.html) function to visualize the distribution of missing value counts to find these columns. Identify and document these columns. While some of these columns might have justifications for keeping or re-encoding the data, for this project you should just remove them from the dataframe. (Feel free to make remarks about these outlier columns in the discussion, however!)\n",
    "\n",
    "For the remaining features, are there any patterns in which columns have, or share, missing data?"
   ]
  },
  {
   "cell_type": "code",
   "execution_count": 18,
   "metadata": {},
   "outputs": [],
   "source": [
    "# Perform an assessment of how much missing data there is in each column of the\n",
    "# dataset.\n",
    "null_cols = azdias.isnull().sum()\n",
    "null_cols_per = null_cols*100/azdias.shape[0]"
   ]
  },
  {
   "cell_type": "code",
   "execution_count": 19,
   "metadata": {},
   "outputs": [
    {
     "data": {
      "image/png": "[encoded data removed]",
      "text/plain": [
       "<matplotlib.figure.Figure at 0x7f32d665a080>"
      ]
     },
     "metadata": {
      "needs_background": "light"
     },
     "output_type": "display_data"
    }
   ],
   "source": [
    "# Investigate patterns in the amount of missing data in each column.\n",
    "plt.hist(null_cols_per, bins=100)\n",
    "plt.xlabel(\"% of missing or unknown values\")\n",
    "plt.ylabel(\"Number of Columns\")\n",
    "plt.title(\"Histogram\")\n",
    "plt.show()"
   ]
  },
  {
   "cell_type": "code",
   "execution_count": 20,
   "metadata": {},
   "outputs": [
    {
     "data": {
      "text/plain": [
       "ZABEOTYP                  0.000000\n",
       "SEMIO_TRADV               0.000000\n",
       "SEMIO_PFLICHT             0.000000\n",
       "SEMIO_KAEM                0.000000\n",
       "SEMIO_DOM                 0.000000\n",
       "SEMIO_KRIT                0.000000\n",
       "SEMIO_RAT                 0.000000\n",
       "SEMIO_KULT                0.000000\n",
       "SEMIO_ERL                 0.000000\n",
       "SEMIO_LUST                0.000000\n",
       "SEMIO_VERT                0.000000\n",
       "SEMIO_MAT                 0.000000\n",
       "SEMIO_REL                 0.000000\n",
       "SEMIO_SOZ                 0.000000\n",
       "SEMIO_FAM                 0.000000\n",
       "FINANZ_VORSORGER          0.000000\n",
       "ANREDE_KZ                 0.000000\n",
       "FINANZ_MINIMALIST         0.000000\n",
       "FINANZ_SPARER             0.000000\n",
       "FINANZ_ANLEGER            0.000000\n",
       "FINANZ_UNAUFFAELLIGER     0.000000\n",
       "FINANZ_HAUSBAUER          0.000000\n",
       "GREEN_AVANTGARDE          0.000000\n",
       "FINANZTYP                 0.000000\n",
       "ALTERSKATEGORIE_GROB      0.323264\n",
       "GFK_URLAUBERTYP           0.544646\n",
       "LP_STATUS_GROB            0.544646\n",
       "LP_STATUS_FEIN            0.544646\n",
       "ONLINE_AFFINITAET         0.544646\n",
       "RETOURTYP_BK_S            0.544646\n",
       "                           ...    \n",
       "CAMEO_INTL_2015          11.147852\n",
       "ANZ_HAUSHALTE_AKTIV      11.176913\n",
       "KBA13_ANZAHL_PKW         11.871354\n",
       "PRAEGENDE_JUGENDJAHRE    12.136608\n",
       "NATIONALITAET_KZ         12.153551\n",
       "HEALTH_TYP               12.476816\n",
       "VERS_TYP                 12.476816\n",
       "SHOPPER_TYP              12.476816\n",
       "PLZ8_ANTG2               13.073637\n",
       "PLZ8_ANTG3               13.073637\n",
       "PLZ8_ANTG1               13.073637\n",
       "PLZ8_ANTG4               13.073637\n",
       "PLZ8_BAUMAX              13.073637\n",
       "PLZ8_HHZ                 13.073637\n",
       "PLZ8_GBZ                 13.073637\n",
       "KBA05_ANTG3              14.959701\n",
       "KBA05_ANTG2              14.959701\n",
       "KBA05_ANTG1              14.959701\n",
       "MOBI_REGIO               14.959701\n",
       "KBA05_GBZ                14.959701\n",
       "KBA05_ANTG4              14.959701\n",
       "W_KEIT_KIND_HH           16.605084\n",
       "KKK                      17.735668\n",
       "REGIOTYP                 17.735668\n",
       "ALTER_HH                 34.813699\n",
       "GEBURTSJAHR              44.020282\n",
       "KBA05_BAUMAX             53.468668\n",
       "KK_KUNDENTYP             65.596749\n",
       "AGER_TYP                 76.955435\n",
       "TITEL_KZ                 99.757636\n",
       "Length: 85, dtype: float64"
      ]
     },
     "execution_count": 20,
     "metadata": {},
     "output_type": "execute_result"
    }
   ],
   "source": [
    "null_cols_per.sort_values(ascending=True,inplace=True)\n",
    "null_cols_per"
   ]
  },
  {
   "cell_type": "code",
   "execution_count": 21,
   "metadata": {},
   "outputs": [
    {
     "data": {
      "text/plain": [
       "ALTER_HH        34.813699\n",
       "GEBURTSJAHR     44.020282\n",
       "KBA05_BAUMAX    53.468668\n",
       "KK_KUNDENTYP    65.596749\n",
       "AGER_TYP        76.955435\n",
       "TITEL_KZ        99.757636\n",
       "dtype: float64"
      ]
     },
     "execution_count": 21,
     "metadata": {},
     "output_type": "execute_result"
    }
   ],
   "source": [
    "outlier_cols = null_cols_per[null_cols_per > null_cols_per[\"REGIOTYP\"]].keys()\n",
    "null_cols_per[null_cols_per > null_cols_per[\"REGIOTYP\"]]"
   ]
  },
  {
   "cell_type": "code",
   "execution_count": 22,
   "metadata": {},
   "outputs": [
    {
     "data": {
      "text/plain": [
       "['ALTER_HH',\n",
       " 'GEBURTSJAHR',\n",
       " 'KBA05_BAUMAX',\n",
       " 'KK_KUNDENTYP',\n",
       " 'AGER_TYP',\n",
       " 'TITEL_KZ']"
      ]
     },
     "execution_count": 22,
     "metadata": {},
     "output_type": "execute_result"
    }
   ],
   "source": [
    "list(outlier_cols)"
   ]
  },
  {
   "cell_type": "code",
   "execution_count": 23,
   "metadata": {},
   "outputs": [
    {
     "name": "stdout",
     "output_type": "stream",
     "text": [
      "This list of columns are outliers: \n",
      "['ALTER_HH', 'GEBURTSJAHR', 'KBA05_BAUMAX', 'KK_KUNDENTYP', 'AGER_TYP', 'TITEL_KZ']\n",
      " Since most of the data have less than 18% null values\n"
     ]
    }
   ],
   "source": [
    "# Remove the outlier columns from the dataset. (You'll perform other data\n",
    "# engineering tasks such as re-encoding and imputation later.)\n",
    "outlier_cols = null_cols_per[null_cols_per > null_cols_per[\"REGIOTYP\"]].keys()\n",
    "print(\"This list of columns are outliers: \\n{}\\n Since most of the data have less than 18% null values\".format(list(outlier_cols)) )"
   ]
  },
  {
   "cell_type": "code",
   "execution_count": 24,
   "metadata": {},
   "outputs": [],
   "source": [
    "azdias = azdias.drop(outlier_cols, axis=1)"
   ]
  },
  {
   "cell_type": "code",
   "execution_count": 25,
   "metadata": {},
   "outputs": [
    {
     "data": {
      "text/html": [
       "<div>\n",
       "<style scoped>\n",
       "    .dataframe tbody tr th:only-of-type {\n",
       "        vertical-align: middle;\n",
       "    }\n",
       "\n",
       "    .dataframe tbody tr th {\n",
       "        vertical-align: top;\n",
       "    }\n",
       "\n",
       "    .dataframe thead th {\n",
       "        text-align: right;\n",
       "    }\n",
       "</style>\n",
       "<table border=\"1\" class=\"dataframe\">\n",
       "  <thead>\n",
       "    <tr style=\"text-align: right;\">\n",
       "      <th></th>\n",
       "      <th>ALTERSKATEGORIE_GROB</th>\n",
       "      <th>ANREDE_KZ</th>\n",
       "      <th>CJT_GESAMTTYP</th>\n",
       "      <th>FINANZ_MINIMALIST</th>\n",
       "      <th>FINANZ_SPARER</th>\n",
       "      <th>FINANZ_VORSORGER</th>\n",
       "      <th>FINANZ_ANLEGER</th>\n",
       "      <th>FINANZ_UNAUFFAELLIGER</th>\n",
       "      <th>FINANZ_HAUSBAUER</th>\n",
       "      <th>FINANZTYP</th>\n",
       "      <th>...</th>\n",
       "      <th>PLZ8_ANTG1</th>\n",
       "      <th>PLZ8_ANTG2</th>\n",
       "      <th>PLZ8_ANTG3</th>\n",
       "      <th>PLZ8_ANTG4</th>\n",
       "      <th>PLZ8_BAUMAX</th>\n",
       "      <th>PLZ8_HHZ</th>\n",
       "      <th>PLZ8_GBZ</th>\n",
       "      <th>ARBEIT</th>\n",
       "      <th>ORTSGR_KLS9</th>\n",
       "      <th>RELAT_AB</th>\n",
       "    </tr>\n",
       "  </thead>\n",
       "  <tbody>\n",
       "    <tr>\n",
       "      <th>0</th>\n",
       "      <td>2.0</td>\n",
       "      <td>1</td>\n",
       "      <td>2.0</td>\n",
       "      <td>3</td>\n",
       "      <td>4</td>\n",
       "      <td>3</td>\n",
       "      <td>5</td>\n",
       "      <td>5</td>\n",
       "      <td>3</td>\n",
       "      <td>4</td>\n",
       "      <td>...</td>\n",
       "      <td>NaN</td>\n",
       "      <td>NaN</td>\n",
       "      <td>NaN</td>\n",
       "      <td>NaN</td>\n",
       "      <td>NaN</td>\n",
       "      <td>NaN</td>\n",
       "      <td>NaN</td>\n",
       "      <td>NaN</td>\n",
       "      <td>NaN</td>\n",
       "      <td>NaN</td>\n",
       "    </tr>\n",
       "    <tr>\n",
       "      <th>1</th>\n",
       "      <td>1.0</td>\n",
       "      <td>2</td>\n",
       "      <td>5.0</td>\n",
       "      <td>1</td>\n",
       "      <td>5</td>\n",
       "      <td>2</td>\n",
       "      <td>5</td>\n",
       "      <td>4</td>\n",
       "      <td>5</td>\n",
       "      <td>1</td>\n",
       "      <td>...</td>\n",
       "      <td>2.0</td>\n",
       "      <td>3.0</td>\n",
       "      <td>2.0</td>\n",
       "      <td>1.0</td>\n",
       "      <td>1.0</td>\n",
       "      <td>5.0</td>\n",
       "      <td>4.0</td>\n",
       "      <td>3.0</td>\n",
       "      <td>5.0</td>\n",
       "      <td>4.0</td>\n",
       "    </tr>\n",
       "    <tr>\n",
       "      <th>2</th>\n",
       "      <td>3.0</td>\n",
       "      <td>2</td>\n",
       "      <td>3.0</td>\n",
       "      <td>1</td>\n",
       "      <td>4</td>\n",
       "      <td>1</td>\n",
       "      <td>2</td>\n",
       "      <td>3</td>\n",
       "      <td>5</td>\n",
       "      <td>1</td>\n",
       "      <td>...</td>\n",
       "      <td>3.0</td>\n",
       "      <td>3.0</td>\n",
       "      <td>1.0</td>\n",
       "      <td>0.0</td>\n",
       "      <td>1.0</td>\n",
       "      <td>4.0</td>\n",
       "      <td>4.0</td>\n",
       "      <td>3.0</td>\n",
       "      <td>5.0</td>\n",
       "      <td>2.0</td>\n",
       "    </tr>\n",
       "    <tr>\n",
       "      <th>3</th>\n",
       "      <td>4.0</td>\n",
       "      <td>2</td>\n",
       "      <td>2.0</td>\n",
       "      <td>4</td>\n",
       "      <td>2</td>\n",
       "      <td>5</td>\n",
       "      <td>2</td>\n",
       "      <td>1</td>\n",
       "      <td>2</td>\n",
       "      <td>6</td>\n",
       "      <td>...</td>\n",
       "      <td>2.0</td>\n",
       "      <td>2.0</td>\n",
       "      <td>2.0</td>\n",
       "      <td>0.0</td>\n",
       "      <td>1.0</td>\n",
       "      <td>3.0</td>\n",
       "      <td>4.0</td>\n",
       "      <td>2.0</td>\n",
       "      <td>3.0</td>\n",
       "      <td>3.0</td>\n",
       "    </tr>\n",
       "    <tr>\n",
       "      <th>4</th>\n",
       "      <td>3.0</td>\n",
       "      <td>1</td>\n",
       "      <td>5.0</td>\n",
       "      <td>4</td>\n",
       "      <td>3</td>\n",
       "      <td>4</td>\n",
       "      <td>1</td>\n",
       "      <td>3</td>\n",
       "      <td>2</td>\n",
       "      <td>5</td>\n",
       "      <td>...</td>\n",
       "      <td>2.0</td>\n",
       "      <td>4.0</td>\n",
       "      <td>2.0</td>\n",
       "      <td>1.0</td>\n",
       "      <td>2.0</td>\n",
       "      <td>3.0</td>\n",
       "      <td>3.0</td>\n",
       "      <td>4.0</td>\n",
       "      <td>6.0</td>\n",
       "      <td>5.0</td>\n",
       "    </tr>\n",
       "  </tbody>\n",
       "</table>\n",
       "<p>5 rows × 79 columns</p>\n",
       "</div>"
      ],
      "text/plain": [
       "   ALTERSKATEGORIE_GROB  ANREDE_KZ  CJT_GESAMTTYP  FINANZ_MINIMALIST  \\\n",
       "0                   2.0          1            2.0                  3   \n",
       "1                   1.0          2            5.0                  1   \n",
       "2                   3.0          2            3.0                  1   \n",
       "3                   4.0          2            2.0                  4   \n",
       "4                   3.0          1            5.0                  4   \n",
       "\n",
       "   FINANZ_SPARER  FINANZ_VORSORGER  FINANZ_ANLEGER  FINANZ_UNAUFFAELLIGER  \\\n",
       "0              4                 3               5                      5   \n",
       "1              5                 2               5                      4   \n",
       "2              4                 1               2                      3   \n",
       "3              2                 5               2                      1   \n",
       "4              3                 4               1                      3   \n",
       "\n",
       "   FINANZ_HAUSBAUER  FINANZTYP    ...     PLZ8_ANTG1  PLZ8_ANTG2  PLZ8_ANTG3  \\\n",
       "0                 3          4    ...            NaN         NaN         NaN   \n",
       "1                 5          1    ...            2.0         3.0         2.0   \n",
       "2                 5          1    ...            3.0         3.0         1.0   \n",
       "3                 2          6    ...            2.0         2.0         2.0   \n",
       "4                 2          5    ...            2.0         4.0         2.0   \n",
       "\n",
       "   PLZ8_ANTG4  PLZ8_BAUMAX  PLZ8_HHZ  PLZ8_GBZ  ARBEIT  ORTSGR_KLS9  RELAT_AB  \n",
       "0         NaN          NaN       NaN       NaN     NaN          NaN       NaN  \n",
       "1         1.0          1.0       5.0       4.0     3.0          5.0       4.0  \n",
       "2         0.0          1.0       4.0       4.0     3.0          5.0       2.0  \n",
       "3         0.0          1.0       3.0       4.0     2.0          3.0       3.0  \n",
       "4         1.0          2.0       3.0       3.0     4.0          6.0       5.0  \n",
       "\n",
       "[5 rows x 79 columns]"
      ]
     },
     "execution_count": 25,
     "metadata": {},
     "output_type": "execute_result"
    }
   ],
   "source": [
    "azdias.head()"
   ]
  },
  {
   "cell_type": "markdown",
   "metadata": {},
   "source": [
    "#### Discussion 1.1.2: Assess Missing Data in Each Column\n",
    "\n",
    "- Most of the columns found in azdias have less than 18% null values.\n",
    "- All columns that have a percentage of null values which is greater than 18% are considered to be outlier features.\n",
    "- The outlier features where remvoed from the azdias Data Frame."
   ]
  },
  {
   "cell_type": "markdown",
   "metadata": {},
   "source": [
    "#### Step 1.1.3: Assess Missing Data in Each Row\n",
    "\n",
    "Now, you'll perform a similar assessment for the rows of the dataset. How much data is missing in each row? As with the columns, you should see some groups of points that have a very different numbers of missing values. Divide the data into two subsets: one for data points that are above some threshold for missing values, and a second subset for points below that threshold.\n",
    "\n",
    "In order to know what to do with the outlier rows, we should see if the distribution of data values on columns that are not missing data (or are missing very little data) are similar or different between the two groups. Select at least five of these columns and compare the distribution of values.\n",
    "- You can use seaborn's [`countplot()`](https://seaborn.pydata.org/generated/seaborn.countplot.html) function to create a bar chart of code frequencies and matplotlib's [`subplot()`](https://matplotlib.org/api/_as_gen/matplotlib.pyplot.subplot.html) function to put bar charts for the two subplots side by side.\n",
    "- To reduce repeated code, you might want to write a function that can perform this comparison, taking as one of its arguments a column to be compared.\n",
    "\n",
    "Depending on what you observe in your comparison, this will have implications on how you approach your conclusions later in the analysis. If the distributions of non-missing features look similar between the data with many missing values and the data with few or no missing values, then we could argue that simply dropping those points from the analysis won't present a major issue. On the other hand, if the data with many missing values looks very different from the data with few or no missing values, then we should make a note on those data as special. We'll revisit these data later on. **Either way, you should continue your analysis for now using just the subset of the data with few or no missing values.**"
   ]
  },
  {
   "cell_type": "code",
   "execution_count": 26,
   "metadata": {
    "scrolled": true
   },
   "outputs": [
    {
     "data": {
      "text/plain": [
       "445610     0\n",
       "540274     0\n",
       "540275     0\n",
       "540277     0\n",
       "540280     0\n",
       "540281     0\n",
       "540283     0\n",
       "540284     0\n",
       "540286     0\n",
       "540273     0\n",
       "540287     0\n",
       "540290     0\n",
       "540291     0\n",
       "540292     0\n",
       "540293     0\n",
       "540295     0\n",
       "540296     0\n",
       "540298     0\n",
       "540299     0\n",
       "540289     0\n",
       "540300     0\n",
       "540271     0\n",
       "540269     0\n",
       "540239     0\n",
       "540240     0\n",
       "540241     0\n",
       "540242     0\n",
       "540243     0\n",
       "540244     0\n",
       "540246     0\n",
       "          ..\n",
       "139521    47\n",
       "690887    47\n",
       "690878    47\n",
       "690876    47\n",
       "690871    47\n",
       "139478    47\n",
       "139236    47\n",
       "691118    47\n",
       "691129    47\n",
       "691317    47\n",
       "139243    47\n",
       "139245    47\n",
       "139248    47\n",
       "139250    47\n",
       "139255    47\n",
       "139267    47\n",
       "691122    47\n",
       "691212    47\n",
       "139323    47\n",
       "691197    47\n",
       "139332    47\n",
       "691183    47\n",
       "691171    47\n",
       "691142    47\n",
       "691141    47\n",
       "139316    47\n",
       "183108    47\n",
       "472919    48\n",
       "732775    49\n",
       "643174    49\n",
       "Length: 891221, dtype: int64"
      ]
     },
     "execution_count": 26,
     "metadata": {},
     "output_type": "execute_result"
    }
   ],
   "source": [
    "# How much data is missing in each row of the dataset?\n",
    "null_rows = azdias.isnull().sum(axis=1)\n",
    "null_rows.sort_values(ascending=True,inplace=True)\n",
    "null_rows"
   ]
  },
  {
   "cell_type": "code",
   "execution_count": 27,
   "metadata": {},
   "outputs": [
    {
     "data": {
      "image/png": "[encoded data removed]",
      "text/plain": [
       "<matplotlib.figure.Figure at 0x7f32d3e3c0b8>"
      ]
     },
     "metadata": {
      "needs_background": "light"
     },
     "output_type": "display_data"
    }
   ],
   "source": [
    "plt.hist(null_rows)\n",
    "plt.xlabel(\"Number of missing or unknown values\")\n",
    "plt.ylabel(\"Number of rows\")\n",
    "plt.title(\"Histogram\")\n",
    "plt.show()"
   ]
  },
  {
   "cell_type": "code",
   "execution_count": 28,
   "metadata": {},
   "outputs": [
    {
     "name": "stdout",
     "output_type": "stream",
     "text": [
      "Percentage of rows that have missing data is 30.07%\n",
      "Percentage of rows that have 0 missing data is 69.93%\n",
      "\n",
      "That is a significant difference. Therfore a threshold must be chosen to decrease this gap\n",
      "The threshold chosen to create two subsets is 20\n"
     ]
    }
   ],
   "source": [
    "null_rows_per = null_rows*100/azdias.shape[1]\n",
    "per_missing_rows = len(null_rows_per[null_rows_per!=0])/azdias.shape[0]*100\n",
    "print(\"Percentage of rows that have missing data is {}%\".format(round(per_missing_rows,2)))\n",
    "print(\"Percentage of rows that have 0 missing data is {}%\\n\".format(100-round(per_missing_rows,2)))\n",
    "print(\"That is a significant difference. Therfore a threshold must be chosen to decrease this gap\")\n",
    "print(\"The threshold chosen to create two subsets is 20\")"
   ]
  },
  {
   "cell_type": "code",
   "execution_count": 29,
   "metadata": {},
   "outputs": [
    {
     "name": "stderr",
     "output_type": "stream",
     "text": [
      "/opt/conda/lib/python3.6/site-packages/ipykernel_launcher.py:3: UserWarning: Boolean Series key will be reindexed to match DataFrame index.\n",
      "  This is separate from the ipykernel package so we can avoid doing imports until\n",
      "/opt/conda/lib/python3.6/site-packages/ipykernel_launcher.py:4: UserWarning: Boolean Series key will be reindexed to match DataFrame index.\n",
      "  after removing the cwd from sys.path.\n"
     ]
    }
   ],
   "source": [
    "# Write code to divide the data into two subsets based on the number of missing\n",
    "# values in each row.\n",
    "rows_few_null = azdias[null_rows<20]\n",
    "outlier_rows = azdias[null_rows_per>20]"
   ]
  },
  {
   "cell_type": "code",
   "execution_count": 30,
   "metadata": {},
   "outputs": [
    {
     "data": {
      "text/plain": [
       "['ZABEOTYP',\n",
       " 'SEMIO_TRADV',\n",
       " 'SEMIO_PFLICHT',\n",
       " 'SEMIO_KAEM',\n",
       " 'SEMIO_DOM',\n",
       " 'SEMIO_KRIT',\n",
       " 'SEMIO_RAT']"
      ]
     },
     "execution_count": 30,
     "metadata": {},
     "output_type": "execute_result"
    }
   ],
   "source": [
    "# Compare the distribution of values for at least five columns where there are\n",
    "# no or few missing values, between the two subsets.\n",
    "complete_cols = list(null_cols_per[null_cols_per==0].index)\n",
    "seven_complete_cols = complete_cols[:7]\n",
    "seven_complete_cols"
   ]
  },
  {
   "cell_type": "code",
   "execution_count": 31,
   "metadata": {},
   "outputs": [
    {
     "data": {
      "image/png": "[encoded data removed]",
      "text/plain": [
       "<matplotlib.figure.Figure at 0x7f32d3d7f400>"
      ]
     },
     "metadata": {
      "needs_background": "light"
     },
     "output_type": "display_data"
    }
   ],
   "source": [
    "figure, axs = plt.subplots(ncols=2, nrows = len(seven_complete_cols),figsize = (15,22))\n",
    "figure.subplots_adjust(hspace = .8, wspace=.2)\n",
    "for indx, row_plot in enumerate(seven_complete_cols):\n",
    "    if indx==0:\n",
    "        axs[0][0].set_title('No or few missing values (<20)')\n",
    "    sns.countplot(rows_few_null[row_plot],ax=axs[indx][0])\n",
    "    if indx == 0:\n",
    "        axs[0][1].set_title('rows containing many missing values (>20)')\n",
    "    sns.countplot(outlier_rows[row_plot], ax=axs[indx][1])"
   ]
  },
  {
   "cell_type": "markdown",
   "metadata": {},
   "source": [
    "#### Discussion 1.1.3: Assess Missing Data in Each Row\n",
    "\n",
    "The data with lots of missing values are qualitatively different from the data with few or no missing values. This is eveident in the seaborn bar chart above.\n",
    "The charts on the right signify to a polarizing number of missing values, whereas the bar charts on the left follow a certain distribution (probably a normal distribution)."
   ]
  },
  {
   "cell_type": "markdown",
   "metadata": {},
   "source": [
    "### Step 1.2: Select and Re-Encode Features\n",
    "\n",
    "Checking for missing data isn't the only way in which you can prepare a dataset for analysis. Since the unsupervised learning techniques to be used will only work on data that is encoded numerically, you need to make a few encoding changes or additional assumptions to be able to make progress. In addition, while almost all of the values in the dataset are encoded using numbers, not all of them represent numeric values. Check the third column of the feature summary (`feat_info`) for a summary of types of measurement.\n",
    "- For numeric and interval data, these features can be kept without changes.\n",
    "- Most of the variables in the dataset are ordinal in nature. While ordinal values may technically be non-linear in spacing, make the simplifying assumption that the ordinal variables can be treated as being interval in nature (that is, kept without any changes).\n",
    "- Special handling may be necessary for the remaining two variable types: categorical, and 'mixed'.\n",
    "\n",
    "In the first two parts of this sub-step, you will perform an investigation of the categorical and mixed-type features and make a decision on each of them, whether you will keep, drop, or re-encode each. Then, in the last part, you will create a new data frame with only the selected and engineered columns.\n",
    "\n",
    "Data wrangling is often the trickiest part of the data analysis process, and there's a lot of it to be done here. But stick with it: once you're done with this step, you'll be ready to get to the machine learning parts of the project!"
   ]
  },
  {
   "cell_type": "code",
   "execution_count": 32,
   "metadata": {},
   "outputs": [
    {
     "data": {
      "text/plain": [
       "attribute                AGER_TYP\n",
       "information_level          person\n",
       "type                  categorical\n",
       "missing_or_unknown         [-1,0]\n",
       "Name: 0, dtype: object"
      ]
     },
     "execution_count": 32,
     "metadata": {},
     "output_type": "execute_result"
    }
   ],
   "source": [
    "feat_info.iloc[0]"
   ]
  },
  {
   "cell_type": "code",
   "execution_count": 33,
   "metadata": {},
   "outputs": [
    {
     "data": {
      "text/plain": [
       "85"
      ]
     },
     "execution_count": 33,
     "metadata": {},
     "output_type": "execute_result"
    }
   ],
   "source": [
    "feat_info.shape[0]"
   ]
  },
  {
   "cell_type": "code",
   "execution_count": 34,
   "metadata": {},
   "outputs": [
    {
     "data": {
      "text/plain": [
       "type\n",
       "categorical    18\n",
       "mixed           6\n",
       "numeric         6\n",
       "ordinal        49\n",
       "dtype: int64"
      ]
     },
     "execution_count": 34,
     "metadata": {},
     "output_type": "execute_result"
    }
   ],
   "source": [
    "# How many features are there of each data type?\n",
    "filter_outlier_columns = feat_info[feat_info['attribute'].isin(list(rows_few_null.columns))]\n",
    "filter_outlier_columns.groupby([\"type\"]).size()"
   ]
  },
  {
   "cell_type": "markdown",
   "metadata": {},
   "source": [
    "#### Step 1.2.1: Re-Encode Categorical Features\n",
    "\n",
    "For categorical data, you would ordinarily need to encode the levels as dummy variables. Depending on the number of categories, perform one of the following:\n",
    "- For binary (two-level) categoricals that take numeric values, you can keep them without needing to do anything.\n",
    "- There is one binary variable that takes on non-numeric values. For this one, you need to re-encode the values as numbers or create a dummy variable.\n",
    "- For multi-level categoricals (three or more values), you can choose to encode the values using multiple dummy variables (e.g. via [OneHotEncoder](http://scikit-learn.org/stable/modules/generated/sklearn.preprocessing.OneHotEncoder.html)), or (to keep things straightforward) just drop them from the analysis. As always, document your choices in the Discussion section."
   ]
  },
  {
   "cell_type": "code",
   "execution_count": 35,
   "metadata": {},
   "outputs": [
    {
     "data": {
      "text/html": [
       "<div>\n",
       "<style scoped>\n",
       "    .dataframe tbody tr th:only-of-type {\n",
       "        vertical-align: middle;\n",
       "    }\n",
       "\n",
       "    .dataframe tbody tr th {\n",
       "        vertical-align: top;\n",
       "    }\n",
       "\n",
       "    .dataframe thead th {\n",
       "        text-align: right;\n",
       "    }\n",
       "</style>\n",
       "<table border=\"1\" class=\"dataframe\">\n",
       "  <thead>\n",
       "    <tr style=\"text-align: right;\">\n",
       "      <th></th>\n",
       "      <th>attribute</th>\n",
       "      <th>information_level</th>\n",
       "      <th>type</th>\n",
       "      <th>missing_or_unknown</th>\n",
       "    </tr>\n",
       "  </thead>\n",
       "  <tbody>\n",
       "    <tr>\n",
       "      <th>1</th>\n",
       "      <td>ALTERSKATEGORIE_GROB</td>\n",
       "      <td>person</td>\n",
       "      <td>ordinal</td>\n",
       "      <td>[-1,0,9]</td>\n",
       "    </tr>\n",
       "    <tr>\n",
       "      <th>2</th>\n",
       "      <td>ANREDE_KZ</td>\n",
       "      <td>person</td>\n",
       "      <td>categorical</td>\n",
       "      <td>[-1,0]</td>\n",
       "    </tr>\n",
       "    <tr>\n",
       "      <th>3</th>\n",
       "      <td>CJT_GESAMTTYP</td>\n",
       "      <td>person</td>\n",
       "      <td>categorical</td>\n",
       "      <td>[0]</td>\n",
       "    </tr>\n",
       "    <tr>\n",
       "      <th>4</th>\n",
       "      <td>FINANZ_MINIMALIST</td>\n",
       "      <td>person</td>\n",
       "      <td>ordinal</td>\n",
       "      <td>[-1]</td>\n",
       "    </tr>\n",
       "    <tr>\n",
       "      <th>5</th>\n",
       "      <td>FINANZ_SPARER</td>\n",
       "      <td>person</td>\n",
       "      <td>ordinal</td>\n",
       "      <td>[-1]</td>\n",
       "    </tr>\n",
       "  </tbody>\n",
       "</table>\n",
       "</div>"
      ],
      "text/plain": [
       "              attribute information_level         type missing_or_unknown\n",
       "1  ALTERSKATEGORIE_GROB            person      ordinal           [-1,0,9]\n",
       "2             ANREDE_KZ            person  categorical             [-1,0]\n",
       "3         CJT_GESAMTTYP            person  categorical                [0]\n",
       "4     FINANZ_MINIMALIST            person      ordinal               [-1]\n",
       "5         FINANZ_SPARER            person      ordinal               [-1]"
      ]
     },
     "execution_count": 35,
     "metadata": {},
     "output_type": "execute_result"
    }
   ],
   "source": [
    "filter_outlier_columns.head()"
   ]
  },
  {
   "cell_type": "code",
   "execution_count": 36,
   "metadata": {},
   "outputs": [],
   "source": [
    "cat_rows = filter_outlier_columns[filter_outlier_columns[\"type\"]==\"categorical\"]"
   ]
  },
  {
   "cell_type": "code",
   "execution_count": 37,
   "metadata": {},
   "outputs": [
    {
     "data": {
      "text/plain": [
       "ANREDE_KZ\n",
       "1    381499\n",
       "2    415578\n",
       "dtype: int64"
      ]
     },
     "execution_count": 37,
     "metadata": {},
     "output_type": "execute_result"
    }
   ],
   "source": [
    "# binary (two-level) categoricals that take numeric values example\n",
    "rows_few_null.groupby([\"ANREDE_KZ\"]).size()#.reset_index(name='count')"
   ]
  },
  {
   "cell_type": "code",
   "execution_count": 38,
   "metadata": {},
   "outputs": [
    {
     "data": {
      "text/plain": [
       "OST_WEST_KZ\n",
       "O    168382\n",
       "W    628695\n",
       "dtype: int64"
      ]
     },
     "execution_count": 38,
     "metadata": {},
     "output_type": "execute_result"
    }
   ],
   "source": [
    "# There is one binary variable that takes on non-numeric values.\n",
    "rows_few_null.groupby([\"OST_WEST_KZ\"]).size()"
   ]
  },
  {
   "cell_type": "code",
   "execution_count": 39,
   "metadata": {},
   "outputs": [
    {
     "data": {
      "text/plain": [
       "CJT_GESAMTTYP\n",
       "1.0     93192\n",
       "2.0    141166\n",
       "3.0    147068\n",
       "4.0    198089\n",
       "5.0    111032\n",
       "6.0    101898\n",
       "dtype: int64"
      ]
     },
     "execution_count": 39,
     "metadata": {},
     "output_type": "execute_result"
    }
   ],
   "source": [
    "# multi-level categoricals example\n",
    "rows_few_null.groupby([\"CJT_GESAMTTYP\"]).size()"
   ]
  },
  {
   "cell_type": "code",
   "execution_count": 40,
   "metadata": {},
   "outputs": [],
   "source": [
    "# Assess categorical variables: which are binary, which are multi-level, and\n",
    "# which one needs to be re-encoded?\n",
    "binary_cat = []\n",
    "multi_lvl = []\n",
    "for cols in cat_rows[\"attribute\"]:\n",
    "    if len(rows_few_null.groupby([cols]).size()) == 2:\n",
    "        binary_cat.append(cols)\n",
    "    else:\n",
    "        multi_lvl.append(cols)"
   ]
  },
  {
   "cell_type": "code",
   "execution_count": 41,
   "metadata": {},
   "outputs": [
    {
     "name": "stdout",
     "output_type": "stream",
     "text": [
      "ANREDE_KZ\n",
      "1    381499\n",
      "2    415578\n",
      "dtype: int64\n",
      "\n",
      "GREEN_AVANTGARDE\n",
      "0    621942\n",
      "1    175135\n",
      "dtype: int64\n",
      "\n",
      "SOHO_KZ\n",
      "0.0    790370\n",
      "1.0      6707\n",
      "dtype: int64\n",
      "\n",
      "VERS_TYP\n",
      "1.0    366623\n",
      "2.0    394116\n",
      "dtype: int64\n",
      "\n",
      "OST_WEST_KZ\n",
      "O    168382\n",
      "W    628695\n",
      "dtype: int64\n",
      "\n"
     ]
    }
   ],
   "source": [
    "for col in binary_cat:\n",
    "    print(\"{}\\n\".format(rows_few_null.groupby([col]).size()))"
   ]
  },
  {
   "cell_type": "code",
   "execution_count": 42,
   "metadata": {},
   "outputs": [
    {
     "data": {
      "text/plain": [
       "[1, 2]"
      ]
     },
     "execution_count": 42,
     "metadata": {},
     "output_type": "execute_result"
    }
   ],
   "source": [
    "list(rows_few_null.groupby([binary_cat[0]]).size().keys())"
   ]
  },
  {
   "cell_type": "code",
   "execution_count": 43,
   "metadata": {},
   "outputs": [
    {
     "name": "stderr",
     "output_type": "stream",
     "text": [
      "/opt/conda/lib/python3.6/site-packages/pandas/core/generic.py:5890: SettingWithCopyWarning: \n",
      "A value is trying to be set on a copy of a slice from a DataFrame\n",
      "\n",
      "See the caveats in the documentation: http://pandas.pydata.org/pandas-docs/stable/indexing.html#indexing-view-versus-copy\n",
      "  self._update_inplace(new_data)\n"
     ]
    }
   ],
   "source": [
    "# Re-encode categorical variable(s) to be kept in the analysis.\n",
    "for i in binary_cat:\n",
    "    keys = list(rows_few_null.groupby([i]).size().keys())\n",
    "    rows_few_null[i].replace({keys[0]:0,keys[1]:1},inplace=True)"
   ]
  },
  {
   "cell_type": "code",
   "execution_count": 44,
   "metadata": {},
   "outputs": [
    {
     "name": "stdout",
     "output_type": "stream",
     "text": [
      "ANREDE_KZ\n",
      "0    381499\n",
      "1    415578\n",
      "dtype: int64\n",
      "\n",
      "GREEN_AVANTGARDE\n",
      "0    621942\n",
      "1    175135\n",
      "dtype: int64\n",
      "\n",
      "SOHO_KZ\n",
      "0.0    790370\n",
      "1.0      6707\n",
      "dtype: int64\n",
      "\n",
      "VERS_TYP\n",
      "0.0    366623\n",
      "1.0    394116\n",
      "dtype: int64\n",
      "\n",
      "OST_WEST_KZ\n",
      "0    168382\n",
      "1    628695\n",
      "dtype: int64\n",
      "\n"
     ]
    }
   ],
   "source": [
    "for col in binary_cat:\n",
    "    print(\"{}\\n\".format(rows_few_null.groupby([col]).size()))"
   ]
  },
  {
   "cell_type": "code",
   "execution_count": 45,
   "metadata": {},
   "outputs": [],
   "source": [
    "rows_few_null=pd.get_dummies(data=rows_few_null,columns=multi_lvl)"
   ]
  },
  {
   "cell_type": "code",
   "execution_count": 46,
   "metadata": {},
   "outputs": [
    {
     "name": "stdout",
     "output_type": "stream",
     "text": [
      "<class 'pandas.core.frame.DataFrame'>\n",
      "Int64Index: 797077 entries, 1 to 891220\n",
      "Columns: 194 entries, ALTERSKATEGORIE_GROB to CAMEO_DEU_2015_9E\n",
      "dtypes: float64(42), int64(23), object(1), uint8(128)\n",
      "memory usage: 524.7+ MB\n"
     ]
    }
   ],
   "source": [
    "rows_few_null.info()"
   ]
  },
  {
   "cell_type": "markdown",
   "metadata": {},
   "source": [
    "#### Discussion 1.2.1: Re-Encode Categorical Features\n",
    "\n",
    "- I found the different types of categorical variables.\n",
    "- I changed the binary ones manually in a for loop (including the non-numeric ones)\n",
    "- I then used pd.get_dummies to change the multi-variable categorical features"
   ]
  },
  {
   "cell_type": "markdown",
   "metadata": {},
   "source": [
    "#### Step 1.2.2: Engineer Mixed-Type Features\n",
    "\n",
    "There are a handful of features that are marked as \"mixed\" in the feature summary that require special treatment in order to be included in the analysis. There are two in particular that deserve attention; the handling of the rest are up to your own choices:\n",
    "* \"PRAEGENDE_JUGENDJAHRE\" combines information on three dimensions: generation by decade, movement (mainstream vs. avantgarde), and nation (east vs. west). While there aren't enough levels to disentangle east from west, you should create two new variables to capture the other two dimensions: an interval-type variable for decade, and a binary variable for movement.\n",
    "\n",
    "### PRAEGENDE_JUGENDJAHRE\n",
    "Dominating movement of person's youth (avantgarde vs. mainstream; east vs. west)\n",
    "- -1: unknown\n",
    "-  0: unknown\n",
    "-  1: 40s - war years (Mainstream, E+W)\n",
    "-  2: 40s - reconstruction years (Avantgarde, E+W)\n",
    "-  3: 50s - economic miracle (Mainstream, E+W)\n",
    "-  4: 50s - milk bar / Individualisation (Avantgarde, E+W)\n",
    "-  5: 60s - economic miracle (Mainstream, E+W)\n",
    "-  6: 60s - generation 68 / student protestors (Avantgarde, W)\n",
    "-  7: 60s - opponents to the building of the Wall (Avantgarde, E)\n",
    "-  8: 70s - family orientation (Mainstream, E+W)\n",
    "-  9: 70s - peace movement (Avantgarde, E+W)\n",
    "- 10: 80s - Generation Golf (Mainstream, W)\n",
    "- 11: 80s - ecological awareness (Avantgarde, W)\n",
    "- 12: 80s - FDJ / communist party youth organisation (Mainstream, E)\n",
    "- 13: 80s - Swords into ploughshares (Avantgarde, E)\n",
    "- 14: 90s - digital media kids (Mainstream, E+W)\n",
    "- 15: 90s - ecological awareness (Avantgarde, E+W)\n",
    "\n",
    "Be sure to check `Data_Dictionary.md` for the details needed to finish these tasks."
   ]
  },
  {
   "cell_type": "code",
   "execution_count": 47,
   "metadata": {},
   "outputs": [
    {
     "data": {
      "text/plain": [
       "1    14.0\n",
       "2    15.0\n",
       "3     8.0\n",
       "4     8.0\n",
       "5     3.0\n",
       "Name: PRAEGENDE_JUGENDJAHRE, dtype: float64"
      ]
     },
     "execution_count": 47,
     "metadata": {},
     "output_type": "execute_result"
    }
   ],
   "source": [
    "# Investigate \"PRAEGENDE_JUGENDJAHRE\" and engineer two new variables.\n",
    "rows_few_null[\"PRAEGENDE_JUGENDJAHRE\"].head()"
   ]
  },
  {
   "cell_type": "code",
   "execution_count": 48,
   "metadata": {},
   "outputs": [],
   "source": [
    "rows_few_null['MOVEMENT'] = rows_few_null['PRAEGENDE_JUGENDJAHRE']\n",
    "rows_few_null['DECADE'] = rows_few_null['PRAEGENDE_JUGENDJAHRE']"
   ]
  },
  {
   "cell_type": "code",
   "execution_count": 49,
   "metadata": {},
   "outputs": [],
   "source": [
    "string_prae_jugend = \"\"\"1: 40s  war years (Mainstream, E+W)\n",
    "-2: 40s  reconstruction years (Avantgarde, E+W)\n",
    "-3: 50s  economic miracle (Mainstream, E+W)\n",
    "-4: 50s  milk bar / Individualisation (Avantgarde, E+W)\n",
    "-5: 60s  economic miracle (Mainstream, E+W)\n",
    "-6: 60s  generation 68 / student protestors (Avantgarde, W)\n",
    "-7: 60s  opponents to the building of the Wall (Avantgarde, E)\n",
    "-8: 70s  family orientation (Mainstream, E+W)\n",
    "-9: 70s  peace movement (Avantgarde, E+W)\n",
    "-10: 80s  Generation Golf (Mainstream, W)\n",
    "-11: 80s  ecological awareness (Avantgarde, W)\n",
    "-12: 80s  FDJ / communist party youth organisation (Mainstream, E)\n",
    "-13: 80s  Swords into ploughshares (Avantgarde, E)\n",
    "-14: 90s  digital media kids (Mainstream, E+W)\n",
    "-15: 90s  ecological awareness (Avantgarde, E+W)\"\"\""
   ]
  },
  {
   "cell_type": "code",
   "execution_count": 50,
   "metadata": {},
   "outputs": [],
   "source": [
    "data_dict_list = string_prae_jugend.split(\"-\")"
   ]
  },
  {
   "cell_type": "code",
   "execution_count": 51,
   "metadata": {},
   "outputs": [
    {
     "data": {
      "text/plain": [
       "{1: 0,\n",
       " 2: 1,\n",
       " 3: 0,\n",
       " 4: 1,\n",
       " 5: 0,\n",
       " 6: 1,\n",
       " 7: 1,\n",
       " 8: 0,\n",
       " 9: 1,\n",
       " 10: 0,\n",
       " 11: 1,\n",
       " 12: 0,\n",
       " 13: 1,\n",
       " 14: 0,\n",
       " 15: 1}"
      ]
     },
     "execution_count": 51,
     "metadata": {},
     "output_type": "execute_result"
    }
   ],
   "source": [
    "# Make a binary dict for Movement (Mainstream = 0, Avantgarde = 1)\n",
    "move_dict = {}\n",
    "movement ={\"Mainstream\":0, \"Avantgarde\":1}\n",
    "for entry in data_dict_list:\n",
    "    entry = entry.split(\":\")\n",
    "    if \"Mainstream\" in entry[1]:\n",
    "        move_dict[int(entry[0])] = movement[\"Mainstream\"]\n",
    "    elif \"Avantgarde\" in entry[1]:\n",
    "        move_dict[int(entry[0])] = movement[\"Avantgarde\"]\n",
    "move_dict"
   ]
  },
  {
   "cell_type": "code",
   "execution_count": 52,
   "metadata": {},
   "outputs": [
    {
     "data": {
      "text/plain": [
       "'1: 40'"
      ]
     },
     "execution_count": 52,
     "metadata": {},
     "output_type": "execute_result"
    }
   ],
   "source": [
    "data_dict_list[0][:data_dict_list[0].index(\"s\")]"
   ]
  },
  {
   "cell_type": "code",
   "execution_count": 53,
   "metadata": {},
   "outputs": [
    {
     "data": {
      "text/plain": [
       "[40, 40, 50, 50, 60, 60, 60, 70, 70, 80, 80, 80, 80, 90, 90]"
      ]
     },
     "execution_count": 53,
     "metadata": {},
     "output_type": "execute_result"
    }
   ],
   "source": [
    "#data_dict_list_filter = [[:entry[\"s\"]] for entry in data_dict_list]\n",
    "decade_list = []\n",
    "for entry in range(len(data_dict_list)):\n",
    "    dummy_list = data_dict_list[entry][:data_dict_list[entry].index(\"s\")]\n",
    "    dummy_list = dummy_list[dummy_list.index(\" \"):]\n",
    "    decade_list.append(int(dummy_list))\n",
    "decade_list"
   ]
  },
  {
   "cell_type": "code",
   "execution_count": 54,
   "metadata": {},
   "outputs": [
    {
     "data": {
      "text/plain": [
       "{40: 1, 50: 2, 60: 3, 70: 4, 80: 5, 90: 6}"
      ]
     },
     "execution_count": 54,
     "metadata": {},
     "output_type": "execute_result"
    }
   ],
   "source": [
    "decade_list_unique = list(sorted(set(decade_list)))\n",
    "decade_set_dict = {}\n",
    "for entry in range(len(decade_list_unique)):\n",
    "    decade_set_dict[decade_list_unique[entry]]=entry+1\n",
    "decade_set_dict"
   ]
  },
  {
   "cell_type": "code",
   "execution_count": 55,
   "metadata": {},
   "outputs": [
    {
     "data": {
      "text/plain": [
       "{1: 1,\n",
       " 2: 1,\n",
       " 3: 2,\n",
       " 4: 2,\n",
       " 5: 3,\n",
       " 6: 3,\n",
       " 7: 3,\n",
       " 8: 4,\n",
       " 9: 4,\n",
       " 10: 5,\n",
       " 11: 5,\n",
       " 12: 5,\n",
       " 13: 5,\n",
       " 14: 6,\n",
       " 15: 6}"
      ]
     },
     "execution_count": 55,
     "metadata": {},
     "output_type": "execute_result"
    }
   ],
   "source": [
    "decade_dict = {}\n",
    "for entry in range(1,len(decade_list)+1):\n",
    "    decade_dict[entry] = decade_set_dict[decade_list[entry-1]]\n",
    "decade_dict"
   ]
  },
  {
   "cell_type": "code",
   "execution_count": 56,
   "metadata": {},
   "outputs": [],
   "source": [
    "rows_few_null['MOVEMENT'].replace(move_dict, inplace=True)\n",
    "rows_few_null['DECADE'].replace(decade_dict, inplace=True)"
   ]
  },
  {
   "cell_type": "markdown",
   "metadata": {},
   "source": [
    "* \"CAMEO_INTL_2015\" combines information on two axes: wealth and life stage. Break up the two-digit codes by their 'tens'-place and 'ones'-place digits into two new ordinal variables (which, for the purposes of this project, is equivalent to just treating them as their raw numeric values).\n",
    "* If you decide to keep or engineer new features around the other mixed-type features, make sure you note your steps in the Discussion section.\n",
    "\n",
    "### CAMEO_INTL_2015\n",
    "German CAMEO: Wealth / Life Stage Typology, mapped to international code\n",
    "- -1: unknown\n",
    "- 11: Wealthy Households - Pre-Family Couples & Singles\n",
    "- 12: Wealthy Households - Young Couples With Children\n",
    "- 13: Wealthy Households - Families With School Age Children\n",
    "- 14: Wealthy Households - Older Families &  Mature Couples\n",
    "- 15: Wealthy Households - Elders In Retirement\n",
    "- 21: Prosperous Households - Pre-Family Couples & Singles\n",
    "- 22: Prosperous Households - Young Couples With Children\n",
    "- 23: Prosperous Households - Families With School Age Children\n",
    "- 24: Prosperous Households - Older Families & Mature Couples\n",
    "- 25: Prosperous Households - Elders In Retirement\n",
    "- 31: Comfortable Households - Pre-Family Couples & Singles\n",
    "- 32: Comfortable Households - Young Couples With Children\n",
    "- 33: Comfortable Households - Families With School Age Children\n",
    "- 34: Comfortable Households - Older Families & Mature Couples\n",
    "- 35: Comfortable Households - Elders In Retirement\n",
    "- 41: Less Affluent Households - Pre-Family Couples & Singles\n",
    "- 42: Less Affluent Households - Young Couples With Children\n",
    "- 43: Less Affluent Households - Families With School Age Children\n",
    "- 44: Less Affluent Households - Older Families & Mature Couples\n",
    "- 45: Less Affluent Households - Elders In Retirement\n",
    "- 51: Poorer Households - Pre-Family Couples & Singles\n",
    "- 52: Poorer Households - Young Couples With Children\n",
    "- 53: Poorer Households - Families With School Age Children\n",
    "- 54: Poorer Households - Older Families & Mature Couples\n",
    "- 55: Poorer Households - Elders In Retirement\n",
    "- XX: unknown"
   ]
  },
  {
   "cell_type": "code",
   "execution_count": 57,
   "metadata": {},
   "outputs": [],
   "source": [
    "# Investigate \"CAMEO_INTL_2015\" and engineer two new variables.\n",
    "rows_few_null['WEALTH'] = rows_few_null['CAMEO_INTL_2015']\n",
    "rows_few_null['LIFE_STAGE'] = rows_few_null['CAMEO_INTL_2015']"
   ]
  },
  {
   "cell_type": "code",
   "execution_count": 58,
   "metadata": {},
   "outputs": [],
   "source": [
    "string_cam = \"\"\"11: Wealthy Households - Pre-Family Couples & Singles\n",
    "12: Wealthy Households - Young Couples With Children\n",
    "13: Wealthy Households - Families With School Age Children\n",
    "14: Wealthy Households - Older Families & Mature Couples\n",
    "15: Wealthy Households - Elders In Retirement\n",
    "21: Prosperous Households - Pre-Family Couples & Singles\n",
    "22: Prosperous Households - Young Couples With Children\n",
    "23: Prosperous Households - Families With School Age Children\n",
    "24: Prosperous Households - Older Families & Mature Couples\n",
    "25: Prosperous Households - Elders In Retirement\n",
    "31: Comfortable Households - Pre-Family Couples & Singles\n",
    "32: Comfortable Households - Young Couples With Children\n",
    "33: Comfortable Households - Families With School Age Children\n",
    "34: Comfortable Households - Older Families & Mature Couples\n",
    "35: Comfortable Households - Elders In Retirement\n",
    "41: Less Affluent Households - Pre-Family Couples & Singles\n",
    "42: Less Affluent Households - Young Couples With Children\n",
    "43: Less Affluent Households - Families With School Age Children\n",
    "44: Less Affluent Households - Older Families & Mature Couples\n",
    "45: Less Affluent Households - Elders In Retirement\n",
    "51: Poorer Households - Pre-Family Couples & Singles\n",
    "52: Poorer Households - Young Couples With Children\n",
    "53: Poorer Households - Families With School Age Children\n",
    "54: Poorer Households - Older Families & Mature Couples\n",
    "55: Poorer Households - Elders In Retirement\"\"\""
   ]
  },
  {
   "cell_type": "code",
   "execution_count": 59,
   "metadata": {},
   "outputs": [
    {
     "data": {
      "text/plain": [
       "['11: Wealthy Households - Pre-Family Couples & Singles',\n",
       " '12: Wealthy Households - Young Couples With Children',\n",
       " '13: Wealthy Households - Families With School Age Children',\n",
       " '14: Wealthy Households - Older Families & Mature Couples',\n",
       " '15: Wealthy Households - Elders In Retirement',\n",
       " '21: Prosperous Households - Pre-Family Couples & Singles',\n",
       " '22: Prosperous Households - Young Couples With Children',\n",
       " '23: Prosperous Households - Families With School Age Children',\n",
       " '24: Prosperous Households - Older Families & Mature Couples',\n",
       " '25: Prosperous Households - Elders In Retirement',\n",
       " '31: Comfortable Households - Pre-Family Couples & Singles',\n",
       " '32: Comfortable Households - Young Couples With Children',\n",
       " '33: Comfortable Households - Families With School Age Children',\n",
       " '34: Comfortable Households - Older Families & Mature Couples',\n",
       " '35: Comfortable Households - Elders In Retirement',\n",
       " '41: Less Affluent Households - Pre-Family Couples & Singles',\n",
       " '42: Less Affluent Households - Young Couples With Children',\n",
       " '43: Less Affluent Households - Families With School Age Children',\n",
       " '44: Less Affluent Households - Older Families & Mature Couples',\n",
       " '45: Less Affluent Households - Elders In Retirement',\n",
       " '51: Poorer Households - Pre-Family Couples & Singles',\n",
       " '52: Poorer Households - Young Couples With Children',\n",
       " '53: Poorer Households - Families With School Age Children',\n",
       " '54: Poorer Households - Older Families & Mature Couples',\n",
       " '55: Poorer Households - Elders In Retirement']"
      ]
     },
     "execution_count": 59,
     "metadata": {},
     "output_type": "execute_result"
    }
   ],
   "source": [
    "string_cam = string_cam.split(\"\\n\")\n",
    "string_cam"
   ]
  },
  {
   "cell_type": "code",
   "execution_count": 60,
   "metadata": {},
   "outputs": [
    {
     "data": {
      "text/plain": [
       "{'11': 1,\n",
       " '12': 1,\n",
       " '13': 1,\n",
       " '14': 1,\n",
       " '15': 1,\n",
       " '21': 2,\n",
       " '22': 2,\n",
       " '23': 2,\n",
       " '24': 2,\n",
       " '25': 2,\n",
       " '31': 3,\n",
       " '32': 3,\n",
       " '33': 3,\n",
       " '34': 3,\n",
       " '35': 3,\n",
       " '41': 4,\n",
       " '42': 4,\n",
       " '43': 4,\n",
       " '44': 4,\n",
       " '45': 4,\n",
       " '51': 5,\n",
       " '52': 5,\n",
       " '53': 5,\n",
       " '54': 5,\n",
       " '55': 5}"
      ]
     },
     "execution_count": 60,
     "metadata": {},
     "output_type": "execute_result"
    }
   ],
   "source": [
    "wealth_dict = {}\n",
    "wealth ={\"Wealthy\":1, \"Prosperous\":2, \"Comfortable\":3, \"Less Affluent\":4, \"Poorer\":5}\n",
    "for entry in string_cam:\n",
    "    entry = entry.split(\":\")\n",
    "    if \"Wealthy\" in entry[1]:\n",
    "        wealth_dict[entry[0]] = wealth[\"Wealthy\"]\n",
    "    elif \"Prosperous\" in entry[1]:\n",
    "        wealth_dict[entry[0]] = wealth[\"Prosperous\"]\n",
    "    elif \"Comfortable\" in entry[1]:\n",
    "        wealth_dict[entry[0]] = wealth[\"Comfortable\"]\n",
    "    elif \"Less Affluent\" in entry[1]:\n",
    "        wealth_dict[entry[0]] = wealth[\"Less Affluent\"]\n",
    "    elif \"Poorer\" in entry[1]:\n",
    "        wealth_dict[entry[0]] = wealth[\"Poorer\"]\n",
    "wealth_dict"
   ]
  },
  {
   "cell_type": "code",
   "execution_count": 61,
   "metadata": {},
   "outputs": [
    {
     "data": {
      "text/plain": [
       "{'11': 1,\n",
       " '12': 2,\n",
       " '13': 3,\n",
       " '14': 4,\n",
       " '15': 5,\n",
       " '21': 1,\n",
       " '22': 2,\n",
       " '23': 3,\n",
       " '24': 4,\n",
       " '25': 5,\n",
       " '31': 1,\n",
       " '32': 2,\n",
       " '33': 3,\n",
       " '34': 4,\n",
       " '35': 5,\n",
       " '41': 1,\n",
       " '42': 2,\n",
       " '43': 3,\n",
       " '44': 4,\n",
       " '45': 5,\n",
       " '51': 1,\n",
       " '52': 2,\n",
       " '53': 3,\n",
       " '54': 4,\n",
       " '55': 5}"
      ]
     },
     "execution_count": 61,
     "metadata": {},
     "output_type": "execute_result"
    }
   ],
   "source": [
    "life_stage_dict = {}\n",
    "life_stages ={\"Singles\":1, \"Young\":2, \"School\":3, \"Older\":4, \"Retirement\":5}\n",
    "for entry in string_cam:\n",
    "    entry = entry.split(\":\")\n",
    "    if \"Singles\" in entry[1]:\n",
    "        life_stage_dict[entry[0]] = life_stages[\"Singles\"]\n",
    "    elif \"Young\" in entry[1]:\n",
    "        life_stage_dict[entry[0]] = life_stages[\"Young\"]\n",
    "    elif \"School\" in entry[1]:\n",
    "        life_stage_dict[entry[0]] = life_stages[\"School\"]\n",
    "    elif \"Older\" in entry[1]:\n",
    "        life_stage_dict[entry[0]] = life_stages[\"Older\"]\n",
    "    elif \"Retirement\" in entry[1]:\n",
    "        life_stage_dict[entry[0]] = life_stages[\"Retirement\"]\n",
    "life_stage_dict"
   ]
  },
  {
   "cell_type": "code",
   "execution_count": 62,
   "metadata": {},
   "outputs": [],
   "source": [
    "rows_few_null['WEALTH'].replace(wealth_dict, inplace=True)\n",
    "rows_few_null['LIFE_STAGE'].replace(life_stage_dict, inplace=True)"
   ]
  },
  {
   "cell_type": "markdown",
   "metadata": {},
   "source": [
    "#### Discussion 1.2.2: Engineer Mixed-Type Features\n",
    "\n",
    "I decided to keep the two mixed-features:\n",
    "- PRAEGENDE_JUGENDJAHRE\n",
    "- CAMEO_INTL_2015\n",
    "In order to train more in the data preperation stage.\n",
    "<br>\n",
    "\n",
    "Since python is such an amazing automating tool, I assumed that the Data_dictionary file requirements for the two columns are data themselves, and saved the information as a string variable for extraction purposes.\n",
    "<br>\n",
    "Then I created two columns for each mixed-feature, and extracted the necessary information that classify the different cases. The case types are saved in dictionaries, and are used to map the values in the columns to their respective transformations"
   ]
  },
  {
   "cell_type": "markdown",
   "metadata": {},
   "source": [
    "#### Step 1.2.3: Complete Feature Selection\n",
    "\n",
    "In order to finish this step up, you need to make sure that your data frame now only has the columns that you want to keep. To summarize, the dataframe should consist of the following:\n",
    "- All numeric, interval, and ordinal type columns from the original dataset.\n",
    "- Binary categorical features (all numerically-encoded).\n",
    "- Engineered features from other multi-level categorical features and mixed features.\n",
    "\n",
    "Make sure that for any new columns that you have engineered, that you've excluded the original columns from the final dataset. Otherwise, their values will interfere with the analysis later on the project. For example, you should not keep \"PRAEGENDE_JUGENDJAHRE\", since its values won't be useful for the algorithm: only the values derived from it in the engineered features you created should be retained. As a reminder, your data should only be from **the subset with few or no missing values**."
   ]
  },
  {
   "cell_type": "code",
   "execution_count": 63,
   "metadata": {},
   "outputs": [],
   "source": [
    "# If there are other re-engineering tasks you need to perform, make sure you\n",
    "# take care of them here. (Dealing with missing data will come in step 2.1.)\n",
    "\n"
   ]
  },
  {
   "cell_type": "code",
   "execution_count": 64,
   "metadata": {},
   "outputs": [
    {
     "data": {
      "text/plain": [
       "15      LP_LEBENSPHASE_FEIN\n",
       "16      LP_LEBENSPHASE_GROB\n",
       "22    PRAEGENDE_JUGENDJAHRE\n",
       "56                 WOHNLAGE\n",
       "59          CAMEO_INTL_2015\n",
       "79              PLZ8_BAUMAX\n",
       "Name: attribute, dtype: object"
      ]
     },
     "execution_count": 64,
     "metadata": {},
     "output_type": "execute_result"
    }
   ],
   "source": [
    "mixed_features = filter_outlier_columns[filter_outlier_columns[\"type\"]==\"mixed\"][\"attribute\"]\n",
    "mixed_features"
   ]
  },
  {
   "cell_type": "code",
   "execution_count": 65,
   "metadata": {},
   "outputs": [
    {
     "data": {
      "text/plain": [
       "198"
      ]
     },
     "execution_count": 65,
     "metadata": {},
     "output_type": "execute_result"
    }
   ],
   "source": [
    "len(rows_few_null.columns)"
   ]
  },
  {
   "cell_type": "code",
   "execution_count": 66,
   "metadata": {},
   "outputs": [
    {
     "data": {
      "text/plain": [
       "192"
      ]
     },
     "execution_count": 66,
     "metadata": {},
     "output_type": "execute_result"
    }
   ],
   "source": [
    "# Do whatever you need to in order to ensure that the dataframe only contains\n",
    "# the columns that should be passed to the algorithm functions.\n",
    "for mix in mixed_features:\n",
    "    if mix in rows_few_null.columns:\n",
    "        rows_few_null.drop(mix,axis=1,inplace=True)\n",
    "len(rows_few_null.columns)"
   ]
  },
  {
   "cell_type": "markdown",
   "metadata": {},
   "source": [
    "### Step 1.3: Create a Cleaning Function\n",
    "\n",
    "Even though you've finished cleaning up the general population demographics data, it's important to look ahead to the future and realize that you'll need to perform the same cleaning steps on the customer demographics data. In this substep, complete the function below to execute the main feature selection, encoding, and re-engineering steps you performed above. Then, when it comes to looking at the customer data in Step 3, you can just run this function on that DataFrame to get the trimmed dataset in a single step."
   ]
  },
  {
   "cell_type": "code",
   "execution_count": 67,
   "metadata": {},
   "outputs": [],
   "source": [
    "def clean_data(df, feat_info):\n",
    "    \"\"\"\n",
    "    Perform feature trimming, re-encoding, and engineering for demographics\n",
    "    data\n",
    "    \n",
    "    INPUT: Demographics DataFrame\n",
    "    OUTPUT: Trimmed and cleaned demographics DataFrame\n",
    "    \"\"\"\n",
    "    \n",
    "    # Put in code here to execute all main cleaning steps:\n",
    "    # convert missing value codes into NaNs, ...\n",
    "    for row in range(len(feat_info)):\n",
    "        content = feat_info.iloc[row]['missing_or_unknown'].strip('[]').split(\",\")\n",
    "        for idx, contents in enumerate(content):\n",
    "            if contents != \"\" and contents != \"X\" and contents != \"XX\":\n",
    "                content[idx] = int(contents)\n",
    "        if content != ['']:\n",
    "            df = df.replace({feat_info.iloc[row]['attribute']: content}, np.nan)\n",
    "\n",
    "    # remove selected columns and rows, ...\n",
    "    null_cols = df.isnull().sum()\n",
    "    null_cols_per = null_cols*100/df.shape[0]\n",
    "    \n",
    "    outlier_cols = null_cols_per[null_cols_per > null_cols_per[\"REGIOTYP\"]].keys()\n",
    "    df = df.drop(outlier_cols, axis=1)\n",
    "    \n",
    "    null_rows = df.isnull().sum(axis=1)\n",
    "    df = df[null_rows<20]\n",
    "\n",
    "    # select, re-encode, and engineer column values.\n",
    "    filter_outlier_columns = feat_info[feat_info['attribute'].isin(df.columns)]\n",
    "    #filter_outlier_columns.groupby([\"type\"]).size()\n",
    "    \n",
    "    cat_rows = filter_outlier_columns[filter_outlier_columns[\"type\"]==\"categorical\"]\n",
    "\n",
    "    binary_cat = []\n",
    "    multi_lvl = []\n",
    "    for cols in cat_rows[\"attribute\"]:\n",
    "        if len(df.groupby([cols]).size()) == 2:\n",
    "            binary_cat.append(cols)\n",
    "        else:\n",
    "            multi_lvl.append(cols)\n",
    "            \n",
    "    for i in binary_cat:\n",
    "        keys = list(df.groupby([i]).size().keys())\n",
    "        df[i].replace({keys[0]:0,keys[1]:1},inplace=True)\n",
    "        \n",
    "    df = pd.get_dummies(data=df,columns=multi_lvl)\n",
    "    \n",
    "    df['MOVEMENT'] = df['PRAEGENDE_JUGENDJAHRE']\n",
    "    df['DECADE'] = df['PRAEGENDE_JUGENDJAHRE']\n",
    "    \n",
    "    string_prae_jugend = \"\"\"1: 40s  war years (Mainstream, E+W)\n",
    "    -2: 40s  reconstruction years (Avantgarde, E+W)\n",
    "    -3: 50s  economic miracle (Mainstream, E+W)\n",
    "    -4: 50s  milk bar / Individualisation (Avantgarde, E+W)\n",
    "    -5: 60s  economic miracle (Mainstream, E+W)\n",
    "    -6: 60s  generation 68 / student protestors (Avantgarde, W)\n",
    "    -7: 60s  opponents to the building of the Wall (Avantgarde, E)\n",
    "    -8: 70s  family orientation (Mainstream, E+W)\n",
    "    -9: 70s  peace movement (Avantgarde, E+W)\n",
    "    -10: 80s  Generation Golf (Mainstream, W)\n",
    "    -11: 80s  ecological awareness (Avantgarde, W)\n",
    "    -12: 80s  FDJ / communist party youth organisation (Mainstream, E)\n",
    "    -13: 80s  Swords into ploughshares (Avantgarde, E)\n",
    "    -14: 90s  digital media kids (Mainstream, E+W)\n",
    "    -15: 90s  ecological awareness (Avantgarde, E+W)\"\"\"\n",
    "    \n",
    "    data_dict_list = string_prae_jugend.split(\"-\")\n",
    "    move_dict = {}\n",
    "    movement ={\"Mainstream\":0, \"Avantgarde\":1}\n",
    "    for entry in data_dict_list:\n",
    "        entry = entry.split(\":\")\n",
    "        if \"Mainstream\" in entry[1]:\n",
    "            move_dict[int(entry[0])] = movement[\"Mainstream\"]\n",
    "        elif \"Avantgarde\" in entry[1]:\n",
    "            move_dict[int(entry[0])] = movement[\"Avantgarde\"]\n",
    "            \n",
    "    decade_list = []\n",
    "    for entry in range(len(data_dict_list)):\n",
    "        dummy_list = data_dict_list[entry][:data_dict_list[entry].index(\"s\")]\n",
    "        dummy_list = dummy_list[dummy_list.index(\" \"):]\n",
    "        decade_list.append(int(dummy_list))\n",
    "        \n",
    "    decade_list_unique = list(sorted(set(decade_list)))\n",
    "    decade_set_dict = {}\n",
    "    for entry in range(len(decade_list_unique)):\n",
    "        decade_set_dict[decade_list_unique[entry]]=entry+1\n",
    "\n",
    "    decade_dict = {}\n",
    "    for entry in range(1,len(decade_list)+1):\n",
    "        decade_dict[entry] = decade_set_dict[decade_list[entry-1]]\n",
    "\n",
    "    df['MOVEMENT'].replace(move_dict, inplace=True)\n",
    "    df['DECADE'].replace(decade_dict, inplace=True)\n",
    "\n",
    "    string_cam = \"\"\"11: Wealthy Households - Pre-Family Couples & Singles\n",
    "    12: Wealthy Households - Young Couples With Children\n",
    "    13: Wealthy Households - Families With School Age Children\n",
    "    14: Wealthy Households - Older Families & Mature Couples\n",
    "    15: Wealthy Households - Elders In Retirement\n",
    "    21: Prosperous Households - Pre-Family Couples & Singles\n",
    "    22: Prosperous Households - Young Couples With Children\n",
    "    23: Prosperous Households - Families With School Age Children\n",
    "    24: Prosperous Households - Older Families & Mature Couples\n",
    "    25: Prosperous Households - Elders In Retirement\n",
    "    31: Comfortable Households - Pre-Family Couples & Singles\n",
    "    32: Comfortable Households - Young Couples With Children\n",
    "    33: Comfortable Households - Families With School Age Children\n",
    "    34: Comfortable Households - Older Families & Mature Couples\n",
    "    35: Comfortable Households - Elders In Retirement\n",
    "    41: Less Affluent Households - Pre-Family Couples & Singles\n",
    "    42: Less Affluent Households - Young Couples With Children\n",
    "    43: Less Affluent Households - Families With School Age Children\n",
    "    44: Less Affluent Households - Older Families & Mature Couples\n",
    "    45: Less Affluent Households - Elders In Retirement\n",
    "    51: Poorer Households - Pre-Family Couples & Singles\n",
    "    52: Poorer Households - Young Couples With Children\n",
    "    53: Poorer Households - Families With School Age Children\n",
    "    54: Poorer Households - Older Families & Mature Couples\n",
    "    55: Poorer Households - Elders In Retirement\"\"\"\n",
    "    \n",
    "    df['WEALTH'] = df['CAMEO_INTL_2015']\n",
    "    df['LIFE_STAGE'] = df['CAMEO_INTL_2015']\n",
    "    \n",
    "    string_cam = string_cam.split(\"\\n\")\n",
    "    \n",
    "    wealth_dict = {}\n",
    "    wealth ={\"Wealthy\":1, \"Prosperous\":2, \"Comfortable\":3, \"Less Affluent\":4, \"Poorer\":5}\n",
    "    for entry in string_cam:\n",
    "        entry = entry.split(\":\")\n",
    "        if \"Wealthy\" in entry[1]:\n",
    "            wealth_dict[entry[0]] = wealth[\"Wealthy\"]\n",
    "        elif \"Prosperous\" in entry[1]:\n",
    "            wealth_dict[entry[0]] = wealth[\"Prosperous\"]\n",
    "        elif \"Comfortable\" in entry[1]:\n",
    "            wealth_dict[entry[0]] = wealth[\"Comfortable\"]\n",
    "        elif \"Less Affluent\" in entry[1]:\n",
    "            wealth_dict[entry[0]] = wealth[\"Less Affluent\"]\n",
    "        elif \"Poorer\" in entry[1]:\n",
    "            wealth_dict[entry[0]] = wealth[\"Poorer\"]\n",
    "\n",
    "    life_stage_dict = {}\n",
    "    life_stages ={\"Singles\":1, \"Young\":2, \"School\":3, \"Older\":4, \"Retirement\":5}\n",
    "    for entry in string_cam:\n",
    "        entry = entry.split(\":\")\n",
    "        if \"Singles\" in entry[1]:\n",
    "            life_stage_dict[entry[0]] = life_stages[\"Singles\"]\n",
    "        elif \"Young\" in entry[1]:\n",
    "            life_stage_dict[entry[0]] = life_stages[\"Young\"]\n",
    "        elif \"School\" in entry[1]:\n",
    "            life_stage_dict[entry[0]] = life_stages[\"School\"]\n",
    "        elif \"Older\" in entry[1]:\n",
    "            life_stage_dict[entry[0]] = life_stages[\"Older\"]\n",
    "        elif \"Retirement\" in entry[1]:\n",
    "            life_stage_dict[entry[0]] = life_stages[\"Retirement\"]\n",
    "\n",
    "    df['WEALTH'].replace(wealth_dict, inplace=True)\n",
    "    df['LIFE_STAGE'].replace(life_stage_dict, inplace=True)\n",
    "\n",
    "    #create dict I will use it to re-engineer the mixed variables\n",
    "    mixed_features = filter_outlier_columns[filter_outlier_columns[\"type\"]==\"mixed\"][\"attribute\"]\n",
    "    \n",
    "    for mix in mixed_features:\n",
    "        if mix in df.columns:\n",
    "            df.drop(mix,axis=1,inplace=True)\n",
    "    return df"
   ]
  },
  {
   "cell_type": "code",
   "execution_count": 68,
   "metadata": {},
   "outputs": [],
   "source": [
    "azdias_test = pd.read_csv(\"Udacity_AZDIAS_Subset.csv\",sep=';')"
   ]
  },
  {
   "cell_type": "code",
   "execution_count": 69,
   "metadata": {},
   "outputs": [],
   "source": [
    "df=clean_data(azdias_test,feat_info)"
   ]
  },
  {
   "cell_type": "code",
   "execution_count": 70,
   "metadata": {},
   "outputs": [
    {
     "name": "stdout",
     "output_type": "stream",
     "text": [
      "<class 'pandas.core.frame.DataFrame'>\n",
      "Int64Index: 797077 entries, 1 to 891220\n",
      "Columns: 192 entries, ALTERSKATEGORIE_GROB to LIFE_STAGE\n",
      "dtypes: float64(39), int64(23), object(2), uint8(128)\n",
      "memory usage: 492.6+ MB\n"
     ]
    }
   ],
   "source": [
    "df.info()"
   ]
  },
  {
   "cell_type": "code",
   "execution_count": 71,
   "metadata": {},
   "outputs": [
    {
     "name": "stdout",
     "output_type": "stream",
     "text": [
      "<class 'pandas.core.frame.DataFrame'>\n",
      "Int64Index: 797077 entries, 1 to 891220\n",
      "Columns: 192 entries, ALTERSKATEGORIE_GROB to LIFE_STAGE\n",
      "dtypes: float64(41), int64(23), uint8(128)\n",
      "memory usage: 512.6 MB\n"
     ]
    }
   ],
   "source": [
    "rows_few_null.info()"
   ]
  },
  {
   "cell_type": "markdown",
   "metadata": {},
   "source": [
    "## Step 2: Feature Transformation\n",
    "\n",
    "### Step 2.1: Apply Feature Scaling\n",
    "\n",
    "Before we apply dimensionality reduction techniques to the data, we need to perform feature scaling so that the principal component vectors are not influenced by the natural differences in scale for features. Starting from this part of the project, you'll want to keep an eye on the [API reference page for sklearn](http://scikit-learn.org/stable/modules/classes.html) to help you navigate to all of the classes and functions that you'll need. In this substep, you'll need to check the following:\n",
    "\n",
    "- sklearn requires that data not have missing values in order for its estimators to work properly. So, before applying the scaler to your data, make sure that you've cleaned the DataFrame of the remaining missing values. This can be as simple as just removing all data points with missing data, or applying an [Imputer](http://scikit-learn.org/stable/modules/generated/sklearn.preprocessing.Imputer.html) to replace all missing values. You might also try a more complicated procedure where you temporarily remove missing values in order to compute the scaling parameters before re-introducing those missing values and applying imputation. Think about how much missing data you have and what possible effects each approach might have on your analysis, and justify your decision in the discussion section below.\n",
    "- For the actual scaling function, a [StandardScaler](http://scikit-learn.org/stable/modules/generated/sklearn.preprocessing.StandardScaler.html) instance is suggested, scaling each feature to mean 0 and standard deviation 1.\n",
    "- For these classes, you can make use of the `.fit_transform()` method to both fit a procedure to the data as well as apply the transformation to the data at the same time. Don't forget to keep the fit sklearn objects handy, since you'll be applying them to the customer demographics data towards the end of the project."
   ]
  },
  {
   "cell_type": "code",
   "execution_count": 72,
   "metadata": {},
   "outputs": [
    {
     "data": {
      "text/plain": [
       "745996"
      ]
     },
     "execution_count": 72,
     "metadata": {},
     "output_type": "execute_result"
    }
   ],
   "source": [
    "df.isnull().sum().sum()"
   ]
  },
  {
   "cell_type": "code",
   "execution_count": 73,
   "metadata": {},
   "outputs": [],
   "source": [
    "# If you've not yet cleaned the dataset of all NaN values, then investigate and\n",
    "# do that now.\n",
    "clean_missing = Imputer()\n",
    "azdias_clean = clean_missing.fit_transform(df)\n",
    "azdias_clean_df = pd.DataFrame(azdias_clean, \n",
    "                            columns=df.columns, \n",
    "                            index=df.index)"
   ]
  },
  {
   "cell_type": "code",
   "execution_count": 74,
   "metadata": {},
   "outputs": [
    {
     "data": {
      "text/plain": [
       "0"
      ]
     },
     "execution_count": 74,
     "metadata": {},
     "output_type": "execute_result"
    }
   ],
   "source": [
    "azdias_clean_df.isnull().sum().sum()"
   ]
  },
  {
   "cell_type": "code",
   "execution_count": 75,
   "metadata": {},
   "outputs": [],
   "source": [
    "# Apply feature scaling to the general population demographics data.\n",
    "ss = StandardScaler()\n",
    "azdias_clean_ss = ss.fit_transform(azdias_clean_df)"
   ]
  },
  {
   "cell_type": "code",
   "execution_count": 76,
   "metadata": {},
   "outputs": [],
   "source": [
    "azdias_clean_ss_df = pd.DataFrame(azdias_clean_ss, columns=azdias_clean_df.columns, index=azdias_clean_df.index)"
   ]
  },
  {
   "cell_type": "code",
   "execution_count": 77,
   "metadata": {},
   "outputs": [
    {
     "data": {
      "text/html": [
       "<div>\n",
       "<style scoped>\n",
       "    .dataframe tbody tr th:only-of-type {\n",
       "        vertical-align: middle;\n",
       "    }\n",
       "\n",
       "    .dataframe tbody tr th {\n",
       "        vertical-align: top;\n",
       "    }\n",
       "\n",
       "    .dataframe thead th {\n",
       "        text-align: right;\n",
       "    }\n",
       "</style>\n",
       "<table border=\"1\" class=\"dataframe\">\n",
       "  <thead>\n",
       "    <tr style=\"text-align: right;\">\n",
       "      <th></th>\n",
       "      <th>ALTERSKATEGORIE_GROB</th>\n",
       "      <th>ANREDE_KZ</th>\n",
       "      <th>FINANZ_MINIMALIST</th>\n",
       "      <th>FINANZ_SPARER</th>\n",
       "      <th>FINANZ_VORSORGER</th>\n",
       "      <th>FINANZ_ANLEGER</th>\n",
       "      <th>FINANZ_UNAUFFAELLIGER</th>\n",
       "      <th>FINANZ_HAUSBAUER</th>\n",
       "      <th>GREEN_AVANTGARDE</th>\n",
       "      <th>HEALTH_TYP</th>\n",
       "      <th>...</th>\n",
       "      <th>CAMEO_DEU_2015_8D</th>\n",
       "      <th>CAMEO_DEU_2015_9A</th>\n",
       "      <th>CAMEO_DEU_2015_9B</th>\n",
       "      <th>CAMEO_DEU_2015_9C</th>\n",
       "      <th>CAMEO_DEU_2015_9D</th>\n",
       "      <th>CAMEO_DEU_2015_9E</th>\n",
       "      <th>MOVEMENT</th>\n",
       "      <th>DECADE</th>\n",
       "      <th>WEALTH</th>\n",
       "      <th>LIFE_STAGE</th>\n",
       "    </tr>\n",
       "  </thead>\n",
       "  <tbody>\n",
       "    <tr>\n",
       "      <th>1</th>\n",
       "      <td>-1.765596</td>\n",
       "      <td>0.958121</td>\n",
       "      <td>-1.494463</td>\n",
       "      <td>1.538139</td>\n",
       "      <td>-1.040664</td>\n",
       "      <td>1.466401</td>\n",
       "      <td>0.959974</td>\n",
       "      <td>1.338532</td>\n",
       "      <td>-0.530654</td>\n",
       "      <td>1.085338</td>\n",
       "      <td>...</td>\n",
       "      <td>-0.150111</td>\n",
       "      <td>-0.162625</td>\n",
       "      <td>-0.189607</td>\n",
       "      <td>-0.179893</td>\n",
       "      <td>-0.192884</td>\n",
       "      <td>-0.089706</td>\n",
       "      <td>-0.553082</td>\n",
       "      <td>1.165504</td>\n",
       "      <td>1.108884</td>\n",
       "      <td>1.108884</td>\n",
       "    </tr>\n",
       "    <tr>\n",
       "      <th>2</th>\n",
       "      <td>0.201448</td>\n",
       "      <td>0.958121</td>\n",
       "      <td>-1.494463</td>\n",
       "      <td>0.864753</td>\n",
       "      <td>-1.766903</td>\n",
       "      <td>-0.570914</td>\n",
       "      <td>0.245238</td>\n",
       "      <td>1.338532</td>\n",
       "      <td>1.884467</td>\n",
       "      <td>1.085338</td>\n",
       "      <td>...</td>\n",
       "      <td>-0.150111</td>\n",
       "      <td>-0.162625</td>\n",
       "      <td>-0.189607</td>\n",
       "      <td>-0.179893</td>\n",
       "      <td>-0.192884</td>\n",
       "      <td>-0.089706</td>\n",
       "      <td>1.874665</td>\n",
       "      <td>1.165504</td>\n",
       "      <td>-0.822604</td>\n",
       "      <td>-0.822604</td>\n",
       "    </tr>\n",
       "    <tr>\n",
       "      <th>3</th>\n",
       "      <td>1.184971</td>\n",
       "      <td>0.958121</td>\n",
       "      <td>0.683285</td>\n",
       "      <td>-0.482020</td>\n",
       "      <td>1.138052</td>\n",
       "      <td>-0.570914</td>\n",
       "      <td>-1.184235</td>\n",
       "      <td>-0.792444</td>\n",
       "      <td>-0.530654</td>\n",
       "      <td>-0.270203</td>\n",
       "      <td>...</td>\n",
       "      <td>-0.150111</td>\n",
       "      <td>-0.162625</td>\n",
       "      <td>-0.189607</td>\n",
       "      <td>-0.179893</td>\n",
       "      <td>-0.192884</td>\n",
       "      <td>-0.089706</td>\n",
       "      <td>-0.553082</td>\n",
       "      <td>-0.231903</td>\n",
       "      <td>-1.681043</td>\n",
       "      <td>-1.681043</td>\n",
       "    </tr>\n",
       "    <tr>\n",
       "      <th>4</th>\n",
       "      <td>0.201448</td>\n",
       "      <td>-1.043709</td>\n",
       "      <td>0.683285</td>\n",
       "      <td>0.191366</td>\n",
       "      <td>0.411813</td>\n",
       "      <td>-1.250019</td>\n",
       "      <td>0.245238</td>\n",
       "      <td>-0.792444</td>\n",
       "      <td>-0.530654</td>\n",
       "      <td>1.085338</td>\n",
       "      <td>...</td>\n",
       "      <td>-0.150111</td>\n",
       "      <td>-0.162625</td>\n",
       "      <td>-0.189607</td>\n",
       "      <td>-0.179893</td>\n",
       "      <td>-0.192884</td>\n",
       "      <td>-0.089706</td>\n",
       "      <td>-0.553082</td>\n",
       "      <td>-0.231903</td>\n",
       "      <td>0.536591</td>\n",
       "      <td>0.536591</td>\n",
       "    </tr>\n",
       "    <tr>\n",
       "      <th>5</th>\n",
       "      <td>-1.765596</td>\n",
       "      <td>0.958121</td>\n",
       "      <td>-0.042631</td>\n",
       "      <td>-1.155407</td>\n",
       "      <td>1.138052</td>\n",
       "      <td>-0.570914</td>\n",
       "      <td>-0.469499</td>\n",
       "      <td>1.338532</td>\n",
       "      <td>-0.530654</td>\n",
       "      <td>1.085338</td>\n",
       "      <td>...</td>\n",
       "      <td>-0.150111</td>\n",
       "      <td>-0.162625</td>\n",
       "      <td>-0.189607</td>\n",
       "      <td>-0.179893</td>\n",
       "      <td>-0.192884</td>\n",
       "      <td>-0.089706</td>\n",
       "      <td>-0.553082</td>\n",
       "      <td>-1.629311</td>\n",
       "      <td>1.323494</td>\n",
       "      <td>1.323494</td>\n",
       "    </tr>\n",
       "  </tbody>\n",
       "</table>\n",
       "<p>5 rows × 192 columns</p>\n",
       "</div>"
      ],
      "text/plain": [
       "   ALTERSKATEGORIE_GROB  ANREDE_KZ  FINANZ_MINIMALIST  FINANZ_SPARER  \\\n",
       "1             -1.765596   0.958121          -1.494463       1.538139   \n",
       "2              0.201448   0.958121          -1.494463       0.864753   \n",
       "3              1.184971   0.958121           0.683285      -0.482020   \n",
       "4              0.201448  -1.043709           0.683285       0.191366   \n",
       "5             -1.765596   0.958121          -0.042631      -1.155407   \n",
       "\n",
       "   FINANZ_VORSORGER  FINANZ_ANLEGER  FINANZ_UNAUFFAELLIGER  FINANZ_HAUSBAUER  \\\n",
       "1         -1.040664        1.466401               0.959974          1.338532   \n",
       "2         -1.766903       -0.570914               0.245238          1.338532   \n",
       "3          1.138052       -0.570914              -1.184235         -0.792444   \n",
       "4          0.411813       -1.250019               0.245238         -0.792444   \n",
       "5          1.138052       -0.570914              -0.469499          1.338532   \n",
       "\n",
       "   GREEN_AVANTGARDE  HEALTH_TYP     ...      CAMEO_DEU_2015_8D  \\\n",
       "1         -0.530654    1.085338     ...              -0.150111   \n",
       "2          1.884467    1.085338     ...              -0.150111   \n",
       "3         -0.530654   -0.270203     ...              -0.150111   \n",
       "4         -0.530654    1.085338     ...              -0.150111   \n",
       "5         -0.530654    1.085338     ...              -0.150111   \n",
       "\n",
       "   CAMEO_DEU_2015_9A  CAMEO_DEU_2015_9B  CAMEO_DEU_2015_9C  CAMEO_DEU_2015_9D  \\\n",
       "1          -0.162625          -0.189607          -0.179893          -0.192884   \n",
       "2          -0.162625          -0.189607          -0.179893          -0.192884   \n",
       "3          -0.162625          -0.189607          -0.179893          -0.192884   \n",
       "4          -0.162625          -0.189607          -0.179893          -0.192884   \n",
       "5          -0.162625          -0.189607          -0.179893          -0.192884   \n",
       "\n",
       "   CAMEO_DEU_2015_9E  MOVEMENT    DECADE    WEALTH  LIFE_STAGE  \n",
       "1          -0.089706 -0.553082  1.165504  1.108884    1.108884  \n",
       "2          -0.089706  1.874665  1.165504 -0.822604   -0.822604  \n",
       "3          -0.089706 -0.553082 -0.231903 -1.681043   -1.681043  \n",
       "4          -0.089706 -0.553082 -0.231903  0.536591    0.536591  \n",
       "5          -0.089706 -0.553082 -1.629311  1.323494    1.323494  \n",
       "\n",
       "[5 rows x 192 columns]"
      ]
     },
     "execution_count": 77,
     "metadata": {},
     "output_type": "execute_result"
    }
   ],
   "source": [
    "azdias_clean_ss_df.head()"
   ]
  },
  {
   "cell_type": "markdown",
   "metadata": {},
   "source": [
    "### Discussion 2.1: Apply Feature Scaling\n",
    "\n",
    "- I chose to use an Imupter to replace the Nan values using the mean along each column.\n",
    "- Then I applied a StandardScaler to scale each feature to mean 0 and standard deviation 1. This is done so that the principal component vectors are not influenced by the natural differences in scale for features."
   ]
  },
  {
   "cell_type": "markdown",
   "metadata": {},
   "source": [
    "### Step 2.2: Perform Dimensionality Reduction\n",
    "\n",
    "On your scaled data, you are now ready to apply dimensionality reduction techniques.\n",
    "\n",
    "- Use sklearn's [PCA](http://scikit-learn.org/stable/modules/generated/sklearn.decomposition.PCA.html) class to apply principal component analysis on the data, thus finding the vectors of maximal variance in the data. To start, you should not set any parameters (so all components are computed) or set a number of components that is at least half the number of features (so there's enough features to see the general trend in variability).\n",
    "- Check out the ratio of variance explained by each principal component as well as the cumulative variance explained. Try plotting the cumulative or sequential values using matplotlib's [`plot()`](https://matplotlib.org/api/_as_gen/matplotlib.pyplot.plot.html) function. Based on what you find, select a value for the number of transformed features you'll retain for the clustering part of the project.\n",
    "- Once you've made a choice for the number of components to keep, make sure you re-fit a PCA instance to perform the decided-on transformation."
   ]
  },
  {
   "cell_type": "code",
   "execution_count": 78,
   "metadata": {},
   "outputs": [
    {
     "data": {
      "text/plain": [
       "PCA(copy=True, iterated_power='auto', n_components=None, random_state=None,\n",
       "  svd_solver='auto', tol=0.0, whiten=False)"
      ]
     },
     "execution_count": 78,
     "metadata": {},
     "output_type": "execute_result"
    }
   ],
   "source": [
    "pca = PCA()\n",
    "pca.fit(azdias_clean_ss_df)"
   ]
  },
  {
   "cell_type": "code",
   "execution_count": 79,
   "metadata": {},
   "outputs": [
    {
     "data": {
      "image/png": "[encoded data removed]",
      "text/plain": [
       "<matplotlib.figure.Figure at 0x7f32cf8c5b00>"
      ]
     },
     "metadata": {
      "needs_background": "light"
     },
     "output_type": "display_data"
    }
   ],
   "source": [
    "# Investigate the variance accounted for by each principal component.\n",
    "num_comp=range(len(pca.explained_variance_ratio_))\n",
    "val=pca.explained_variance_ratio_\n",
    "plt.bar(num_comp,val) \n",
    "plt.xlabel(\"Principal component\")\n",
    "plt.xlim((0, 200)) \n",
    "plt.ylabel(\"Variance\")\n",
    "plt.title(\"PCA\")\n",
    "plt.show()"
   ]
  },
  {
   "cell_type": "code",
   "execution_count": 80,
   "metadata": {},
   "outputs": [
    {
     "data": {
      "image/png": "[encoded data removed]",
      "text/plain": [
       "<matplotlib.figure.Figure at 0x7f32cf859278>"
      ]
     },
     "metadata": {
      "needs_background": "light"
     },
     "output_type": "display_data"
    }
   ],
   "source": [
    "plt.plot(num_comp,np.cumsum(val), '-', label=\"cumulative sum\")\n",
    "\n",
    "chosen_comp = 96\n",
    "plt.axvline(x=chosen_comp, color=\"red\", label=\"# of components chosen\")\n",
    "plt.axhline(y=0.86, color=\"y\", label=\"Intersect\")\n",
    "plt.title(\"Cumulative Variance\")\n",
    "plt.xlabel(\"Number of Components\")\n",
    "plt.xlim((0, 200)) \n",
    "plt.ylabel(\"Ratio of variance\")\n",
    "plt.legend()\n",
    "plt.show()"
   ]
  },
  {
   "cell_type": "code",
   "execution_count": 81,
   "metadata": {},
   "outputs": [],
   "source": [
    "# Re-apply PCA to the data while selecting for number of components to retain.\n",
    "pca_96 = PCA(n_components=chosen_comp)\n",
    "azdias_pca_96 = pca_96.fit_transform(azdias_clean_ss_df)"
   ]
  },
  {
   "cell_type": "code",
   "execution_count": 82,
   "metadata": {},
   "outputs": [
    {
     "data": {
      "text/plain": [
       "2.0"
      ]
     },
     "execution_count": 82,
     "metadata": {},
     "output_type": "execute_result"
    }
   ],
   "source": [
    "len(azdias_clean_ss_df.columns)/96"
   ]
  },
  {
   "cell_type": "markdown",
   "metadata": {},
   "source": [
    "### Discussion 2.2: Perform Dimensionality Reduction\n",
    "\n",
    "- I chose the number of compenents to retain to be 96.\n",
    "- This decreases the number of features by half, while retaining a variance of 86%, this way we lose the least amount of information while removing a large chunck from our data"
   ]
  },
  {
   "cell_type": "markdown",
   "metadata": {},
   "source": [
    "### Step 2.3: Interpret Principal Components\n",
    "\n",
    "Now that we have our transformed principal components, it's a nice idea to check out the weight of each variable on the first few components to see if they can be interpreted in some fashion.\n",
    "\n",
    "As a reminder, each principal component is a unit vector that points in the direction of highest variance (after accounting for the variance captured by earlier principal components). The further a weight is from zero, the more the principal component is in the direction of the corresponding feature. If two features have large weights of the same sign (both positive or both negative), then increases in one tend expect to be associated with increases in the other. To contrast, features with different signs can be expected to show a negative correlation: increases in one variable should result in a decrease in the other.\n",
    "\n",
    "- To investigate the features, you should map each weight to their corresponding feature name, then sort the features according to weight. The most interesting features for each principal component, then, will be those at the beginning and end of the sorted list. Use the data dictionary document to help you understand these most prominent features, their relationships, and what a positive or negative value on the principal component might indicate.\n",
    "- You should investigate and interpret feature associations from the first three principal components in this substep. To help facilitate this, you should write a function that you can call at any time to print the sorted list of feature weights, for the *i*-th principal component. This might come in handy in the next step of the project, when you interpret the tendencies of the discovered clusters."
   ]
  },
  {
   "cell_type": "code",
   "execution_count": 83,
   "metadata": {},
   "outputs": [],
   "source": [
    "# HINT: Try defining a function here or in a new cell that you can reuse in the\n",
    "# other cells.\n",
    "def pca_weights(pca, df, component):\n",
    "    weights = pd.DataFrame(pca.components_, columns=list(df.columns))\n",
    "    weights = weights.iloc[component].sort_values(ascending=False)\n",
    "    return weights"
   ]
  },
  {
   "cell_type": "code",
   "execution_count": 84,
   "metadata": {
    "scrolled": true
   },
   "outputs": [
    {
     "data": {
      "text/plain": [
       "LP_STATUS_GROB_1.0      0.194668\n",
       "LIFE_STAGE              0.188704\n",
       "WEALTH                  0.188704\n",
       "HH_EINKOMMEN_SCORE      0.187396\n",
       "PLZ8_ANTG3              0.182307\n",
       "PLZ8_ANTG4              0.175849\n",
       "ORTSGR_KLS9             0.153823\n",
       "EWDICHTE                0.152535\n",
       "FINANZ_HAUSBAUER        0.150873\n",
       "LP_STATUS_FEIN_1.0      0.129208\n",
       "KBA05_ANTG4             0.127250\n",
       "PLZ8_ANTG2              0.125508\n",
       "ANZ_HAUSHALTE_AKTIV     0.116019\n",
       "ARBEIT                  0.115468\n",
       "KBA05_ANTG3             0.114975\n",
       "CAMEO_DEUG_2015_9       0.113542\n",
       "LP_STATUS_FEIN_2.0      0.111721\n",
       "RELAT_AB                0.108427\n",
       "FINANZTYP_1             0.107445\n",
       "FINANZ_SPARER           0.106257\n",
       "CAMEO_DEUG_2015_8       0.095305\n",
       "LP_FAMILIE_FEIN_1.0     0.086637\n",
       "LP_FAMILIE_GROB_1.0     0.086637\n",
       "SEMIO_PFLICHT           0.076326\n",
       "ZABEOTYP_5              0.072408\n",
       "SEMIO_REL               0.071845\n",
       "GEBAEUDETYP_3.0         0.066588\n",
       "DECADE                  0.064338\n",
       "CAMEO_DEU_2015_8A       0.063484\n",
       "REGIOTYP                0.063203\n",
       "                          ...   \n",
       "FINANZTYP_3            -0.055017\n",
       "ONLINE_AFFINITAET      -0.059159\n",
       "KBA13_ANZAHL_PKW       -0.061504\n",
       "NATIONALITAET_KZ_1.0   -0.063436\n",
       "LP_FAMILIE_GROB_5.0    -0.064731\n",
       "CAMEO_DEUG_2015_3      -0.065223\n",
       "CAMEO_DEUG_2015_4      -0.074410\n",
       "FINANZTYP_2            -0.074535\n",
       "ALTERSKATEGORIE_GROB   -0.075693\n",
       "FINANZ_VORSORGER       -0.075911\n",
       "ANZ_PERSONEN           -0.083533\n",
       "GEBAEUDETYP_1.0        -0.087787\n",
       "CAMEO_DEUG_2015_2      -0.093025\n",
       "BALLRAUM               -0.095038\n",
       "GEBAEUDETYP_RASTER     -0.095853\n",
       "ZABEOTYP_1             -0.097299\n",
       "MOVEMENT               -0.102628\n",
       "GREEN_AVANTGARDE       -0.104930\n",
       "LP_STATUS_FEIN_9.0     -0.108289\n",
       "LP_STATUS_GROB_4.0     -0.110730\n",
       "LP_STATUS_FEIN_10.0    -0.113763\n",
       "LP_STATUS_GROB_5.0     -0.113763\n",
       "INNENSTADT             -0.126207\n",
       "PLZ8_GBZ               -0.133910\n",
       "KONSUMNAEHE            -0.135830\n",
       "KBA05_GBZ              -0.181960\n",
       "PLZ8_ANTG1             -0.183149\n",
       "FINANZ_MINIMALIST      -0.186409\n",
       "KBA05_ANTG1            -0.191901\n",
       "MOBI_REGIO             -0.204792\n",
       "Name: 0, Length: 192, dtype: float64"
      ]
     },
     "execution_count": 84,
     "metadata": {},
     "output_type": "execute_result"
    }
   ],
   "source": [
    "# Map weights for the first principal component to corresponding feature names\n",
    "# and then print the linked values, sorted by weight.\n",
    "pca_weights(pca_96, azdias_clean_ss_df, 0)"
   ]
  },
  {
   "cell_type": "code",
   "execution_count": 85,
   "metadata": {
    "scrolled": true
   },
   "outputs": [
    {
     "data": {
      "text/plain": [
       "ALTERSKATEGORIE_GROB     0.236719\n",
       "FINANZ_VORSORGER         0.222602\n",
       "ZABEOTYP_3               0.200246\n",
       "SEMIO_ERL                0.181530\n",
       "SEMIO_LUST               0.165747\n",
       "RETOURTYP_BK_S           0.155804\n",
       "W_KEIT_KIND_HH           0.125074\n",
       "CJT_GESAMTTYP_2.0        0.110144\n",
       "FINANZTYP_5              0.097073\n",
       "FINANZ_MINIMALIST        0.096551\n",
       "FINANZTYP_2              0.095167\n",
       "LP_STATUS_FEIN_1.0       0.090784\n",
       "FINANZ_HAUSBAUER         0.080015\n",
       "SHOPPER_TYP_3.0          0.074838\n",
       "CJT_GESAMTTYP_1.0        0.071333\n",
       "SEMIO_KRIT               0.070783\n",
       "FINANZTYP_6              0.069703\n",
       "NATIONALITAET_KZ_1.0     0.069239\n",
       "GFK_URLAUBERTYP_4.0      0.058300\n",
       "WEALTH                   0.058045\n",
       "LIFE_STAGE               0.058045\n",
       "WOHNDAUER_2008           0.057685\n",
       "PLZ8_ANTG3               0.056833\n",
       "EWDICHTE                 0.055936\n",
       "ORTSGR_KLS9              0.054689\n",
       "LP_FAMILIE_GROB_1.0      0.054679\n",
       "LP_FAMILIE_FEIN_1.0      0.054679\n",
       "SEMIO_KAEM               0.054490\n",
       "PLZ8_ANTG4               0.053200\n",
       "LP_STATUS_FEIN_3.0       0.049141\n",
       "                           ...   \n",
       "NATIONALITAET_KZ_3.0    -0.049542\n",
       "HEALTH_TYP              -0.053198\n",
       "MOBI_REGIO              -0.053278\n",
       "KBA05_GBZ               -0.053586\n",
       "ZABEOTYP_1              -0.055388\n",
       "CJT_GESAMTTYP_4.0       -0.055677\n",
       "PLZ8_ANTG1              -0.055890\n",
       "ANZ_PERSONEN            -0.059955\n",
       "SEMIO_SOZ               -0.062423\n",
       "LP_FAMILIE_GROB_4.0     -0.068290\n",
       "GFK_URLAUBERTYP_9.0     -0.072698\n",
       "FINANZTYP_3             -0.073537\n",
       "LP_STATUS_FEIN_5.0      -0.080583\n",
       "FINANZTYP_4             -0.088533\n",
       "ZABEOTYP_5              -0.093612\n",
       "LP_STATUS_FEIN_2.0      -0.098036\n",
       "ZABEOTYP_4              -0.107277\n",
       "SEMIO_MAT               -0.132498\n",
       "SEMIO_FAM               -0.135330\n",
       "FINANZTYP_1             -0.137117\n",
       "ONLINE_AFFINITAET       -0.159494\n",
       "SEMIO_KULT              -0.165391\n",
       "SEMIO_RAT               -0.171804\n",
       "FINANZ_ANLEGER          -0.205335\n",
       "SEMIO_PFLICHT           -0.208534\n",
       "SEMIO_TRADV             -0.210705\n",
       "SEMIO_REL               -0.216922\n",
       "FINANZ_UNAUFFAELLIGER   -0.217866\n",
       "FINANZ_SPARER           -0.231783\n",
       "DECADE                  -0.240928\n",
       "Name: 1, Length: 192, dtype: float64"
      ]
     },
     "execution_count": 85,
     "metadata": {},
     "output_type": "execute_result"
    }
   ],
   "source": [
    "# Map weights for the second principal component to corresponding feature names\n",
    "# and then print the linked values, sorted by weight.\n",
    "pca_weights(pca_96, azdias_clean_ss_df, 1)\n"
   ]
  },
  {
   "cell_type": "code",
   "execution_count": 86,
   "metadata": {
    "scrolled": true
   },
   "outputs": [
    {
     "data": {
      "text/plain": [
       "SEMIO_VERT               0.319498\n",
       "SEMIO_FAM                0.261403\n",
       "SEMIO_SOZ                0.257524\n",
       "SEMIO_KULT               0.252630\n",
       "FINANZTYP_5              0.133992\n",
       "FINANZ_MINIMALIST        0.129180\n",
       "SHOPPER_TYP_0.0          0.123495\n",
       "ZABEOTYP_1               0.117019\n",
       "SEMIO_REL                0.114227\n",
       "SEMIO_MAT                0.089415\n",
       "RETOURTYP_BK_S           0.074343\n",
       "GREEN_AVANTGARDE         0.073308\n",
       "MOVEMENT                 0.070944\n",
       "W_KEIT_KIND_HH           0.067353\n",
       "EWDICHTE                 0.060823\n",
       "ORTSGR_KLS9              0.060778\n",
       "SHOPPER_TYP_1.0          0.054912\n",
       "LP_STATUS_GROB_5.0       0.051359\n",
       "LP_STATUS_FEIN_10.0      0.051359\n",
       "ZABEOTYP_6               0.049587\n",
       "PLZ8_ANTG4               0.047330\n",
       "PLZ8_ANTG3               0.047251\n",
       "FINANZ_VORSORGER         0.046370\n",
       "LP_STATUS_FEIN_3.0       0.044295\n",
       "LP_STATUS_FEIN_1.0       0.042268\n",
       "PLZ8_ANTG2               0.034429\n",
       "RELAT_AB                 0.034032\n",
       "ARBEIT                   0.033278\n",
       "LP_STATUS_GROB_3.0       0.032300\n",
       "GEBAEUDETYP_3.0          0.029908\n",
       "                           ...   \n",
       "NATIONALITAET_KZ_3.0    -0.029820\n",
       "LP_STATUS_GROB_2.0      -0.030103\n",
       "PLZ8_GBZ                -0.033401\n",
       "HH_EINKOMMEN_SCORE      -0.036006\n",
       "KKK                     -0.036205\n",
       "ZABEOTYP_3              -0.036947\n",
       "GEBAEUDETYP_RASTER      -0.039212\n",
       "LP_FAMILIE_FEIN_4.0     -0.039680\n",
       "PLZ8_ANTG1              -0.045253\n",
       "KONSUMNAEHE             -0.046446\n",
       "FINANZ_UNAUFFAELLIGER   -0.046467\n",
       "BALLRAUM                -0.047965\n",
       "DECADE                  -0.049919\n",
       "SHOPPER_TYP_3.0         -0.053714\n",
       "INNENSTADT              -0.054349\n",
       "FINANZ_SPARER           -0.055085\n",
       "LP_FAMILIE_GROB_3.0     -0.055696\n",
       "FINANZ_HAUSBAUER        -0.060907\n",
       "ZABEOTYP_4              -0.063716\n",
       "LP_STATUS_FEIN_4.0      -0.069803\n",
       "LP_STATUS_FEIN_2.0      -0.079186\n",
       "SHOPPER_TYP_2.0         -0.093350\n",
       "FINANZTYP_1             -0.100206\n",
       "FINANZ_ANLEGER          -0.151896\n",
       "SEMIO_RAT               -0.154530\n",
       "SEMIO_ERL               -0.208893\n",
       "SEMIO_KRIT              -0.267755\n",
       "SEMIO_DOM               -0.284770\n",
       "SEMIO_KAEM              -0.316330\n",
       "ANREDE_KZ               -0.345847\n",
       "Name: 2, Length: 192, dtype: float64"
      ]
     },
     "execution_count": 86,
     "metadata": {},
     "output_type": "execute_result"
    }
   ],
   "source": [
    "# Map weights for the third principal component to corresponding feature names\n",
    "# and then print the linked values, sorted by weight.\n",
    "pca_weights(pca_96, azdias_clean_ss_df, 2)\n"
   ]
  },
  {
   "cell_type": "markdown",
   "metadata": {},
   "source": [
    "### Discussion 2.3: Interpret Principal Components\n",
    "\n",
    "1. Mapped weights for the first principal component corresponding to feature names:\n",
    "    - positive values\n",
    "        - LP_STATUS_GROB_1.0 (Social status - low-income earners)\n",
    "        - HH_EINKOMMEN_SCORE (Estimated household net income)\n",
    "        - WEALTH(Households wealth)\n",
    "    - negative values\n",
    "        - FINANZ_MINIMALIST(Financial typology:low financial interest)\n",
    "        - KBA05_GBZ(Number of buildings in the microcell)\n",
    "        - MOBI_REGIO(Movement patterns)\n",
    "\n",
    "<br>\n",
    "we can notice the first component is proportional to low-income earners, household net income and wealth. Negative values indicate an inverse relationship with the component.\n",
    "\n",
    "2. Mapped weights for the second principal component corresponding to feature names:\n",
    "    - positive values\n",
    "        - ALTERSKATEGORIE_GROB (Person-level features - Estimated age based on given name analysis)\n",
    "        - FINANZ_VORSORGER (Financial typology, for each dimension: high)\n",
    "        - ZABEOTYP_3(Energy consumption typology = fair supplied)\n",
    "    - negative values\n",
    "        - DECADE\n",
    "        - FINANZ_SPARER(Financial typology, for each dimension: very high)\n",
    "        - FINANZ_UNAUFFAELLIGER(Movement Financial typology, for each dimension: low)\n",
    "\n",
    "<br>\n",
    "we can notice the second component is proportional to the age of the individual, a financially precautionary and a fairly supplied person. Negative values indicate an inverse relationship with the component.\n",
    "\n",
    "3. Mapped weights for the third principal component corresponding to feature names:\n",
    "    - positive values\n",
    "        - SEMIO_VERT (Personality typology - Dimension translations: dreamful)\n",
    "        - SEMIO_FAM (Personality typology - Dimension translations: family-minded)\n",
    "        - SEMIO_SOZ(Personality typology - Dimension translations: socially-minded)\n",
    "    - negative values\n",
    "        - ANREDE_KZ(Gender)\n",
    "        - SEMIO_KAEM(Personality typology - Dimension translations: combative attitude)\n",
    "        - SEMIO_DOM(Personality typology - Dimension translations: dominant-minded)\n",
    "\n",
    "<br>\n",
    "we can notice the third component is proportional to Personality types: dreamful, family-minded and socially-minded. Negative values indicate an inverse relationship with the component."
   ]
  },
  {
   "cell_type": "markdown",
   "metadata": {},
   "source": [
    "## Step 3: Clustering\n",
    "\n",
    "### Step 3.1: Apply Clustering to General Population\n",
    "\n",
    "You've assessed and cleaned the demographics data, then scaled and transformed them. Now, it's time to see how the data clusters in the principal components space. In this substep, you will apply k-means clustering to the dataset and use the average within-cluster distances from each point to their assigned cluster's centroid to decide on a number of clusters to keep.\n",
    "\n",
    "- Use sklearn's [KMeans](http://scikit-learn.org/stable/modules/generated/sklearn.cluster.KMeans.html#sklearn.cluster.KMeans) class to perform k-means clustering on the PCA-transformed data.\n",
    "- Then, compute the average difference from each point to its assigned cluster's center. **Hint**: The KMeans object's `.score()` method might be useful here, but note that in sklearn, scores tend to be defined so that larger is better. Try applying it to a small, toy dataset, or use an internet search to help your understanding.\n",
    "- Perform the above two steps for a number of different cluster counts. You can then see how the average distance decreases with an increasing number of clusters. However, each additional cluster provides a smaller net benefit. Use this fact to select a final number of clusters in which to group the data. **Warning**: because of the large size of the dataset, it can take a long time for the algorithm to resolve. The more clusters to fit, the longer the algorithm will take. You should test for cluster counts through at least 10 clusters to get the full picture, but you shouldn't need to test for a number of clusters above about 30.\n",
    "- Once you've selected a final number of clusters to use, re-fit a KMeans instance to perform the clustering operation. Make sure that you also obtain the cluster assignments for the general demographics data, since you'll be using them in the final Step 3.3."
   ]
  },
  {
   "cell_type": "code",
   "execution_count": 87,
   "metadata": {},
   "outputs": [],
   "source": [
    "from sklearn.cluster import MiniBatchKMeans"
   ]
  },
  {
   "cell_type": "code",
   "execution_count": 145,
   "metadata": {},
   "outputs": [],
   "source": [
    "# Over a number of different cluster counts...\n",
    "scorer = []\n",
    "clusters = np.arange(2,21)\n",
    "for centers in clusters:\n",
    "    kmeans = MiniBatchKMeans(centers)\n",
    "    model = kmeans.fit(azdias_pca_96)\n",
    "    scorer.append(np.abs(model.score(azdias_pca_96)))\n",
    "\n",
    "    # run k-means clustering on the data and...\n",
    "    \n",
    "    \n",
    "    # compute the average within-cluster distances.\n",
    "    \n",
    "    "
   ]
  },
  {
   "cell_type": "code",
   "execution_count": 146,
   "metadata": {},
   "outputs": [
    {
     "data": {
      "image/png": "[encoded data removed]",
      "text/plain": [
       "<matplotlib.figure.Figure at 0x7f32d1339128>"
      ]
     },
     "metadata": {
      "needs_background": "light"
     },
     "output_type": "display_data"
    }
   ],
   "source": [
    "# Investigate the change in within-cluster distance across number of clusters.\n",
    "# HINT: Use matplotlib's plot function to visualize this relationship.\n",
    "plt.plot(clusters, scorer)\n",
    "plt.xlabel('Number of clusters')\n",
    "plt.xlim(0,20)\n",
    "plt.ylabel('Score')\n",
    "plt.show()\n"
   ]
  },
  {
   "cell_type": "code",
   "execution_count": 147,
   "metadata": {},
   "outputs": [],
   "source": [
    "# Re-fit the k-means model with the selected number of clusters and obtain\n",
    "# cluster predictions for the general population demographics data.\n",
    "kmeans = MiniBatchKMeans(n_clusters=19)\n",
    "model_19=kmeans.fit(azdias_pca_96)\n",
    "azdias_pred=model_19.predict(azdias_pca_96)"
   ]
  },
  {
   "cell_type": "markdown",
   "metadata": {},
   "source": [
    "### Discussion 3.1: Apply Clustering to General Population\n",
    "\n",
    "- The elbow of the plot is seen when the number of clusters is 19. So the data is best classified with 19 clusters.\n",
    "- I chose to use MiniBatchKMeans instead of KMeans since it took more than an hour to compute. (due to the large dataset)"
   ]
  },
  {
   "cell_type": "markdown",
   "metadata": {},
   "source": [
    "### Step 3.2: Apply All Steps to the Customer Data\n",
    "\n",
    "Now that you have clusters and cluster centers for the general population, it's time to see how the customer data maps on to those clusters. Take care to not confuse this for re-fitting all of the models to the customer data. Instead, you're going to use the fits from the general population to clean, transform, and cluster the customer data. In the last step of the project, you will interpret how the general population fits apply to the customer data.\n",
    "\n",
    "- Don't forget when loading in the customers data, that it is semicolon (`;`) delimited.\n",
    "- Apply the same feature wrangling, selection, and engineering steps to the customer demographics using the `clean_data()` function you created earlier. (You can assume that the customer demographics data has similar meaning behind missing data patterns as the general demographics data.)\n",
    "- Use the sklearn objects from the general demographics data, and apply their transformations to the customers data. That is, you should not be using a `.fit()` or `.fit_transform()` method to re-fit the old objects, nor should you be creating new sklearn objects! Carry the data through the feature scaling, PCA, and clustering steps, obtaining cluster assignments for all of the data in the customer demographics data."
   ]
  },
  {
   "cell_type": "code",
   "execution_count": 148,
   "metadata": {},
   "outputs": [],
   "source": [
    "# Load in the customer demographics data.\n",
    "customers = pd.read_csv('Udacity_CUSTOMERS_Subset.csv', sep=';')"
   ]
  },
  {
   "cell_type": "code",
   "execution_count": 149,
   "metadata": {},
   "outputs": [],
   "source": [
    "# Apply preprocessing, feature transformation, and clustering from the general\n",
    "# demographics onto the customer data, obtaining cluster predictions for the\n",
    "# customer demographics data.\n",
    "customers = clean_data(customers, feat_info)"
   ]
  },
  {
   "cell_type": "code",
   "execution_count": 150,
   "metadata": {},
   "outputs": [
    {
     "name": "stdout",
     "output_type": "stream",
     "text": [
      "<class 'pandas.core.frame.DataFrame'>\n",
      "Int64Index: 141590 entries, 0 to 191651\n",
      "Columns: 191 entries, ALTERSKATEGORIE_GROB to LIFE_STAGE\n",
      "dtypes: float64(39), int64(23), object(2), uint8(127)\n",
      "memory usage: 87.4+ MB\n"
     ]
    }
   ],
   "source": [
    "customers.info()"
   ]
  },
  {
   "cell_type": "code",
   "execution_count": 151,
   "metadata": {},
   "outputs": [
    {
     "data": {
      "text/plain": [
       "102081"
      ]
     },
     "execution_count": 151,
     "metadata": {},
     "output_type": "execute_result"
    }
   ],
   "source": [
    "customers.isnull().sum().sum()"
   ]
  },
  {
   "cell_type": "code",
   "execution_count": 152,
   "metadata": {},
   "outputs": [
    {
     "name": "stdout",
     "output_type": "stream",
     "text": [
      "{'GEBAEUDETYP_5.0'}\n"
     ]
    }
   ],
   "source": [
    "def add_missing_dummy_columns(d, columns):\n",
    "    missing_cols = set(columns) - set(d.columns)\n",
    "    print(missing_cols)\n",
    "    for c in missing_cols:\n",
    "        d[c] = 0\n",
    "           \n",
    "def fix_columns(d, columns):  \n",
    "    add_missing_dummy_columns(d, columns)\n",
    "    # make sure we have all the columns we need\n",
    "    assert(set(columns) - set(d.columns) == set())\n",
    "    extra_cols = set(d.columns) - set(columns)\n",
    "    if extra_cols:\n",
    "        print(\"extra columns:\", extra_cols)\n",
    "    d = d[columns]\n",
    "    return d\n",
    "customers_clean_ss_df = fix_columns(customers, df.columns.tolist())"
   ]
  },
  {
   "cell_type": "code",
   "execution_count": 153,
   "metadata": {},
   "outputs": [],
   "source": [
    "# If you've not yet cleaned the dataset of all NaN values, then investigate and\n",
    "# do that now.\n",
    "# clean_missing_cus = Imputer()\n",
    "customers_clean = clean_missing.transform(customers)\n",
    "customers_clean_df = pd.DataFrame(customers_clean, \n",
    "                            columns=customers.columns, \n",
    "                            index=customers.index)"
   ]
  },
  {
   "cell_type": "code",
   "execution_count": 154,
   "metadata": {},
   "outputs": [
    {
     "data": {
      "text/plain": [
       "0"
      ]
     },
     "execution_count": 154,
     "metadata": {},
     "output_type": "execute_result"
    }
   ],
   "source": [
    "customers_clean_df.isnull().sum().sum()"
   ]
  },
  {
   "cell_type": "code",
   "execution_count": 155,
   "metadata": {},
   "outputs": [],
   "source": [
    "# Apply feature scaling to the general population demographics data.\n",
    "# ss_cus = StandardScaler()\n",
    "customers_clean_ss = ss.transform(customers_clean_df)\n",
    "customers_clean_ss_df = pd.DataFrame(customers_clean_ss, columns=customers_clean_df.columns, index=customers_clean_df.index)\n",
    "\n",
    "customers_pca = pca_96.transform(customers_clean_ss_df)"
   ]
  },
  {
   "cell_type": "code",
   "execution_count": 156,
   "metadata": {},
   "outputs": [],
   "source": [
    "pred_customers= model_19.predict(customers_pca)"
   ]
  },
  {
   "cell_type": "markdown",
   "metadata": {},
   "source": [
    "### Step 3.3: Compare Customer Data to Demographics Data\n",
    "\n",
    "At this point, you have clustered data based on demographics of the general population of Germany, and seen how the customer data for a mail-order sales company maps onto those demographic clusters. In this final substep, you will compare the two cluster distributions to see where the strongest customer base for the company is.\n",
    "\n",
    "Consider the proportion of persons in each cluster for the general population, and the proportions for the customers. If we think the company's customer base to be universal, then the cluster assignment proportions should be fairly similar between the two. If there are only particular segments of the population that are interested in the company's products, then we should see a mismatch from one to the other. If there is a higher proportion of persons in a cluster for the customer data compared to the general population (e.g. 5% of persons are assigned to a cluster for the general population, but 15% of the customer data is closest to that cluster's centroid) then that suggests the people in that cluster to be a target audience for the company. On the other hand, the proportion of the data in a cluster being larger in the general population than the customer data (e.g. only 2% of customers closest to a population centroid that captures 6% of the data) suggests that group of persons to be outside of the target demographics.\n",
    "\n",
    "Take a look at the following points in this step:\n",
    "\n",
    "- Compute the proportion of data points in each cluster for the general population and the customer data. Visualizations will be useful here: both for the individual dataset proportions, but also to visualize the ratios in cluster representation between groups. Seaborn's [`countplot()`](https://seaborn.pydata.org/generated/seaborn.countplot.html) or [`barplot()`](https://seaborn.pydata.org/generated/seaborn.barplot.html) function could be handy.\n",
    "  - Recall the analysis you performed in step 1.1.3 of the project, where you separated out certain data points from the dataset if they had more than a specified threshold of missing values. If you found that this group was qualitatively different from the main bulk of the data, you should treat this as an additional data cluster in this analysis. Make sure that you account for the number of data points in this subset, for both the general population and customer datasets, when making your computations!\n",
    "- Which cluster or clusters are overrepresented in the customer dataset compared to the general population? Select at least one such cluster and infer what kind of people might be represented by that cluster. Use the principal component interpretations from step 2.3 or look at additional components to help you make this inference. Alternatively, you can use the `.inverse_transform()` method of the PCA and StandardScaler objects to transform centroids back to the original data space and interpret the retrieved values directly.\n",
    "- Perform a similar investigation for the underrepresented clusters. Which cluster or clusters are underrepresented in the customer dataset compared to the general population, and what kinds of people are typified by these clusters?"
   ]
  },
  {
   "cell_type": "code",
   "execution_count": 157,
   "metadata": {},
   "outputs": [
    {
     "data": {
      "image/png": "[encoded data removed]",
      "text/plain": [
       "<matplotlib.figure.Figure at 0x7f32d15932e8>"
      ]
     },
     "metadata": {
      "needs_background": "light"
     },
     "output_type": "display_data"
    }
   ],
   "source": [
    "# Compare the proportion of data in each cluster for the customer data to the\n",
    "# proportion of data in each cluster for the general population.\n",
    "figure, axs = plt.subplots(ncols=2, nrows=1, figsize = (15,5))\n",
    "figure.subplots_adjust(hspace = .8, wspace=.2)\n",
    "\n",
    "sns.countplot(pred_customers, ax=axs[0])\n",
    "axs[0].set_title('Customer Clusters')\n",
    "sns.countplot(azdias_pred, ax=axs[1])\n",
    "axs[1].set_title('General Population Clusters')\n",
    "plt.show()"
   ]
  },
  {
   "cell_type": "code",
   "execution_count": 181,
   "metadata": {},
   "outputs": [
    {
     "data": {
      "text/plain": [
       "CAMEO_DEUG_2015_6      0.317489\n",
       "LP_STATUS_FEIN_2.0     0.173767\n",
       "SHOPPER_TYP_3.0        0.170507\n",
       "CAMEO_DEUG_2015_8      0.157971\n",
       "LP_FAMILIE_GROB_3.0    0.150873\n",
       "Name: 16, dtype: float64"
      ]
     },
     "execution_count": 181,
     "metadata": {},
     "output_type": "execute_result"
    }
   ],
   "source": [
    "pca_weights(pca_96, customers_clean_ss_df, 16).head()"
   ]
  },
  {
   "cell_type": "code",
   "execution_count": 212,
   "metadata": {},
   "outputs": [],
   "source": [
    "# What kinds of people are part of a cluster that is overrepresented in the\n",
    "# customer data compared to the general population?\n",
    "centroid_4 = ss.inverse_transform(pca_96.inverse_transform(model_19.cluster_centers_[4]))\n",
    "centroid_16 = ss.inverse_transform(pca_96.inverse_transform(model_19.cluster_centers_[16]))"
   ]
  },
  {
   "cell_type": "code",
   "execution_count": 222,
   "metadata": {},
   "outputs": [],
   "source": [
    "# What kinds of people are part of a cluster that is underrepresented in the\n",
    "# customer data compared to the general population?\n",
    "centroids_df = pd.DataFrame({\"feature\":customers_clean_ss_df.columns, \n",
    "                             \"centroid4\":centroid_4, \n",
    "                             \"centroid16\":centroid_16})"
   ]
  },
  {
   "cell_type": "code",
   "execution_count": 217,
   "metadata": {},
   "outputs": [],
   "source": [
    "# taken from 2.3\n",
    "pos_corr=[\"LP_STATUS_GROB_1.0\",\"HH_EINKOMMEN_SCORE\",\"WEALTH\", \"ALTERSKATEGORIE_GROB\",\"FINANZ_VORSORGER\",\"ZABEOTYP_3.0\",\n",
    "\"SEMIO_VERT\",\"SEMIO_FAM\",\"SEMIO_SOZ\"]\n",
    "neg_corr=[\"FINANZ_MINIMALIST\",\"MOBI_REGIO\",\"KBA05_GBZ\",\"DECADE\",\"FINANZ_SPARER\",\"FINANZ_UNAUFFAELLIGER\",\n",
    "             \"SEMIO_KAEM\",\"SEMIO_DOM\",\"ANREDE_KZ\"]"
   ]
  },
  {
   "cell_type": "code",
   "execution_count": 218,
   "metadata": {},
   "outputs": [
    {
     "data": {
      "text/html": [
       "<div>\n",
       "<style scoped>\n",
       "    .dataframe tbody tr th:only-of-type {\n",
       "        vertical-align: middle;\n",
       "    }\n",
       "\n",
       "    .dataframe tbody tr th {\n",
       "        vertical-align: top;\n",
       "    }\n",
       "\n",
       "    .dataframe thead th {\n",
       "        text-align: right;\n",
       "    }\n",
       "</style>\n",
       "<table border=\"1\" class=\"dataframe\">\n",
       "  <thead>\n",
       "    <tr style=\"text-align: right;\">\n",
       "      <th></th>\n",
       "      <th>feature</th>\n",
       "      <th>centroid 4</th>\n",
       "      <th>centroid 16</th>\n",
       "    </tr>\n",
       "  </thead>\n",
       "  <tbody>\n",
       "    <tr>\n",
       "      <th>0</th>\n",
       "      <td>ALTERSKATEGORIE_GROB</td>\n",
       "      <td>2.482471</td>\n",
       "      <td>2.866505</td>\n",
       "    </tr>\n",
       "    <tr>\n",
       "      <th>4</th>\n",
       "      <td>FINANZ_VORSORGER</td>\n",
       "      <td>2.412218</td>\n",
       "      <td>3.281285</td>\n",
       "    </tr>\n",
       "    <tr>\n",
       "      <th>11</th>\n",
       "      <td>SEMIO_SOZ</td>\n",
       "      <td>5.256448</td>\n",
       "      <td>3.959295</td>\n",
       "    </tr>\n",
       "    <tr>\n",
       "      <th>12</th>\n",
       "      <td>SEMIO_FAM</td>\n",
       "      <td>5.607915</td>\n",
       "      <td>4.148681</td>\n",
       "    </tr>\n",
       "    <tr>\n",
       "      <th>15</th>\n",
       "      <td>SEMIO_VERT</td>\n",
       "      <td>6.166171</td>\n",
       "      <td>5.168879</td>\n",
       "    </tr>\n",
       "    <tr>\n",
       "      <th>29</th>\n",
       "      <td>HH_EINKOMMEN_SCORE</td>\n",
       "      <td>2.413635</td>\n",
       "      <td>3.371734</td>\n",
       "    </tr>\n",
       "    <tr>\n",
       "      <th>110</th>\n",
       "      <td>LP_STATUS_GROB_1.0</td>\n",
       "      <td>0.008051</td>\n",
       "      <td>0.508420</td>\n",
       "    </tr>\n",
       "    <tr>\n",
       "      <th>189</th>\n",
       "      <td>WEALTH</td>\n",
       "      <td>5.394498</td>\n",
       "      <td>5.147650</td>\n",
       "    </tr>\n",
       "  </tbody>\n",
       "</table>\n",
       "</div>"
      ],
      "text/plain": [
       "                  feature  centroid 4  centroid 16\n",
       "0    ALTERSKATEGORIE_GROB    2.482471     2.866505\n",
       "4        FINANZ_VORSORGER    2.412218     3.281285\n",
       "11              SEMIO_SOZ    5.256448     3.959295\n",
       "12              SEMIO_FAM    5.607915     4.148681\n",
       "15             SEMIO_VERT    6.166171     5.168879\n",
       "29     HH_EINKOMMEN_SCORE    2.413635     3.371734\n",
       "110    LP_STATUS_GROB_1.0    0.008051     0.508420\n",
       "189                WEALTH    5.394498     5.147650"
      ]
     },
     "execution_count": 218,
     "metadata": {},
     "output_type": "execute_result"
    }
   ],
   "source": [
    "centroids_df[centroids_df[\"feature\"].isin(pos_corr)]"
   ]
  },
  {
   "cell_type": "code",
   "execution_count": 219,
   "metadata": {},
   "outputs": [
    {
     "data": {
      "text/html": [
       "<div>\n",
       "<style scoped>\n",
       "    .dataframe tbody tr th:only-of-type {\n",
       "        vertical-align: middle;\n",
       "    }\n",
       "\n",
       "    .dataframe tbody tr th {\n",
       "        vertical-align: top;\n",
       "    }\n",
       "\n",
       "    .dataframe thead th {\n",
       "        text-align: right;\n",
       "    }\n",
       "</style>\n",
       "<table border=\"1\" class=\"dataframe\">\n",
       "  <thead>\n",
       "    <tr style=\"text-align: right;\">\n",
       "      <th></th>\n",
       "      <th>feature</th>\n",
       "      <th>centroid 4</th>\n",
       "      <th>centroid 16</th>\n",
       "    </tr>\n",
       "  </thead>\n",
       "  <tbody>\n",
       "    <tr>\n",
       "      <th>1</th>\n",
       "      <td>ANREDE_KZ</td>\n",
       "      <td>0.082915</td>\n",
       "      <td>0.310501</td>\n",
       "    </tr>\n",
       "    <tr>\n",
       "      <th>2</th>\n",
       "      <td>FINANZ_MINIMALIST</td>\n",
       "      <td>4.311545</td>\n",
       "      <td>3.432703</td>\n",
       "    </tr>\n",
       "    <tr>\n",
       "      <th>3</th>\n",
       "      <td>FINANZ_SPARER</td>\n",
       "      <td>3.304988</td>\n",
       "      <td>2.763855</td>\n",
       "    </tr>\n",
       "    <tr>\n",
       "      <th>6</th>\n",
       "      <td>FINANZ_UNAUFFAELLIGER</td>\n",
       "      <td>3.981062</td>\n",
       "      <td>3.501446</td>\n",
       "    </tr>\n",
       "    <tr>\n",
       "      <th>21</th>\n",
       "      <td>SEMIO_DOM</td>\n",
       "      <td>3.300608</td>\n",
       "      <td>3.993930</td>\n",
       "    </tr>\n",
       "    <tr>\n",
       "      <th>22</th>\n",
       "      <td>SEMIO_KAEM</td>\n",
       "      <td>2.815207</td>\n",
       "      <td>3.748831</td>\n",
       "    </tr>\n",
       "    <tr>\n",
       "      <th>41</th>\n",
       "      <td>KBA05_GBZ</td>\n",
       "      <td>3.758522</td>\n",
       "      <td>3.934581</td>\n",
       "    </tr>\n",
       "    <tr>\n",
       "      <th>47</th>\n",
       "      <td>MOBI_REGIO</td>\n",
       "      <td>3.796916</td>\n",
       "      <td>3.734114</td>\n",
       "    </tr>\n",
       "    <tr>\n",
       "      <th>188</th>\n",
       "      <td>DECADE</td>\n",
       "      <td>0.909475</td>\n",
       "      <td>0.481165</td>\n",
       "    </tr>\n",
       "  </tbody>\n",
       "</table>\n",
       "</div>"
      ],
      "text/plain": [
       "                   feature  centroid 4  centroid 16\n",
       "1                ANREDE_KZ    0.082915     0.310501\n",
       "2        FINANZ_MINIMALIST    4.311545     3.432703\n",
       "3            FINANZ_SPARER    3.304988     2.763855\n",
       "6    FINANZ_UNAUFFAELLIGER    3.981062     3.501446\n",
       "21               SEMIO_DOM    3.300608     3.993930\n",
       "22              SEMIO_KAEM    2.815207     3.748831\n",
       "41               KBA05_GBZ    3.758522     3.934581\n",
       "47              MOBI_REGIO    3.796916     3.734114\n",
       "188                 DECADE    0.909475     0.481165"
      ]
     },
     "execution_count": 219,
     "metadata": {},
     "output_type": "execute_result"
    }
   ],
   "source": [
    "centroids_df[centroids_df[\"feature\"].isin(neg_corr)]"
   ]
  },
  {
   "cell_type": "code",
   "execution_count": 233,
   "metadata": {},
   "outputs": [
    {
     "data": {
      "text/html": [
       "<div>\n",
       "<style scoped>\n",
       "    .dataframe tbody tr th:only-of-type {\n",
       "        vertical-align: middle;\n",
       "    }\n",
       "\n",
       "    .dataframe tbody tr th {\n",
       "        vertical-align: top;\n",
       "    }\n",
       "\n",
       "    .dataframe thead th {\n",
       "        text-align: right;\n",
       "    }\n",
       "</style>\n",
       "<table border=\"1\" class=\"dataframe\">\n",
       "  <thead>\n",
       "    <tr style=\"text-align: right;\">\n",
       "      <th></th>\n",
       "      <th>feature</th>\n",
       "      <th>centroid4</th>\n",
       "      <th>centroid16</th>\n",
       "    </tr>\n",
       "  </thead>\n",
       "  <tbody>\n",
       "    <tr>\n",
       "      <th>2</th>\n",
       "      <td>FINANZ_MINIMALIST</td>\n",
       "      <td>4.311545</td>\n",
       "      <td>3.432703</td>\n",
       "    </tr>\n",
       "    <tr>\n",
       "      <th>11</th>\n",
       "      <td>SEMIO_SOZ</td>\n",
       "      <td>5.256448</td>\n",
       "      <td>3.959295</td>\n",
       "    </tr>\n",
       "    <tr>\n",
       "      <th>12</th>\n",
       "      <td>SEMIO_FAM</td>\n",
       "      <td>5.607915</td>\n",
       "      <td>4.148681</td>\n",
       "    </tr>\n",
       "    <tr>\n",
       "      <th>13</th>\n",
       "      <td>SEMIO_REL</td>\n",
       "      <td>5.024242</td>\n",
       "      <td>3.598845</td>\n",
       "    </tr>\n",
       "    <tr>\n",
       "      <th>14</th>\n",
       "      <td>SEMIO_MAT</td>\n",
       "      <td>4.955303</td>\n",
       "      <td>3.063482</td>\n",
       "    </tr>\n",
       "    <tr>\n",
       "      <th>15</th>\n",
       "      <td>SEMIO_VERT</td>\n",
       "      <td>6.166171</td>\n",
       "      <td>5.168879</td>\n",
       "    </tr>\n",
       "    <tr>\n",
       "      <th>18</th>\n",
       "      <td>SEMIO_KULT</td>\n",
       "      <td>5.582991</td>\n",
       "      <td>4.260605</td>\n",
       "    </tr>\n",
       "    <tr>\n",
       "      <th>23</th>\n",
       "      <td>SEMIO_PFLICHT</td>\n",
       "      <td>4.509615</td>\n",
       "      <td>3.238929</td>\n",
       "    </tr>\n",
       "    <tr>\n",
       "      <th>24</th>\n",
       "      <td>SEMIO_TRADV</td>\n",
       "      <td>4.271021</td>\n",
       "      <td>3.722475</td>\n",
       "    </tr>\n",
       "    <tr>\n",
       "      <th>31</th>\n",
       "      <td>WOHNDAUER_2008</td>\n",
       "      <td>8.250103</td>\n",
       "      <td>7.468035</td>\n",
       "    </tr>\n",
       "    <tr>\n",
       "      <th>35</th>\n",
       "      <td>MIN_GEBAEUDEJAHR</td>\n",
       "      <td>1996.723181</td>\n",
       "      <td>1995.482800</td>\n",
       "    </tr>\n",
       "    <tr>\n",
       "      <th>42</th>\n",
       "      <td>BALLRAUM</td>\n",
       "      <td>4.260329</td>\n",
       "      <td>2.284999</td>\n",
       "    </tr>\n",
       "    <tr>\n",
       "      <th>44</th>\n",
       "      <td>INNENSTADT</td>\n",
       "      <td>4.750013</td>\n",
       "      <td>3.101056</td>\n",
       "    </tr>\n",
       "    <tr>\n",
       "      <th>45</th>\n",
       "      <td>GEBAEUDETYP_RASTER</td>\n",
       "      <td>4.121577</td>\n",
       "      <td>3.449415</td>\n",
       "    </tr>\n",
       "    <tr>\n",
       "      <th>48</th>\n",
       "      <td>ONLINE_AFFINITAET</td>\n",
       "      <td>4.112312</td>\n",
       "      <td>4.533536</td>\n",
       "    </tr>\n",
       "    <tr>\n",
       "      <th>50</th>\n",
       "      <td>KBA13_ANZAHL_PKW</td>\n",
       "      <td>746.390786</td>\n",
       "      <td>880.572614</td>\n",
       "    </tr>\n",
       "    <tr>\n",
       "      <th>58</th>\n",
       "      <td>ORTSGR_KLS9</td>\n",
       "      <td>5.125591</td>\n",
       "      <td>7.475146</td>\n",
       "    </tr>\n",
       "    <tr>\n",
       "      <th>189</th>\n",
       "      <td>WEALTH</td>\n",
       "      <td>5.394498</td>\n",
       "      <td>5.147650</td>\n",
       "    </tr>\n",
       "    <tr>\n",
       "      <th>190</th>\n",
       "      <td>LIFE_STAGE</td>\n",
       "      <td>25.967600</td>\n",
       "      <td>27.622357</td>\n",
       "    </tr>\n",
       "    <tr>\n",
       "      <th>191</th>\n",
       "      <td>GEBAEUDETYP_5.0</td>\n",
       "      <td>25.967600</td>\n",
       "      <td>27.622357</td>\n",
       "    </tr>\n",
       "  </tbody>\n",
       "</table>\n",
       "</div>"
      ],
      "text/plain": [
       "                feature    centroid4   centroid16\n",
       "2     FINANZ_MINIMALIST     4.311545     3.432703\n",
       "11            SEMIO_SOZ     5.256448     3.959295\n",
       "12            SEMIO_FAM     5.607915     4.148681\n",
       "13            SEMIO_REL     5.024242     3.598845\n",
       "14            SEMIO_MAT     4.955303     3.063482\n",
       "15           SEMIO_VERT     6.166171     5.168879\n",
       "18           SEMIO_KULT     5.582991     4.260605\n",
       "23        SEMIO_PFLICHT     4.509615     3.238929\n",
       "24          SEMIO_TRADV     4.271021     3.722475\n",
       "31       WOHNDAUER_2008     8.250103     7.468035\n",
       "35     MIN_GEBAEUDEJAHR  1996.723181  1995.482800\n",
       "42             BALLRAUM     4.260329     2.284999\n",
       "44           INNENSTADT     4.750013     3.101056\n",
       "45   GEBAEUDETYP_RASTER     4.121577     3.449415\n",
       "48    ONLINE_AFFINITAET     4.112312     4.533536\n",
       "50     KBA13_ANZAHL_PKW   746.390786   880.572614\n",
       "58          ORTSGR_KLS9     5.125591     7.475146\n",
       "189              WEALTH     5.394498     5.147650\n",
       "190          LIFE_STAGE    25.967600    27.622357\n",
       "191     GEBAEUDETYP_5.0    25.967600    27.622357"
      ]
     },
     "execution_count": 233,
     "metadata": {},
     "output_type": "execute_result"
    }
   ],
   "source": [
    "centroids_df[centroids_df[\"centroid4\"]>4]"
   ]
  },
  {
   "cell_type": "code",
   "execution_count": 234,
   "metadata": {},
   "outputs": [
    {
     "data": {
      "text/html": [
       "<div>\n",
       "<style scoped>\n",
       "    .dataframe tbody tr th:only-of-type {\n",
       "        vertical-align: middle;\n",
       "    }\n",
       "\n",
       "    .dataframe tbody tr th {\n",
       "        vertical-align: top;\n",
       "    }\n",
       "\n",
       "    .dataframe thead th {\n",
       "        text-align: right;\n",
       "    }\n",
       "</style>\n",
       "<table border=\"1\" class=\"dataframe\">\n",
       "  <thead>\n",
       "    <tr style=\"text-align: right;\">\n",
       "      <th></th>\n",
       "      <th>feature</th>\n",
       "      <th>centroid4</th>\n",
       "      <th>centroid16</th>\n",
       "    </tr>\n",
       "  </thead>\n",
       "  <tbody>\n",
       "    <tr>\n",
       "      <th>1</th>\n",
       "      <td>ANREDE_KZ</td>\n",
       "      <td>0.082915</td>\n",
       "      <td>0.310501</td>\n",
       "    </tr>\n",
       "  </tbody>\n",
       "</table>\n",
       "</div>"
      ],
      "text/plain": [
       "     feature  centroid4  centroid16\n",
       "1  ANREDE_KZ   0.082915    0.310501"
      ]
     },
     "execution_count": 234,
     "metadata": {},
     "output_type": "execute_result"
    }
   ],
   "source": [
    "centroids_df[centroids_df[\"feature\"]==\"ANREDE_KZ\"]"
   ]
  },
  {
   "cell_type": "code",
   "execution_count": 228,
   "metadata": {},
   "outputs": [
    {
     "data": {
      "text/html": [
       "<div>\n",
       "<style scoped>\n",
       "    .dataframe tbody tr th:only-of-type {\n",
       "        vertical-align: middle;\n",
       "    }\n",
       "\n",
       "    .dataframe tbody tr th {\n",
       "        vertical-align: top;\n",
       "    }\n",
       "\n",
       "    .dataframe thead th {\n",
       "        text-align: right;\n",
       "    }\n",
       "</style>\n",
       "<table border=\"1\" class=\"dataframe\">\n",
       "  <thead>\n",
       "    <tr style=\"text-align: right;\">\n",
       "      <th></th>\n",
       "      <th>feature</th>\n",
       "      <th>centroid4</th>\n",
       "      <th>centroid16</th>\n",
       "    </tr>\n",
       "  </thead>\n",
       "  <tbody>\n",
       "    <tr>\n",
       "      <th>12</th>\n",
       "      <td>SEMIO_FAM</td>\n",
       "      <td>5.607915</td>\n",
       "      <td>4.148681</td>\n",
       "    </tr>\n",
       "    <tr>\n",
       "      <th>15</th>\n",
       "      <td>SEMIO_VERT</td>\n",
       "      <td>6.166171</td>\n",
       "      <td>5.168879</td>\n",
       "    </tr>\n",
       "    <tr>\n",
       "      <th>18</th>\n",
       "      <td>SEMIO_KULT</td>\n",
       "      <td>5.582991</td>\n",
       "      <td>4.260605</td>\n",
       "    </tr>\n",
       "    <tr>\n",
       "      <th>20</th>\n",
       "      <td>SEMIO_KRIT</td>\n",
       "      <td>3.394345</td>\n",
       "      <td>4.473237</td>\n",
       "    </tr>\n",
       "    <tr>\n",
       "      <th>31</th>\n",
       "      <td>WOHNDAUER_2008</td>\n",
       "      <td>8.250103</td>\n",
       "      <td>7.468035</td>\n",
       "    </tr>\n",
       "    <tr>\n",
       "      <th>35</th>\n",
       "      <td>MIN_GEBAEUDEJAHR</td>\n",
       "      <td>1996.723181</td>\n",
       "      <td>1995.482800</td>\n",
       "    </tr>\n",
       "    <tr>\n",
       "      <th>43</th>\n",
       "      <td>EWDICHTE</td>\n",
       "      <td>3.838644</td>\n",
       "      <td>5.412341</td>\n",
       "    </tr>\n",
       "    <tr>\n",
       "      <th>48</th>\n",
       "      <td>ONLINE_AFFINITAET</td>\n",
       "      <td>4.112312</td>\n",
       "      <td>4.533536</td>\n",
       "    </tr>\n",
       "    <tr>\n",
       "      <th>49</th>\n",
       "      <td>REGIOTYP</td>\n",
       "      <td>3.699946</td>\n",
       "      <td>4.177845</td>\n",
       "    </tr>\n",
       "    <tr>\n",
       "      <th>50</th>\n",
       "      <td>KBA13_ANZAHL_PKW</td>\n",
       "      <td>746.390786</td>\n",
       "      <td>880.572614</td>\n",
       "    </tr>\n",
       "    <tr>\n",
       "      <th>55</th>\n",
       "      <td>PLZ8_HHZ</td>\n",
       "      <td>3.835439</td>\n",
       "      <td>4.565121</td>\n",
       "    </tr>\n",
       "    <tr>\n",
       "      <th>56</th>\n",
       "      <td>PLZ8_GBZ</td>\n",
       "      <td>3.996530</td>\n",
       "      <td>4.205783</td>\n",
       "    </tr>\n",
       "    <tr>\n",
       "      <th>58</th>\n",
       "      <td>ORTSGR_KLS9</td>\n",
       "      <td>5.125591</td>\n",
       "      <td>7.475146</td>\n",
       "    </tr>\n",
       "    <tr>\n",
       "      <th>189</th>\n",
       "      <td>WEALTH</td>\n",
       "      <td>5.394498</td>\n",
       "      <td>5.147650</td>\n",
       "    </tr>\n",
       "    <tr>\n",
       "      <th>190</th>\n",
       "      <td>LIFE_STAGE</td>\n",
       "      <td>25.967600</td>\n",
       "      <td>27.622357</td>\n",
       "    </tr>\n",
       "    <tr>\n",
       "      <th>191</th>\n",
       "      <td>GEBAEUDETYP_5.0</td>\n",
       "      <td>25.967600</td>\n",
       "      <td>27.622357</td>\n",
       "    </tr>\n",
       "  </tbody>\n",
       "</table>\n",
       "</div>"
      ],
      "text/plain": [
       "               feature    centroid4   centroid16\n",
       "12           SEMIO_FAM     5.607915     4.148681\n",
       "15          SEMIO_VERT     6.166171     5.168879\n",
       "18          SEMIO_KULT     5.582991     4.260605\n",
       "20          SEMIO_KRIT     3.394345     4.473237\n",
       "31      WOHNDAUER_2008     8.250103     7.468035\n",
       "35    MIN_GEBAEUDEJAHR  1996.723181  1995.482800\n",
       "43            EWDICHTE     3.838644     5.412341\n",
       "48   ONLINE_AFFINITAET     4.112312     4.533536\n",
       "49            REGIOTYP     3.699946     4.177845\n",
       "50    KBA13_ANZAHL_PKW   746.390786   880.572614\n",
       "55            PLZ8_HHZ     3.835439     4.565121\n",
       "56            PLZ8_GBZ     3.996530     4.205783\n",
       "58         ORTSGR_KLS9     5.125591     7.475146\n",
       "189             WEALTH     5.394498     5.147650\n",
       "190         LIFE_STAGE    25.967600    27.622357\n",
       "191    GEBAEUDETYP_5.0    25.967600    27.622357"
      ]
     },
     "execution_count": 228,
     "metadata": {},
     "output_type": "execute_result"
    }
   ],
   "source": [
    "centroids_df[centroids_df[\"centroid16\"]>4]"
   ]
  },
  {
   "cell_type": "markdown",
   "metadata": {},
   "source": [
    "### Discussion 3.3: Compare Customer Data to Demographics Data\n",
    "Based on above two plots we can say that,\n",
    "\n",
    "The mail-order sales company is most popular with people in clusters 4, 5 and 7, while it is least popular with people in clusters 5, 8 and 14. One interesting thing about cluster 16 is that it is a fairly small cluster in the general population. Whereas, cluster 4 is overestimated compared to the general population.\n",
    "\n",
    "The cluster centers for cluster 4 (for 13 principal components) as below:"
   ]
  },
  {
   "cell_type": "code",
   "execution_count": 214,
   "metadata": {},
   "outputs": [
    {
     "data": {
      "text/plain": [
       "array([ 2.48247078,  0.08291463,  4.31154515,  3.30498797,  2.4122175 ,\n",
       "        2.75558255,  3.981062  ,  0.82114022,  0.90555928,  2.10031377,\n",
       "        3.16461578,  5.25644761,  5.60791521,  5.02424239,  4.95530299,\n",
       "        6.16617131,  3.69399068])"
      ]
     },
     "execution_count": 214,
     "metadata": {},
     "output_type": "execute_result"
    }
   ],
   "source": [
    "centroid_4[:17]"
   ]
  },
  {
   "cell_type": "markdown",
   "metadata": {},
   "source": [
    "And cluster centers for 16 as below,"
   ]
  },
  {
   "cell_type": "code",
   "execution_count": 215,
   "metadata": {},
   "outputs": [
    {
     "data": {
      "text/plain": [
       "array([ 2.86650459,  0.31050051,  3.43270289,  2.76385481,  3.28128467,\n",
       "        1.85045251,  3.50144563,  1.94775484,  0.49897927,  2.22003973,\n",
       "        3.01785974,  3.95929515,  4.1486806 ,  3.5988452 ,  3.06348187,\n",
       "        5.16887909,  3.25764294])"
      ]
     },
     "execution_count": 215,
     "metadata": {},
     "output_type": "execute_result"
    }
   ],
   "source": [
    "centroid_16[:17]"
   ]
  },
  {
   "cell_type": "markdown",
   "metadata": {},
   "source": [
    "Then we can write the discussion section as below, by referencing to data dictionary and the weights of principal components ( Refer Step 2.3: Interpret Principal Components) as below,\n",
    "\n",
    "Cluster 4 has its largest coefficients on: \n",
    "- SEMIO_VERT (Personality typology:dreamful) \n",
    "- SEMIO_SOZ (Personality typology:socially-minded)\n",
    "- SEMIO_FAM (Personality typology:family-minded)\n",
    "- FINANZ_MINIMALIST (minimalist financially)\n",
    "- ANREDE_KZ(Male) = 0.082915\n",
    "We conclude that the customer is a male, who has personality dreamful, socially-minded, family-minded, and is a minimalist.\n",
    "\n",
    "Cluster 16 has its largest coefficients on: \n",
    "- ANREDE_KZ(Male) = 0.310501\n",
    "- WOHNDAUER_2008 (Length of residence-length of residence 6-7 years) = 7.468035\n",
    "- ORTSGR_KLS9(Size of community -  100,001 to 300,000 inhabitants) = 7.475146\n",
    "- SEMIO_VERT (Personality typology:dreamful) \n",
    "- SEMIO_KRIT (Personality typology:critical-minded)\n",
    "We conclude that the customer is a male, who has personality dreamful, critical-minded, lives in community of size (100,001 to 300,000 inhabitants) and have a lengthly residence of 6-7 years."
   ]
  },
  {
   "cell_type": "markdown",
   "metadata": {},
   "source": [
    "> Congratulations on making it this far in the project! Before you finish, make sure to check through the entire notebook from top to bottom to make sure that your analysis follows a logical flow and all of your findings are documented in **Discussion** cells. Once you've checked over all of your work, you should export the notebook as an HTML document to submit for evaluation. You can do this from the menu, navigating to **File -> Download as -> HTML (.html)**. You will submit both that document and this notebook for your project submission."
   ]
  },
  {
   "cell_type": "code",
   "execution_count": 235,
   "metadata": {},
   "outputs": [
    {
     "data": {
      "text/plain": [
       "['[NbConvertApp] Converting notebook Identify_Customer_Segments.ipynb to html',\n",
       " '[NbConvertApp] Writing 687003 bytes to Identify_Customer_Segments.html']"
      ]
     },
     "execution_count": 235,
     "metadata": {},
     "output_type": "execute_result"
    }
   ],
   "source": [
    "!!jupyter nbconvert *.ipynb"
   ]
  }
 ],
 "metadata": {
  "kernelspec": {
   "display_name": "Python 3",
   "language": "python",
   "name": "python3"
  },
  "language_info": {
   "codemirror_mode": {
    "name": "ipython",
    "version": 3
   },
   "file_extension": ".py",
   "mimetype": "text/x-python",
   "name": "python",
   "nbconvert_exporter": "python",
   "pygments_lexer": "ipython3",
   "version": "3.6.3"
  }
 },
 "nbformat": 4,
 "nbformat_minor": 2
}
